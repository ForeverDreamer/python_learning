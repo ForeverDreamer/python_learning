{
 "cells": [
  {
   "cell_type": "markdown",
   "metadata": {},
   "source": [
    "# 1 Metaclasses"
   ]
  },
  {
   "cell_type": "code",
   "execution_count": 1,
   "metadata": {},
   "outputs": [],
   "source": [
    "class Widget:\n",
    "    pass\n",
    "\n",
    "# 相当于这样定义:\n",
    "# Default Base Class is object, Default Metaclass is type\n",
    "# class Widget(object, metaclass=type):\n",
    "#     pass"
   ]
  },
  {
   "cell_type": "code",
   "execution_count": 2,
   "metadata": {},
   "outputs": [
    {
     "data": {
      "text/plain": [
       "<__main__.Widget at 0x275e2a068d0>"
      ]
     },
     "execution_count": 2,
     "metadata": {},
     "output_type": "execute_result"
    }
   ],
   "source": [
    "w = Widget()\n",
    "w"
   ]
  },
  {
   "cell_type": "code",
   "execution_count": 3,
   "metadata": {},
   "outputs": [
    {
     "data": {
      "text/plain": [
       "__main__.Widget"
      ]
     },
     "execution_count": 3,
     "metadata": {},
     "output_type": "execute_result"
    }
   ],
   "source": [
    "type(w)"
   ]
  },
  {
   "cell_type": "code",
   "execution_count": 4,
   "metadata": {},
   "outputs": [
    {
     "data": {
      "text/plain": [
       "type"
      ]
     },
     "execution_count": 4,
     "metadata": {},
     "output_type": "execute_result"
    }
   ],
   "source": [
    "type(Widget)"
   ]
  },
  {
   "cell_type": "code",
   "execution_count": 5,
   "metadata": {},
   "outputs": [
    {
     "data": {
      "text/plain": [
       "['A', ' ', 'l', 'i', 's', 't']"
      ]
     },
     "execution_count": 5,
     "metadata": {},
     "output_type": "execute_result"
    }
   ],
   "source": [
    "a = list(\"A list\")\n",
    "a"
   ]
  },
  {
   "cell_type": "code",
   "execution_count": 6,
   "metadata": {},
   "outputs": [
    {
     "data": {
      "text/plain": [
       "list"
      ]
     },
     "execution_count": 6,
     "metadata": {},
     "output_type": "execute_result"
    }
   ],
   "source": [
    "type(a)"
   ]
  },
  {
   "cell_type": "code",
   "execution_count": 7,
   "metadata": {},
   "outputs": [
    {
     "data": {
      "text/plain": [
       "type"
      ]
     },
     "execution_count": 7,
     "metadata": {},
     "output_type": "execute_result"
    }
   ],
   "source": [
    "type(list)"
   ]
  },
  {
   "cell_type": "code",
   "execution_count": 8,
   "metadata": {},
   "outputs": [
    {
     "data": {
      "text/plain": [
       "type"
      ]
     },
     "execution_count": 8,
     "metadata": {},
     "output_type": "execute_result"
    }
   ],
   "source": [
    "type(type)"
   ]
  },
  {
   "cell_type": "code",
   "execution_count": 9,
   "metadata": {},
   "outputs": [
    {
     "data": {
      "text/plain": [
       "<__main__.Widget at 0x275e2a068d0>"
      ]
     },
     "execution_count": 9,
     "metadata": {},
     "output_type": "execute_result"
    }
   ],
   "source": [
    "w"
   ]
  },
  {
   "cell_type": "code",
   "execution_count": 10,
   "metadata": {},
   "outputs": [
    {
     "data": {
      "text/plain": [
       "__main__.Widget"
      ]
     },
     "execution_count": 10,
     "metadata": {},
     "output_type": "execute_result"
    }
   ],
   "source": [
    "w.__class__"
   ]
  },
  {
   "cell_type": "code",
   "execution_count": 11,
   "metadata": {},
   "outputs": [
    {
     "data": {
      "text/plain": [
       "type"
      ]
     },
     "execution_count": 11,
     "metadata": {},
     "output_type": "execute_result"
    }
   ],
   "source": [
    "w.__class__.__class__"
   ]
  },
  {
   "cell_type": "code",
   "execution_count": 12,
   "metadata": {},
   "outputs": [
    {
     "data": {
      "text/plain": [
       "type"
      ]
     },
     "execution_count": 12,
     "metadata": {},
     "output_type": "execute_result"
    }
   ],
   "source": [
    "w.__class__.__class__.__class__"
   ]
  },
  {
   "cell_type": "markdown",
   "metadata": {},
   "source": [
    "# 2 Class Allocation and Initialization"
   ]
  },
  {
   "cell_type": "code",
   "execution_count": 13,
   "metadata": {},
   "outputs": [],
   "source": [
    "class TracingMeta(type):\n",
    "\n",
    "    @classmethod\n",
    "    def __prepare__(mcs, name, bases, **kwargs):\n",
    "        print(\"TracingMeta.__prepare__(name, bases, **kwargs)\")\n",
    "        print(\"  mcs =\", mcs)\n",
    "        print(\"  name =\", name)\n",
    "        print(\"  bases =\", bases)\n",
    "        print(\"  kwargs =\", kwargs)\n",
    "        namespace = super().__prepare__(name, bases)\n",
    "        print(\"<-- namespace =\", namespace)\n",
    "        print()\n",
    "        return namespace\n",
    "\n",
    "    def __new__(mcs, name, bases, namespace, **kwargs):\n",
    "        print(\"TracingMeta.__new__(mcs, name, bases, namespace, **kwargs)\")\n",
    "        print(\"  mcs =\", mcs)\n",
    "        print(\"  name =\", name)\n",
    "        print(\"  bases =\", bases)\n",
    "        print(\"  namespace =\", namespace)\n",
    "        print(\"  kwargs =\", kwargs)\n",
    "        cls = super().__new__(mcs, name, bases, namespace)\n",
    "        print(\"<-- cls =\", cls)\n",
    "        print()\n",
    "        return cls\n",
    "\n",
    "    def __init__(cls, name, bases, namespace, **kwargs):\n",
    "        print(\"TracingMeta.__init__(cls, name, bases, namespace, **kwargs)\")\n",
    "        print(\"  cls =\", cls)\n",
    "        print(\"  name =\", name)\n",
    "        print(\"  bases =\", bases)\n",
    "        print(\"  namespace =\", namespace)\n",
    "        print(\"  kwargs =\", kwargs)\n",
    "        super().__init__(name, bases, namespace)\n",
    "        print()\n",
    "\n",
    "    def metamethod(cls):\n",
    "        print(\"TracingMeta.metamethod(cls)\")\n",
    "        print(\"  cls = \", cls)\n",
    "        print()\n",
    "\n",
    "    def __call__(cls, *args, **kwargs):\n",
    "        print(\"TracingMeta.__call__(cls, *args, **kwargs)\")\n",
    "        print(\"  cls =\", cls)\n",
    "        print(\"  args =\", args)\n",
    "        print(\"  kwargs =\", kwargs)\n",
    "        print(\"  About to call type.__call__()\")\n",
    "        obj = super().__call__(*args, **kwargs)\n",
    "        print(\"  Returned from type.__call__()\")\n",
    "        print(\"<-- obj =\", obj)\n",
    "        print()\n",
    "        return obj"
   ]
  },
  {
   "cell_type": "code",
   "execution_count": 14,
   "metadata": {},
   "outputs": [
    {
     "name": "stdout",
     "output_type": "stream",
     "text": [
      "TracingMeta.__prepare__(name, bases, **kwargs)\n",
      "  mcs = <class '__main__.TracingMeta'>\n",
      "  name = Widget\n",
      "  bases = ()\n",
      "  kwargs = {}\n",
      "<-- namespace = {}\n",
      "\n",
      "TracingMeta.__new__(mcs, name, bases, namespace, **kwargs)\n",
      "  mcs = <class '__main__.TracingMeta'>\n",
      "  name = Widget\n",
      "  bases = ()\n",
      "  namespace = {'__module__': '__main__', '__qualname__': 'Widget', 'action': <function Widget.action at 0x00000275E29FED90>, 'the_answer': 42}\n",
      "  kwargs = {}\n",
      "<-- cls = <class '__main__.Widget'>\n",
      "\n",
      "TracingMeta.__init__(cls, name, bases, namespace, **kwargs)\n",
      "  cls = <class '__main__.Widget'>\n",
      "  name = Widget\n",
      "  bases = ()\n",
      "  namespace = {'__module__': '__main__', '__qualname__': 'Widget', 'action': <function Widget.action at 0x00000275E29FED90>, 'the_answer': 42}\n",
      "  kwargs = {}\n",
      "\n"
     ]
    }
   ],
   "source": [
    "class Widget(metaclass=TracingMeta):\n",
    "    def action(message):\n",
    "        print(message)\n",
    "        \n",
    "    the_answer = 42"
   ]
  },
  {
   "cell_type": "markdown",
   "metadata": {},
   "source": [
    "# 3  Metaclass Keyword Arguments"
   ]
  },
  {
   "cell_type": "code",
   "execution_count": 15,
   "metadata": {},
   "outputs": [
    {
     "name": "stdout",
     "output_type": "stream",
     "text": [
      "TracingMeta.__prepare__(name, bases, **kwargs)\n",
      "  mcs = <class '__main__.TracingMeta'>\n",
      "  name = Reticulator\n",
      "  bases = ()\n",
      "  kwargs = {'tension': 496}\n",
      "<-- namespace = {}\n",
      "\n",
      "TracingMeta.__new__(mcs, name, bases, namespace, **kwargs)\n",
      "  mcs = <class '__main__.TracingMeta'>\n",
      "  name = Reticulator\n",
      "  bases = ()\n",
      "  namespace = {'__module__': '__main__', '__qualname__': 'Reticulator', 'reticulator': <function Reticulator.reticulator at 0x00000275E2A3F400>, 'cubic': True}\n",
      "  kwargs = {'tension': 496}\n",
      "<-- cls = <class '__main__.Reticulator'>\n",
      "\n",
      "TracingMeta.__init__(cls, name, bases, namespace, **kwargs)\n",
      "  cls = <class '__main__.Reticulator'>\n",
      "  name = Reticulator\n",
      "  bases = ()\n",
      "  namespace = {'__module__': '__main__', '__qualname__': 'Reticulator', 'reticulator': <function Reticulator.reticulator at 0x00000275E2A3F400>, 'cubic': True}\n",
      "  kwargs = {'tension': 496}\n",
      "\n"
     ]
    }
   ],
   "source": [
    "class Reticulator(metaclass=TracingMeta, tension=496):\n",
    "    def reticulator(self, spline):\n",
    "        print(spline)\n",
    "        \n",
    "    cubic = True"
   ]
  },
  {
   "cell_type": "code",
   "execution_count": 16,
   "metadata": {},
   "outputs": [],
   "source": [
    "\n",
    "class EntriesMeta(type):\n",
    "\n",
    "    @classmethod\n",
    "    def __prepare__(mcs, name, bases, **kwargs):\n",
    "        print(\"Entries.__prepare__(name, bases, **kwargs)\")\n",
    "        print(\"  mcs =\", mcs)\n",
    "        print(\"  name =\", name)\n",
    "        print(\"  bases =\", bases)\n",
    "        print(\"  kwargs =\", kwargs)\n",
    "        namespace = super().__prepare__(name, bases, **kwargs)\n",
    "        print(\"<-- namespace =\", namespace)\n",
    "        print()\n",
    "        return namespace\n",
    "\n",
    "    def __new__(mcs, name, bases, namespace, num_entries, **kwargs):\n",
    "        print(\"Entries.__new__(mcs, name, bases, namespace, **kwargs)\")\n",
    "        print(\"  mcs =\", mcs)\n",
    "        print(\"  name =\", name)\n",
    "        print(\"  bases =\", bases)\n",
    "        print(\"  namespace =\", namespace)\n",
    "        print(\"  kwargs =\", kwargs)\n",
    "        print(\"  num_entries =\", num_entries)\n",
    "        namespace.update({chr(i): i for i in range(ord('a'), ord('a')+num_entries)})\n",
    "        cls = super().__new__(mcs, name, bases, namespace)\n",
    "        print(\"<-- cls =\", cls)\n",
    "        print()\n",
    "        return cls\n",
    "\n",
    "    def __init__(cls, name, bases, namespace, **kwargs):\n",
    "        print(\"Entries.__init__(cls, name, bases, namespace, **kwargs)\")\n",
    "        print(\"  cls =\", cls)\n",
    "        print(\"  name =\", name)\n",
    "        print(\"  bases =\", bases)\n",
    "        print(\"  namespace =\", namespace)\n",
    "        print(\"  kwargs =\", kwargs)\n",
    "        super().__init__(name, bases, namespace)\n",
    "        print()\n",
    "\n"
   ]
  },
  {
   "cell_type": "code",
   "execution_count": 17,
   "metadata": {},
   "outputs": [
    {
     "name": "stdout",
     "output_type": "stream",
     "text": [
      "Entries.__prepare__(name, bases, **kwargs)\n",
      "  mcs = <class '__main__.EntriesMeta'>\n",
      "  name = AtoZ\n",
      "  bases = ()\n",
      "  kwargs = {'num_entries': 26}\n",
      "<-- namespace = {}\n",
      "\n",
      "Entries.__new__(mcs, name, bases, namespace, **kwargs)\n",
      "  mcs = <class '__main__.EntriesMeta'>\n",
      "  name = AtoZ\n",
      "  bases = ()\n",
      "  namespace = {'__module__': '__main__', '__qualname__': 'AtoZ'}\n",
      "  kwargs = {}\n",
      "  num_entries = 26\n",
      "<-- cls = <class '__main__.AtoZ'>\n",
      "\n",
      "Entries.__init__(cls, name, bases, namespace, **kwargs)\n",
      "  cls = <class '__main__.AtoZ'>\n",
      "  name = AtoZ\n",
      "  bases = ()\n",
      "  namespace = {'__module__': '__main__', '__qualname__': 'AtoZ', 'a': 97, 'b': 98, 'c': 99, 'd': 100, 'e': 101, 'f': 102, 'g': 103, 'h': 104, 'i': 105, 'j': 106, 'k': 107, 'l': 108, 'm': 109, 'n': 110, 'o': 111, 'p': 112, 'q': 113, 'r': 114, 's': 115, 't': 116, 'u': 117, 'v': 118, 'w': 119, 'x': 120, 'y': 121, 'z': 122}\n",
      "  kwargs = {'num_entries': 26}\n",
      "\n"
     ]
    }
   ],
   "source": [
    "class AtoZ(metaclass=EntriesMeta, num_entries=26):\n",
    "    pass"
   ]
  },
  {
   "cell_type": "code",
   "execution_count": 18,
   "metadata": {},
   "outputs": [
    {
     "data": {
      "text/plain": [
       "['__class__',\n",
       " '__delattr__',\n",
       " '__dict__',\n",
       " '__dir__',\n",
       " '__doc__',\n",
       " '__eq__',\n",
       " '__format__',\n",
       " '__ge__',\n",
       " '__getattribute__',\n",
       " '__gt__',\n",
       " '__hash__',\n",
       " '__init__',\n",
       " '__init_subclass__',\n",
       " '__le__',\n",
       " '__lt__',\n",
       " '__module__',\n",
       " '__ne__',\n",
       " '__new__',\n",
       " '__reduce__',\n",
       " '__reduce_ex__',\n",
       " '__repr__',\n",
       " '__setattr__',\n",
       " '__sizeof__',\n",
       " '__str__',\n",
       " '__subclasshook__',\n",
       " '__weakref__',\n",
       " 'a',\n",
       " 'b',\n",
       " 'c',\n",
       " 'd',\n",
       " 'e',\n",
       " 'f',\n",
       " 'g',\n",
       " 'h',\n",
       " 'i',\n",
       " 'j',\n",
       " 'k',\n",
       " 'l',\n",
       " 'm',\n",
       " 'n',\n",
       " 'o',\n",
       " 'p',\n",
       " 'q',\n",
       " 'r',\n",
       " 's',\n",
       " 't',\n",
       " 'u',\n",
       " 'v',\n",
       " 'w',\n",
       " 'x',\n",
       " 'y',\n",
       " 'z']"
      ]
     },
     "execution_count": 18,
     "metadata": {},
     "output_type": "execute_result"
    }
   ],
   "source": [
    "dir(AtoZ)"
   ]
  },
  {
   "cell_type": "code",
   "execution_count": 19,
   "metadata": {},
   "outputs": [
    {
     "data": {
      "text/plain": [
       "120"
      ]
     },
     "execution_count": 19,
     "metadata": {},
     "output_type": "execute_result"
    }
   ],
   "source": [
    "AtoZ.x"
   ]
  },
  {
   "cell_type": "markdown",
   "metadata": {},
   "source": [
    "# 4 Metaclass Method Visibility"
   ]
  },
  {
   "cell_type": "code",
   "execution_count": 20,
   "metadata": {},
   "outputs": [
    {
     "name": "stdout",
     "output_type": "stream",
     "text": [
      "TracingMeta.__prepare__(name, bases, **kwargs)\n",
      "  mcs = <class '__main__.TracingMeta'>\n",
      "  name = Widget\n",
      "  bases = ()\n",
      "  kwargs = {}\n",
      "<-- namespace = {}\n",
      "\n",
      "TracingMeta.__new__(mcs, name, bases, namespace, **kwargs)\n",
      "  mcs = <class '__main__.TracingMeta'>\n",
      "  name = Widget\n",
      "  bases = ()\n",
      "  namespace = {'__module__': '__main__', '__qualname__': 'Widget'}\n",
      "  kwargs = {}\n",
      "<-- cls = <class '__main__.Widget'>\n",
      "\n",
      "TracingMeta.__init__(cls, name, bases, namespace, **kwargs)\n",
      "  cls = <class '__main__.Widget'>\n",
      "  name = Widget\n",
      "  bases = ()\n",
      "  namespace = {'__module__': '__main__', '__qualname__': 'Widget'}\n",
      "  kwargs = {}\n",
      "\n"
     ]
    }
   ],
   "source": [
    "class Widget(metaclass=TracingMeta):\n",
    "    pass"
   ]
  },
  {
   "cell_type": "code",
   "execution_count": 21,
   "metadata": {},
   "outputs": [
    {
     "name": "stdout",
     "output_type": "stream",
     "text": [
      "TracingMeta.metamethod(cls)\n",
      "  cls =  <class '__main__.Widget'>\n",
      "\n"
     ]
    }
   ],
   "source": [
    "Widget.metamethod()"
   ]
  },
  {
   "cell_type": "code",
   "execution_count": 22,
   "metadata": {},
   "outputs": [],
   "source": [
    "# w = Widget()\n",
    "# w.metamethod()\n",
    "\n",
    "# TracingMeta.__call__(cls, *args, **kwargs)\n",
    "#   cls = <class '__main__.Widget'>\n",
    "#   args = ()\n",
    "#   kwargs = {}\n",
    "#   About to call type.__call__()\n",
    "#   Returned from type.__call__()\n",
    "# <-- obj = <__main__.Widget object at 0x00000242D0FBEEF0>\n",
    "\n",
    "# ---------------------------------------------------------------------------\n",
    "# AttributeError                            Traceback (most recent call last)\n",
    "# <ipython-input-23-cd8c782b8395> in <module>\n",
    "#       1 w = Widget()\n",
    "# ----> 2 w.metamethod()\n",
    "\n",
    "# AttributeError: 'Widget' object has no attribute 'metamethod'"
   ]
  },
  {
   "cell_type": "markdown",
   "metadata": {},
   "source": [
    "# 5 Metaclass __call__：The Instance Constructor"
   ]
  },
  {
   "cell_type": "code",
   "execution_count": 23,
   "metadata": {},
   "outputs": [
    {
     "name": "stdout",
     "output_type": "stream",
     "text": [
      "TracingMeta.__prepare__(name, bases, **kwargs)\n",
      "  mcs = <class '__main__.TracingMeta'>\n",
      "  name = TracingClass\n",
      "  bases = ()\n",
      "  kwargs = {}\n",
      "<-- namespace = {}\n",
      "\n",
      "TracingMeta.__new__(mcs, name, bases, namespace, **kwargs)\n",
      "  mcs = <class '__main__.TracingMeta'>\n",
      "  name = TracingClass\n",
      "  bases = ()\n",
      "  namespace = {'__module__': '__main__', '__qualname__': 'TracingClass', '__new__': <function TracingClass.__new__ at 0x00000275E2A14048>, '__init__': <function TracingClass.__init__ at 0x00000275E2A14EA0>, '__classcell__': <cell at 0x00000275E2A353A8: empty>}\n",
      "  kwargs = {}\n",
      "<-- cls = <class '__main__.TracingClass'>\n",
      "\n",
      "TracingMeta.__init__(cls, name, bases, namespace, **kwargs)\n",
      "  cls = <class '__main__.TracingClass'>\n",
      "  name = TracingClass\n",
      "  bases = ()\n",
      "  namespace = {'__module__': '__main__', '__qualname__': 'TracingClass', '__new__': <function TracingClass.__new__ at 0x00000275E2A14048>, '__init__': <function TracingClass.__init__ at 0x00000275E2A14EA0>, '__classcell__': <cell at 0x00000275E2A353A8: TracingMeta object at 0x00000275E11475E8>}\n",
      "  kwargs = {}\n",
      "\n"
     ]
    }
   ],
   "source": [
    "class TracingClass(metaclass=TracingMeta):\n",
    "\n",
    "    def __new__(cls, *args, **kwargs):\n",
    "        print(\"  TracingClass.__new__(cls, args, kwargs\")\n",
    "        print(\"    cls =\", cls)\n",
    "        print(\"    args =\", args)\n",
    "        print(\"    kwargs =\", kwargs)\n",
    "        obj = super().__new__(cls)\n",
    "        print(\"  <-- obj =\", obj)\n",
    "        print()\n",
    "        return obj\n",
    "\n",
    "    def __init__(self, *args, **kwargs):\n",
    "        print(\"  TracingClass.__init__(self, *args, **kwargs\")\n",
    "        print(\"    self =\", self)\n",
    "        print(\"    args =\", args)\n",
    "        print(\"    kwargs =\", kwargs)\n",
    "        print()"
   ]
  },
  {
   "cell_type": "code",
   "execution_count": 24,
   "metadata": {},
   "outputs": [
    {
     "name": "stdout",
     "output_type": "stream",
     "text": [
      "TracingMeta.__call__(cls, *args, **kwargs)\n",
      "  cls = <class '__main__.TracingClass'>\n",
      "  args = (42,)\n",
      "  kwargs = {'keyword': 'clef'}\n",
      "  About to call type.__call__()\n",
      "  TracingClass.__new__(cls, args, kwargs\n",
      "    cls = <class '__main__.TracingClass'>\n",
      "    args = (42,)\n",
      "    kwargs = {'keyword': 'clef'}\n",
      "  <-- obj = <__main__.TracingClass object at 0x00000275E2A4A160>\n",
      "\n",
      "  TracingClass.__init__(self, *args, **kwargs\n",
      "    self = <__main__.TracingClass object at 0x00000275E2A4A160>\n",
      "    args = (42,)\n",
      "    kwargs = {'keyword': 'clef'}\n",
      "\n",
      "  Returned from type.__call__()\n",
      "<-- obj = <__main__.TracingClass object at 0x00000275E2A4A160>\n",
      "\n"
     ]
    }
   ],
   "source": [
    "t = TracingClass(42, keyword='clef')"
   ]
  },
  {
   "cell_type": "code",
   "execution_count": 25,
   "metadata": {},
   "outputs": [],
   "source": [
    "class KeywordsOnlyMeta(type):\n",
    "\n",
    "    def __call__(cls, *args, **kwargs):\n",
    "        if args:\n",
    "            raise TypeError(\"Constructor for class {!r} does not accept positional arguments.\".format(cls))\n",
    "        return super().__call__(cls, **kwargs)\n",
    "\n",
    "\n",
    "class ConstrainedToKeywords(metaclass=KeywordsOnlyMeta):\n",
    "\n",
    "    def __init__(self, *args, **kwargs):\n",
    "        print(\"args =\", args)\n",
    "        print(\"kwargs =\", kwargs)\n"
   ]
  },
  {
   "cell_type": "code",
   "execution_count": 28,
   "metadata": {},
   "outputs": [],
   "source": [
    "# c = ConstrainedToKeywords(23, 45, 96, color='white')\n",
    "\n",
    "# ---------------------------------------------------------------------------\n",
    "# TypeError                                 Traceback (most recent call last)\n",
    "# <ipython-input-27-74542d5bc6f5> in <module>\n",
    "# ----> 1 c = ConstrainedToKeywords(23, 45, 96, color='white')\n",
    "\n",
    "# <ipython-input-25-4ca0ae767e1f> in __call__(cls, *args, **kwargs)\n",
    "#       3     def __call__(cls, *args, **kwargs):\n",
    "#       4         if args:\n",
    "# ----> 5             raise TypeError(\"Constructor for class {!r} does not accept positional arguments.\".format(cls))\n",
    "#       6         return super().__call__(cls, **kwargs)\n",
    "#       7 \n",
    "\n",
    "# TypeError: Constructor for class <class '__main__.ConstrainedToKeywords'> does not accept positional arguments."
   ]
  },
  {
   "cell_type": "code",
   "execution_count": 29,
   "metadata": {},
   "outputs": [
    {
     "name": "stdout",
     "output_type": "stream",
     "text": [
      "args = (<class '__main__.ConstrainedToKeywords'>,)\n",
      "kwargs = {'color': 'white'}\n"
     ]
    }
   ],
   "source": [
    "c = ConstrainedToKeywords(color='white')"
   ]
  },
  {
   "cell_type": "markdown",
   "metadata": {},
   "source": [
    "# 6 A Practical Metaclass Example"
   ]
  },
  {
   "cell_type": "code",
   "execution_count": 31,
   "metadata": {},
   "outputs": [],
   "source": [
    "class Dodgy():\n",
    "\n",
    "    def method(self):\n",
    "        return \"first definition\"\n",
    "\n",
    "    def method(self):\n",
    "        return \"second definition\""
   ]
  },
  {
   "cell_type": "code",
   "execution_count": 32,
   "metadata": {},
   "outputs": [
    {
     "data": {
      "text/plain": [
       "'second definition'"
      ]
     },
     "execution_count": 32,
     "metadata": {},
     "output_type": "execute_result"
    }
   ],
   "source": [
    "dodgy = Dodgy()\n",
    "dodgy.method()"
   ]
  },
  {
   "cell_type": "code",
   "execution_count": 33,
   "metadata": {},
   "outputs": [],
   "source": [
    "class OneShotDict(dict):\n",
    "\n",
    "    def __init__(self, existing=None):\n",
    "        super().__init__()\n",
    "        if existing is not None:\n",
    "            for k, v in existing:\n",
    "                self[k] = v\n",
    "\n",
    "    def __setitem__(self, key, value):\n",
    "        if key in self:\n",
    "            raise ValueError(\"Cannot assign to existing key {!r}\".format(key))\n",
    "        super().__setitem__(key, value)"
   ]
  },
  {
   "cell_type": "code",
   "execution_count": 34,
   "metadata": {},
   "outputs": [],
   "source": [
    "d = OneShotDict()"
   ]
  },
  {
   "cell_type": "code",
   "execution_count": 35,
   "metadata": {},
   "outputs": [],
   "source": [
    "d['A'] = 65"
   ]
  },
  {
   "cell_type": "code",
   "execution_count": 36,
   "metadata": {},
   "outputs": [],
   "source": [
    "d['B'] = 66"
   ]
  },
  {
   "cell_type": "code",
   "execution_count": 39,
   "metadata": {},
   "outputs": [],
   "source": [
    "# d['A'] = 32\n",
    "\n",
    "# ---------------------------------------------------------------------------\n",
    "# ValueError                                Traceback (most recent call last)\n",
    "# <ipython-input-37-cac8893df655> in <module>\n",
    "# ----> 1 d['A'] = 32\n",
    "\n",
    "# <ipython-input-33-e96ed7597bff> in __setitem__(self, key, value)\n",
    "#       9     def __setitem__(self, key, value):\n",
    "#      10         if key in self:\n",
    "# ---> 11             raise ValueError(\"Cannot assign to existing key {!r}\".format(key))\n",
    "#      12         super().__setitem__(key, value)\n",
    "\n",
    "# ValueError: Cannot assign to existing key 'A'"
   ]
  },
  {
   "cell_type": "code",
   "execution_count": 42,
   "metadata": {},
   "outputs": [],
   "source": [
    "class OneShotClassNamespace(dict):\n",
    "\n",
    "    def __init__(self, name, existing=None):\n",
    "        super().__init__()\n",
    "        self._name = name\n",
    "        if existing is not None:\n",
    "            for k, v in existing:\n",
    "                self[k] = v\n",
    "\n",
    "    def __setitem__(self, key, value):\n",
    "        if key in self:\n",
    "            raise TypeError(\"Cannot reassign existing class attribute {!r} of {!r}\".format(key, self._name))\n",
    "        super().__setitem__(key, value)\n",
    "\n",
    "\n",
    "class ProhibitDuplicatesMeta(type):\n",
    "\n",
    "    @classmethod\n",
    "    def __prepare__(mcs, name, bases):\n",
    "        return OneShotClassNamespace(name)"
   ]
  },
  {
   "cell_type": "code",
   "execution_count": 45,
   "metadata": {},
   "outputs": [],
   "source": [
    "# class Dodgy(metaclass=ProhibitDuplicatesMeta):\n",
    "\n",
    "#     def method(self):\n",
    "#         return \"first definition\"\n",
    "\n",
    "#     def method(self):\n",
    "#         return \"second definition\"\n",
    "    \n",
    "\n",
    "\n",
    "# ---------------------------------------------------------------------------\n",
    "# TypeError                                 Traceback (most recent call last)\n",
    "# <ipython-input-43-60ee544aa20e> in <module>\n",
    "# ----> 1 class Dodgy(metaclass=ProhibitDuplicatesMeta):\n",
    "#       2 \n",
    "#       3     def method(self):\n",
    "#       4         return \"first definition\"\n",
    "#       5 \n",
    "\n",
    "# <ipython-input-43-60ee544aa20e> in Dodgy()\n",
    "#       4         return \"first definition\"\n",
    "#       5 \n",
    "# ----> 6     def method(self):\n",
    "#       7         return \"second definition\"\n",
    "\n",
    "# <ipython-input-42-370f5b3da10f> in __setitem__(self, key, value)\n",
    "#      10     def __setitem__(self, key, value):\n",
    "#      11         if key in self:\n",
    "# ---> 12             raise TypeError(\"Cannot reassign existing class attribute {!r} of {!r}\".format(key, self._name))\n",
    "#      13         super().__setitem__(key, value)\n",
    "#      14 \n",
    "\n",
    "# TypeError: Cannot reassign existing class attribute 'method' of 'Dodgy'"
   ]
  },
  {
   "cell_type": "code",
   "execution_count": null,
   "metadata": {},
   "outputs": [],
   "source": []
  }
 ],
 "metadata": {
  "kernelspec": {
   "display_name": "python_basics",
   "language": "python",
   "name": "python_basics"
  },
  "language_info": {
   "codemirror_mode": {
    "name": "ipython",
    "version": 3
   },
   "file_extension": ".py",
   "mimetype": "text/x-python",
   "name": "python",
   "nbconvert_exporter": "python",
   "pygments_lexer": "ipython3",
   "version": "3.6.7"
  }
 },
 "nbformat": 4,
 "nbformat_minor": 2
}
