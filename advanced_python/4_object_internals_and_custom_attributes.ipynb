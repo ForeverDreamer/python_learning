{
 "cells": [
  {
   "cell_type": "markdown",
   "metadata": {},
   "source": [
    "# 2 How are Python Objects Represented"
   ]
  },
  {
   "cell_type": "code",
   "execution_count": 1,
   "metadata": {},
   "outputs": [],
   "source": [
    "class Vector:\n",
    "\n",
    "    def __init__(self, x, y):\n",
    "        self.x = x\n",
    "        self.y = y\n",
    "\n",
    "    def __repr__(self):\n",
    "        return \"{}({}, {})\".format(self.__class__.__name__, self.x, self.y)\n"
   ]
  },
  {
   "cell_type": "code",
   "execution_count": 2,
   "metadata": {},
   "outputs": [
    {
     "data": {
      "text/plain": [
       "Vector(5, 3)"
      ]
     },
     "execution_count": 2,
     "metadata": {},
     "output_type": "execute_result"
    }
   ],
   "source": [
    "v = Vector(5, 3)\n",
    "v"
   ]
  },
  {
   "cell_type": "code",
   "execution_count": 3,
   "metadata": {},
   "outputs": [
    {
     "data": {
      "text/plain": [
       "['__class__',\n",
       " '__delattr__',\n",
       " '__dict__',\n",
       " '__dir__',\n",
       " '__doc__',\n",
       " '__eq__',\n",
       " '__format__',\n",
       " '__ge__',\n",
       " '__getattribute__',\n",
       " '__gt__',\n",
       " '__hash__',\n",
       " '__init__',\n",
       " '__init_subclass__',\n",
       " '__le__',\n",
       " '__lt__',\n",
       " '__module__',\n",
       " '__ne__',\n",
       " '__new__',\n",
       " '__reduce__',\n",
       " '__reduce_ex__',\n",
       " '__repr__',\n",
       " '__setattr__',\n",
       " '__sizeof__',\n",
       " '__str__',\n",
       " '__subclasshook__',\n",
       " '__weakref__',\n",
       " 'x',\n",
       " 'y']"
      ]
     },
     "execution_count": 3,
     "metadata": {},
     "output_type": "execute_result"
    }
   ],
   "source": [
    "dir(v)"
   ]
  },
  {
   "cell_type": "code",
   "execution_count": 4,
   "metadata": {},
   "outputs": [
    {
     "data": {
      "text/plain": [
       "{'x': 5, 'y': 3}"
      ]
     },
     "execution_count": 4,
     "metadata": {},
     "output_type": "execute_result"
    }
   ],
   "source": [
    "v.__dict__"
   ]
  },
  {
   "cell_type": "code",
   "execution_count": 5,
   "metadata": {},
   "outputs": [
    {
     "data": {
      "text/plain": [
       "dict"
      ]
     },
     "execution_count": 5,
     "metadata": {},
     "output_type": "execute_result"
    }
   ],
   "source": [
    "type(v.__dict__)"
   ]
  },
  {
   "cell_type": "code",
   "execution_count": 6,
   "metadata": {},
   "outputs": [
    {
     "data": {
      "text/plain": [
       "5"
      ]
     },
     "execution_count": 6,
     "metadata": {},
     "output_type": "execute_result"
    }
   ],
   "source": [
    "v.__dict__['x']"
   ]
  },
  {
   "cell_type": "code",
   "execution_count": 7,
   "metadata": {},
   "outputs": [
    {
     "data": {
      "text/plain": [
       "17"
      ]
     },
     "execution_count": 7,
     "metadata": {},
     "output_type": "execute_result"
    }
   ],
   "source": [
    "v.__dict__['x'] = 17\n",
    "v.x"
   ]
  },
  {
   "cell_type": "code",
   "execution_count": 9,
   "metadata": {},
   "outputs": [],
   "source": [
    "# del v.__dict__['x']\n",
    "# v.x\n",
    "\n",
    "# ---------------------------------------------------------------------------\n",
    "# AttributeError                            Traceback (most recent call last)\n",
    "# <ipython-input-8-d9013a5c4533> in <module>\n",
    "#       1 del v.__dict__['x']\n",
    "# ----> 2 v.x\n",
    "\n",
    "# AttributeError: 'Vector' object has no attribute 'x'"
   ]
  },
  {
   "cell_type": "code",
   "execution_count": 11,
   "metadata": {},
   "outputs": [
    {
     "data": {
      "text/plain": [
       "False"
      ]
     },
     "execution_count": 11,
     "metadata": {},
     "output_type": "execute_result"
    }
   ],
   "source": [
    "'x' in v.__dict__"
   ]
  },
  {
   "cell_type": "code",
   "execution_count": 12,
   "metadata": {},
   "outputs": [
    {
     "data": {
      "text/plain": [
       "True"
      ]
     },
     "execution_count": 12,
     "metadata": {},
     "output_type": "execute_result"
    }
   ],
   "source": [
    "'y' in v.__dict__"
   ]
  },
  {
   "cell_type": "code",
   "execution_count": 13,
   "metadata": {},
   "outputs": [
    {
     "data": {
      "text/plain": [
       "13"
      ]
     },
     "execution_count": 13,
     "metadata": {},
     "output_type": "execute_result"
    }
   ],
   "source": [
    "v.__dict__['z'] = 13\n",
    "v.z"
   ]
  },
  {
   "cell_type": "code",
   "execution_count": 14,
   "metadata": {},
   "outputs": [
    {
     "data": {
      "text/plain": [
       "{'y': 3, 'z': 13}"
      ]
     },
     "execution_count": 14,
     "metadata": {},
     "output_type": "execute_result"
    }
   ],
   "source": [
    "v.__dict__"
   ]
  },
  {
   "cell_type": "code",
   "execution_count": 15,
   "metadata": {},
   "outputs": [
    {
     "data": {
      "text/plain": [
       "3"
      ]
     },
     "execution_count": 15,
     "metadata": {},
     "output_type": "execute_result"
    }
   ],
   "source": [
    "getattr(v, 'y')"
   ]
  },
  {
   "cell_type": "code",
   "execution_count": 16,
   "metadata": {},
   "outputs": [
    {
     "data": {
      "text/plain": [
       "False"
      ]
     },
     "execution_count": 16,
     "metadata": {},
     "output_type": "execute_result"
    }
   ],
   "source": [
    "hasattr(v, 'x')"
   ]
  },
  {
   "cell_type": "code",
   "execution_count": 17,
   "metadata": {},
   "outputs": [],
   "source": [
    "delattr(v, 'z')"
   ]
  },
  {
   "cell_type": "code",
   "execution_count": 18,
   "metadata": {},
   "outputs": [
    {
     "data": {
      "text/plain": [
       "{'y': 3}"
      ]
     },
     "execution_count": 18,
     "metadata": {},
     "output_type": "execute_result"
    }
   ],
   "source": [
    "v.__dict__"
   ]
  },
  {
   "cell_type": "code",
   "execution_count": 19,
   "metadata": {},
   "outputs": [],
   "source": [
    "setattr(v, 'x', 9)"
   ]
  },
  {
   "cell_type": "code",
   "execution_count": 20,
   "metadata": {},
   "outputs": [
    {
     "data": {
      "text/plain": [
       "{'y': 3, 'x': 9}"
      ]
     },
     "execution_count": 20,
     "metadata": {},
     "output_type": "execute_result"
    }
   ],
   "source": [
    "v.__dict__"
   ]
  },
  {
   "cell_type": "code",
   "execution_count": 21,
   "metadata": {},
   "outputs": [],
   "source": [
    "class Vector:\n",
    "\n",
    "    def __init__(self, **coords):\n",
    "        self.__dict__.update(coords)\n",
    "\n",
    "    def __repr__(self):\n",
    "        return \"{}({})\".format(self.__class__.__name__,\n",
    "                               ', '.join(\"{k}={v}\".format(k=k, v=self.__dict__[k])\n",
    "                                         for k in sorted(self.__dict__.keys())))"
   ]
  },
  {
   "cell_type": "code",
   "execution_count": 22,
   "metadata": {},
   "outputs": [
    {
     "data": {
      "text/plain": [
       "Vector(p=3, q=7)"
      ]
     },
     "execution_count": 22,
     "metadata": {},
     "output_type": "execute_result"
    }
   ],
   "source": [
    "v = Vector(p=3, q=7)\n",
    "v"
   ]
  },
  {
   "cell_type": "code",
   "execution_count": 23,
   "metadata": {},
   "outputs": [
    {
     "data": {
      "text/plain": [
       "['__class__',\n",
       " '__delattr__',\n",
       " '__dict__',\n",
       " '__dir__',\n",
       " '__doc__',\n",
       " '__eq__',\n",
       " '__format__',\n",
       " '__ge__',\n",
       " '__getattribute__',\n",
       " '__gt__',\n",
       " '__hash__',\n",
       " '__init__',\n",
       " '__init_subclass__',\n",
       " '__le__',\n",
       " '__lt__',\n",
       " '__module__',\n",
       " '__ne__',\n",
       " '__new__',\n",
       " '__reduce__',\n",
       " '__reduce_ex__',\n",
       " '__repr__',\n",
       " '__setattr__',\n",
       " '__sizeof__',\n",
       " '__str__',\n",
       " '__subclasshook__',\n",
       " '__weakref__',\n",
       " 'p',\n",
       " 'q']"
      ]
     },
     "execution_count": 23,
     "metadata": {},
     "output_type": "execute_result"
    }
   ],
   "source": [
    "dir(v)"
   ]
  },
  {
   "cell_type": "code",
   "execution_count": 24,
   "metadata": {},
   "outputs": [
    {
     "data": {
      "text/plain": [
       "{'p': 3, 'q': 7}"
      ]
     },
     "execution_count": 24,
     "metadata": {},
     "output_type": "execute_result"
    }
   ],
   "source": [
    "v.__dict__"
   ]
  },
  {
   "cell_type": "code",
   "execution_count": 25,
   "metadata": {},
   "outputs": [],
   "source": [
    "class Vector:\n",
    "\n",
    "    def __init__(self, **coords):\n",
    "        private_coords = {'_' + k: v for k, v in coords.items()}\n",
    "        self.__dict__.update(private_coords)\n",
    "\n",
    "    def __repr__(self):\n",
    "        return \"{}({})\".format(self.__class__.__name__,\n",
    "                               ', '.join(\"{k}={v}\".format(k=k[1:], v=self.__dict__[k])\n",
    "                                         for k in sorted(self.__dict__.keys())))"
   ]
  },
  {
   "cell_type": "code",
   "execution_count": 26,
   "metadata": {},
   "outputs": [
    {
     "data": {
      "text/plain": [
       "Vector(p=9, q=3)"
      ]
     },
     "execution_count": 26,
     "metadata": {},
     "output_type": "execute_result"
    }
   ],
   "source": [
    "v = Vector(p=9, q=3)\n",
    "v"
   ]
  },
  {
   "cell_type": "code",
   "execution_count": 27,
   "metadata": {},
   "outputs": [
    {
     "data": {
      "text/plain": [
       "['__class__',\n",
       " '__delattr__',\n",
       " '__dict__',\n",
       " '__dir__',\n",
       " '__doc__',\n",
       " '__eq__',\n",
       " '__format__',\n",
       " '__ge__',\n",
       " '__getattribute__',\n",
       " '__gt__',\n",
       " '__hash__',\n",
       " '__init__',\n",
       " '__init_subclass__',\n",
       " '__le__',\n",
       " '__lt__',\n",
       " '__module__',\n",
       " '__ne__',\n",
       " '__new__',\n",
       " '__reduce__',\n",
       " '__reduce_ex__',\n",
       " '__repr__',\n",
       " '__setattr__',\n",
       " '__sizeof__',\n",
       " '__str__',\n",
       " '__subclasshook__',\n",
       " '__weakref__',\n",
       " '_p',\n",
       " '_q']"
      ]
     },
     "execution_count": 27,
     "metadata": {},
     "output_type": "execute_result"
    }
   ],
   "source": [
    "dir(v)"
   ]
  },
  {
   "cell_type": "code",
   "execution_count": 29,
   "metadata": {},
   "outputs": [],
   "source": [
    "# v.p\n",
    "\n",
    "# ---------------------------------------------------------------------------\n",
    "# AttributeError                            Traceback (most recent call last)\n",
    "# <ipython-input-28-4eb1ddc2c80f> in <module>\n",
    "# ----> 1 v.p\n",
    "\n",
    "# AttributeError: 'Vector' object has no attribute 'p'"
   ]
  },
  {
   "cell_type": "code",
   "execution_count": 31,
   "metadata": {},
   "outputs": [],
   "source": [
    "# v.q\n",
    "\n",
    "# ---------------------------------------------------------------------------\n",
    "# AttributeError                            Traceback (most recent call last)\n",
    "# <ipython-input-30-2eb447bc9ca6> in <module>\n",
    "# ----> 1 v.q\n",
    "\n",
    "# AttributeError: 'Vector' object has no attribute 'q'"
   ]
  },
  {
   "cell_type": "markdown",
   "metadata": {},
   "source": [
    "# 3 Overriding __getattr__"
   ]
  },
  {
   "cell_type": "code",
   "execution_count": 40,
   "metadata": {},
   "outputs": [],
   "source": [
    "class Vector:\n",
    "\n",
    "    def __init__(self, **coords):\n",
    "        private_coords = {'_' + k: v for k, v in coords.items()}\n",
    "        self.__dict__.update(private_coords)\n",
    "\n",
    "    def __getattr__(self, name):\n",
    "        print('name = ', name)\n",
    "\n",
    "    def __repr__(self):\n",
    "        return \"{}({})\".format(self.__class__.__name__,\n",
    "                               ', '.join(\"{k}={v}\".format(k=k[1:], v=self.__dict__[k])\n",
    "                                         for k in sorted(self.__dict__.keys())))"
   ]
  },
  {
   "cell_type": "code",
   "execution_count": 41,
   "metadata": {},
   "outputs": [],
   "source": [
    "v = Vector(p=3, q=9)"
   ]
  },
  {
   "cell_type": "code",
   "execution_count": 42,
   "metadata": {},
   "outputs": [
    {
     "name": "stdout",
     "output_type": "stream",
     "text": [
      "name =  p\n"
     ]
    }
   ],
   "source": [
    "v.p"
   ]
  },
  {
   "cell_type": "code",
   "execution_count": 45,
   "metadata": {},
   "outputs": [
    {
     "name": "stdout",
     "output_type": "stream",
     "text": [
      "name =  q\n"
     ]
    }
   ],
   "source": [
    "v.q"
   ]
  },
  {
   "cell_type": "code",
   "execution_count": 46,
   "metadata": {},
   "outputs": [
    {
     "data": {
      "text/plain": [
       "9"
      ]
     },
     "execution_count": 46,
     "metadata": {},
     "output_type": "execute_result"
    }
   ],
   "source": [
    "v._q"
   ]
  },
  {
   "cell_type": "code",
   "execution_count": 47,
   "metadata": {},
   "outputs": [],
   "source": [
    "class Vector:\n",
    "\n",
    "    def __init__(self, **coords):\n",
    "        private_coords = {'_' + k: v for k, v in coords.items()}\n",
    "        self.__dict__.update(private_coords)\n",
    "\n",
    "    def __getattr__(self, name):\n",
    "        private_name = '_' + name\n",
    "        return getattr(self, private_name)\n",
    "\n",
    "    def __repr__(self):\n",
    "        return \"{}({})\".format(self.__class__.__name__,\n",
    "                               ', '.join(\"{k}={v}\".format(k=k[1:], v=self.__dict__[k])\n",
    "                                         for k in sorted(self.__dict__.keys())))"
   ]
  },
  {
   "cell_type": "code",
   "execution_count": 48,
   "metadata": {},
   "outputs": [],
   "source": [
    "v = Vector(p=5, q=10)"
   ]
  },
  {
   "cell_type": "code",
   "execution_count": 49,
   "metadata": {},
   "outputs": [
    {
     "data": {
      "text/plain": [
       "5"
      ]
     },
     "execution_count": 49,
     "metadata": {},
     "output_type": "execute_result"
    }
   ],
   "source": [
    "v.p"
   ]
  },
  {
   "cell_type": "code",
   "execution_count": 50,
   "metadata": {},
   "outputs": [
    {
     "data": {
      "text/plain": [
       "10"
      ]
     },
     "execution_count": 50,
     "metadata": {},
     "output_type": "execute_result"
    }
   ],
   "source": [
    "v.q"
   ]
  },
  {
   "cell_type": "code",
   "execution_count": 51,
   "metadata": {},
   "outputs": [
    {
     "data": {
      "text/plain": [
       "13"
      ]
     },
     "execution_count": 51,
     "metadata": {},
     "output_type": "execute_result"
    }
   ],
   "source": [
    "v.p = 13\n",
    "v.p"
   ]
  },
  {
   "cell_type": "code",
   "execution_count": 52,
   "metadata": {},
   "outputs": [
    {
     "data": {
      "text/plain": [
       "5"
      ]
     },
     "execution_count": 52,
     "metadata": {},
     "output_type": "execute_result"
    }
   ],
   "source": [
    "v._p"
   ]
  },
  {
   "cell_type": "code",
   "execution_count": 53,
   "metadata": {},
   "outputs": [
    {
     "data": {
      "text/plain": [
       "['__class__',\n",
       " '__delattr__',\n",
       " '__dict__',\n",
       " '__dir__',\n",
       " '__doc__',\n",
       " '__eq__',\n",
       " '__format__',\n",
       " '__ge__',\n",
       " '__getattr__',\n",
       " '__getattribute__',\n",
       " '__gt__',\n",
       " '__hash__',\n",
       " '__init__',\n",
       " '__init_subclass__',\n",
       " '__le__',\n",
       " '__lt__',\n",
       " '__module__',\n",
       " '__ne__',\n",
       " '__new__',\n",
       " '__reduce__',\n",
       " '__reduce_ex__',\n",
       " '__repr__',\n",
       " '__setattr__',\n",
       " '__sizeof__',\n",
       " '__str__',\n",
       " '__subclasshook__',\n",
       " '__weakref__',\n",
       " '_p',\n",
       " '_q',\n",
       " 'p']"
      ]
     },
     "execution_count": 53,
     "metadata": {},
     "output_type": "execute_result"
    }
   ],
   "source": [
    "dir(v)"
   ]
  },
  {
   "cell_type": "markdown",
   "metadata": {},
   "source": [
    "# 4 Overriding __setattr__"
   ]
  },
  {
   "cell_type": "code",
   "execution_count": 54,
   "metadata": {},
   "outputs": [],
   "source": [
    "class Vector:\n",
    "\n",
    "    def __init__(self, **coords):\n",
    "        private_coords = {'_' + k: v for k, v in coords.items()}\n",
    "        self.__dict__.update(private_coords)\n",
    "\n",
    "    def __getattr__(self, name):\n",
    "        private_name = '_' + name\n",
    "        return getattr(self, private_name)\n",
    "    \n",
    "    def __setattr__(self, name, value):\n",
    "        raise AttributeError(\"Can't set attribute {!r}\".format(name))\n",
    "\n",
    "    def __repr__(self):\n",
    "        return \"{}({})\".format(self.__class__.__name__,\n",
    "                               ', '.join(\"{k}={v}\".format(k=k[1:], v=self.__dict__[k])\n",
    "                                         for k in sorted(self.__dict__.keys())))"
   ]
  },
  {
   "cell_type": "code",
   "execution_count": 55,
   "metadata": {},
   "outputs": [],
   "source": [
    "v = Vector(p=4, q=8)"
   ]
  },
  {
   "cell_type": "code",
   "execution_count": 56,
   "metadata": {},
   "outputs": [
    {
     "data": {
      "text/plain": [
       "4"
      ]
     },
     "execution_count": 56,
     "metadata": {},
     "output_type": "execute_result"
    }
   ],
   "source": [
    "v.p"
   ]
  },
  {
   "cell_type": "code",
   "execution_count": 58,
   "metadata": {},
   "outputs": [],
   "source": [
    "# v.p = 7\n",
    "\n",
    "# ---------------------------------------------------------------------------\n",
    "# AttributeError                            Traceback (most recent call last)\n",
    "# <ipython-input-57-f6dd5a1dfe54> in <module>\n",
    "# ----> 1 v.p = 7\n",
    "\n",
    "# <ipython-input-54-49c190ca09cb> in __setattr__(self, name, value)\n",
    "#      10 \n",
    "#      11     def __setattr__(self, name, value):\n",
    "# ---> 12         raise AttributeError(\"Can't set attribute {!r}\".format(name))\n",
    "#      13 \n",
    "#      14     def __repr__(self):\n",
    "\n",
    "# AttributeError: Can't set attribute 'p'"
   ]
  },
  {
   "cell_type": "markdown",
   "metadata": {},
   "source": [
    "# 5 Pitfalls with __getattr__"
   ]
  },
  {
   "cell_type": "code",
   "execution_count": 61,
   "metadata": {},
   "outputs": [],
   "source": [
    "# v.x\n",
    "\n",
    "# ---------------------------------------------------------------------------\n",
    "# RecursionError                            Traceback (most recent call last)\n",
    "# <ipython-input-59-185ff259d8bc> in <module>\n",
    "# ----> 1 v.x\n",
    "\n",
    "# <ipython-input-54-49c190ca09cb> in __getattr__(self, name)\n",
    "#       7     def __getattr__(self, name):\n",
    "#       8         private_name = '_' + name\n",
    "# ----> 9         return getattr(self, private_name)\n",
    "#      10 \n",
    "#      11     def __setattr__(self, name, value):\n",
    "\n",
    "# ... last 1 frames repeated, from the frame below ...\n",
    "\n",
    "# <ipython-input-54-49c190ca09cb> in __getattr__(self, name)\n",
    "#       7     def __getattr__(self, name):\n",
    "#       8         private_name = '_' + name\n",
    "# ----> 9         return getattr(self, private_name)\n",
    "#      10 \n",
    "#      11     def __setattr__(self, name, value):\n",
    "\n",
    "# RecursionError: maximum recursion depth exceeded while calling a Python object"
   ]
  },
  {
   "cell_type": "code",
   "execution_count": 62,
   "metadata": {},
   "outputs": [],
   "source": [
    "class Vector:\n",
    "\n",
    "    def __init__(self, **coords):\n",
    "        private_coords = {'_' + k: v for k, v in coords.items()}\n",
    "        self.__dict__.update(private_coords)\n",
    "\n",
    "    def __getattr__(self, name):\n",
    "        private_name = '_' + name\n",
    "        if private_name not in self.__dict__:\n",
    "            raise AttributeError('{!r} object has no attribute {!r}'.format(self.__class__.__name__, name))\n",
    "        return getattr(self, private_name)\n",
    "\n",
    "    def __setattr__(self, name, value):\n",
    "        raise AttributeError(\"Can't set attribute {!r}\".format(name))\n",
    "\n",
    "    def __repr__(self):\n",
    "        return \"{}({})\".format(self.__class__.__name__,\n",
    "                               ', '.join(\"{k}={v}\".format(k=k[1:], v=self.__dict__[k])\n",
    "                                         for k in sorted(self.__dict__.keys())))"
   ]
  },
  {
   "cell_type": "code",
   "execution_count": 63,
   "metadata": {},
   "outputs": [
    {
     "data": {
      "text/plain": [
       "Vector(p=9, q=14)"
      ]
     },
     "execution_count": 63,
     "metadata": {},
     "output_type": "execute_result"
    }
   ],
   "source": [
    "v = Vector(p=9, q=14)\n",
    "v"
   ]
  },
  {
   "cell_type": "code",
   "execution_count": 64,
   "metadata": {},
   "outputs": [
    {
     "data": {
      "text/plain": [
       "9"
      ]
     },
     "execution_count": 64,
     "metadata": {},
     "output_type": "execute_result"
    }
   ],
   "source": [
    "v.p"
   ]
  },
  {
   "cell_type": "code",
   "execution_count": 67,
   "metadata": {},
   "outputs": [],
   "source": [
    "# v.x\n",
    "\n",
    "# ---------------------------------------------------------------------------\n",
    "# AttributeError                            Traceback (most recent call last)\n",
    "# <ipython-input-65-185ff259d8bc> in <module>\n",
    "# ----> 1 v.x\n",
    "\n",
    "# <ipython-input-62-5c5ef095b562> in __getattr__(self, name)\n",
    "#       8         private_name = '_' + name\n",
    "#       9         if private_name not in self.__dict__:\n",
    "# ---> 10             raise AttributeError('{!r} object has no attribute {!r}'.format(self.__class__.__name__, name))\n",
    "#      11         return getattr(self, private_name)\n",
    "#      12 \n",
    "\n",
    "# AttributeError: 'Vector' object has no attribute 'x'"
   ]
  },
  {
   "cell_type": "code",
   "execution_count": 68,
   "metadata": {},
   "outputs": [],
   "source": [
    "import math\n",
    "\n",
    "class Vector:\n",
    "\n",
    "    def __init__(self, **coords):\n",
    "        private_coords = {'_' + k: v for k, v in coords.items()}\n",
    "        self.__dict__.update(private_coords)\n",
    "\n",
    "    def __getattr__(self, name):\n",
    "        private_name = '_' + name\n",
    "        try:\n",
    "            return self.__dict__[private_name]\n",
    "        except KeyError:\n",
    "            raise AttributeError('{!r} object has no attribute {!r}'.format(self.__class__.__name__, name))\n",
    "\n",
    "    def __setattr__(self, name, value):\n",
    "        raise AttributeError(\"Can't set attribute {!r}\".format(name))\n",
    "\n",
    "    def __repr__(self):\n",
    "        return \"{}({})\".format(self.__class__.__name__,\n",
    "                               ', '.join(\"{k}={v}\".format(k=k[1:], v=self.__dict__[k])\n",
    "                                         for k in sorted(self.__dict__.keys())))"
   ]
  },
  {
   "cell_type": "code",
   "execution_count": 80,
   "metadata": {},
   "outputs": [
    {
     "data": {
      "text/plain": [
       "Vector(p=1, q=2)"
      ]
     },
     "execution_count": 80,
     "metadata": {},
     "output_type": "execute_result"
    }
   ],
   "source": [
    "v = Vector(p=1, q=2)\n",
    "v"
   ]
  },
  {
   "cell_type": "code",
   "execution_count": 81,
   "metadata": {},
   "outputs": [
    {
     "data": {
      "text/plain": [
       "1"
      ]
     },
     "execution_count": 81,
     "metadata": {},
     "output_type": "execute_result"
    }
   ],
   "source": [
    "v.p"
   ]
  },
  {
   "cell_type": "code",
   "execution_count": 82,
   "metadata": {},
   "outputs": [],
   "source": [
    "# v.x\n",
    "\n",
    "# ---------------------------------------------------------------------------\n",
    "# KeyError                                  Traceback (most recent call last)\n",
    "# <ipython-input-68-924d87fb31d1> in __getattr__(self, name)\n",
    "#      11         try:\n",
    "# ---> 12             return self.__dict__[private_name]\n",
    "#      13         except KeyError:\n",
    "\n",
    "# KeyError: '_x'\n",
    "\n",
    "# During handling of the above exception, another exception occurred:\n",
    "\n",
    "# AttributeError                            Traceback (most recent call last)\n",
    "# <ipython-input-71-185ff259d8bc> in <module>\n",
    "# ----> 1 v.x\n",
    "\n",
    "# <ipython-input-68-924d87fb31d1> in __getattr__(self, name)\n",
    "#      12             return self.__dict__[private_name]\n",
    "#      13         except KeyError:\n",
    "# ---> 14             raise AttributeError('{!r} object has no attribute {!r}'.format(self.__class__.__name__, name))\n",
    "#      15 \n",
    "#      16     def __setattr__(self, name, value):\n",
    "\n",
    "# AttributeError: 'Vector' object has no attribute 'x'"
   ]
  },
  {
   "cell_type": "markdown",
   "metadata": {},
   "source": [
    "# 6 Overriding __delattr__"
   ]
  },
  {
   "cell_type": "code",
   "execution_count": 83,
   "metadata": {},
   "outputs": [
    {
     "data": {
      "text/plain": [
       "['__class__',\n",
       " '__delattr__',\n",
       " '__dict__',\n",
       " '__dir__',\n",
       " '__doc__',\n",
       " '__eq__',\n",
       " '__format__',\n",
       " '__ge__',\n",
       " '__getattr__',\n",
       " '__getattribute__',\n",
       " '__gt__',\n",
       " '__hash__',\n",
       " '__init__',\n",
       " '__init_subclass__',\n",
       " '__le__',\n",
       " '__lt__',\n",
       " '__module__',\n",
       " '__ne__',\n",
       " '__new__',\n",
       " '__reduce__',\n",
       " '__reduce_ex__',\n",
       " '__repr__',\n",
       " '__setattr__',\n",
       " '__sizeof__',\n",
       " '__str__',\n",
       " '__subclasshook__',\n",
       " '__weakref__',\n",
       " '_p',\n",
       " '_q']"
      ]
     },
     "execution_count": 83,
     "metadata": {},
     "output_type": "execute_result"
    }
   ],
   "source": [
    "dir(v)"
   ]
  },
  {
   "cell_type": "code",
   "execution_count": 84,
   "metadata": {},
   "outputs": [],
   "source": [
    "delattr(v, '_p')"
   ]
  },
  {
   "cell_type": "code",
   "execution_count": 85,
   "metadata": {},
   "outputs": [
    {
     "data": {
      "text/plain": [
       "Vector(q=2)"
      ]
     },
     "execution_count": 85,
     "metadata": {},
     "output_type": "execute_result"
    }
   ],
   "source": [
    "v"
   ]
  },
  {
   "cell_type": "code",
   "execution_count": 86,
   "metadata": {},
   "outputs": [],
   "source": [
    "del v._q"
   ]
  },
  {
   "cell_type": "code",
   "execution_count": 87,
   "metadata": {},
   "outputs": [
    {
     "data": {
      "text/plain": [
       "Vector()"
      ]
     },
     "execution_count": 87,
     "metadata": {},
     "output_type": "execute_result"
    }
   ],
   "source": [
    "v"
   ]
  },
  {
   "cell_type": "code",
   "execution_count": 88,
   "metadata": {},
   "outputs": [],
   "source": [
    "import math\n",
    "\n",
    "class Vector:\n",
    "\n",
    "    def __init__(self, **coords):\n",
    "        private_coords = {'_' + k: v for k, v in coords.items()}\n",
    "        self.__dict__.update(private_coords)\n",
    "\n",
    "    def __getattr__(self, name):\n",
    "        private_name = '_' + name\n",
    "        try:\n",
    "            return self.__dict__[private_name]\n",
    "        except KeyError:\n",
    "            raise AttributeError('{!r} object has no attribute {!r}'.format(self.__class__.__name__, name))\n",
    "\n",
    "    def __setattr__(self, name, value):\n",
    "        raise AttributeError(\"Can't set attribute {!r}\".format(name))\n",
    "\n",
    "    def __delattr__(self, name):\n",
    "        raise AttributeError(\"Can't delete attribute {!r}\".format(name))\n",
    "\n",
    "    def __repr__(self):\n",
    "        return \"{}({})\".format(self.__class__.__name__,\n",
    "                               ', '.join(\"{k}={v}\".format(k=k[1:], v=self.__dict__[k])\n",
    "                                         for k in sorted(self.__dict__.keys())))"
   ]
  },
  {
   "cell_type": "code",
   "execution_count": 89,
   "metadata": {},
   "outputs": [],
   "source": [
    "v = Vector(p=9, q=12)"
   ]
  },
  {
   "cell_type": "code",
   "execution_count": 90,
   "metadata": {},
   "outputs": [
    {
     "data": {
      "text/plain": [
       "Vector(p=9, q=12)"
      ]
     },
     "execution_count": 90,
     "metadata": {},
     "output_type": "execute_result"
    }
   ],
   "source": [
    "v"
   ]
  },
  {
   "cell_type": "code",
   "execution_count": 92,
   "metadata": {},
   "outputs": [],
   "source": [
    "# del v.q\n",
    "\n",
    "# ---------------------------------------------------------------------------\n",
    "# AttributeError                            Traceback (most recent call last)\n",
    "# <ipython-input-91-2774f88b8c4d> in <module>\n",
    "# ----> 1 del v.q\n",
    "\n",
    "# <ipython-input-88-e5a17d684ab0> in __delattr__(self, name)\n",
    "#      18 \n",
    "#      19     def __delattr__(self, name):\n",
    "# ---> 20         raise AttributeError(\"Can't delete attribute {!r}\".format(name))\n",
    "#      21 \n",
    "#      22     def __repr__(self):\n",
    "\n",
    "# AttributeError: Can't delete attribute 'q'"
   ]
  },
  {
   "cell_type": "markdown",
   "metadata": {},
   "source": [
    "# 7 Customizing Attribute Storage"
   ]
  },
  {
   "cell_type": "code",
   "execution_count": 93,
   "metadata": {},
   "outputs": [],
   "source": [
    "class ColoredVector(Vector):\n",
    "\n",
    "    COLOR_INDEXES = ('red', 'green', 'blue')\n",
    "\n",
    "    def __init__(self, red, green, blue, **coords):\n",
    "        super().__init__(**coords)\n",
    "        self.__dict__['color'] = [red, green, blue]\n",
    "\n",
    "    def __getattr__(self, name):\n",
    "        try:\n",
    "            channel = ColoredVector.COLOR_INDEXES.index(name)\n",
    "        except ValueError:\n",
    "            return super().__getattr__(name)\n",
    "        else:\n",
    "            return self.__dict__['color'][channel]\n",
    "\n",
    "    def __setattr__(self, name, value):\n",
    "        try:\n",
    "            channel = ColoredVector.COLOR_INDEXES.index(name)\n",
    "        except ValueError:\n",
    "            super().__setattr__(name, value)\n",
    "        else:\n",
    "            self.__dict__['color'][channel] = value\n",
    "\n",
    "    def __repr__(self):\n",
    "        keys = set(self.__dict__.keys())\n",
    "        keys.discard('color')\n",
    "        coords = ', '.join(\n",
    "            \"{k}={v}\".format(k=k[1:], v=self.__dict__[k])\n",
    "            for k in sorted(keys))\n",
    "\n",
    "        return \"{cls}({red}, {green}, {blue}, {coords})\".format(\n",
    "            cls=self.__class__.__name__,\n",
    "            red=self.red,\n",
    "            green=self.green,\n",
    "            blue=self.blue,\n",
    "            coords=coords)"
   ]
  },
  {
   "cell_type": "code",
   "execution_count": 94,
   "metadata": {},
   "outputs": [],
   "source": [
    "cv = ColoredVector(red=23, green=44, blue=238, p=9, q=14)"
   ]
  },
  {
   "cell_type": "code",
   "execution_count": 95,
   "metadata": {},
   "outputs": [
    {
     "data": {
      "text/plain": [
       "23"
      ]
     },
     "execution_count": 95,
     "metadata": {},
     "output_type": "execute_result"
    }
   ],
   "source": [
    "cv.red"
   ]
  },
  {
   "cell_type": "code",
   "execution_count": 96,
   "metadata": {},
   "outputs": [
    {
     "data": {
      "text/plain": [
       "44"
      ]
     },
     "execution_count": 96,
     "metadata": {},
     "output_type": "execute_result"
    }
   ],
   "source": [
    "cv.green"
   ]
  },
  {
   "cell_type": "code",
   "execution_count": 97,
   "metadata": {},
   "outputs": [
    {
     "data": {
      "text/plain": [
       "9"
      ]
     },
     "execution_count": 97,
     "metadata": {},
     "output_type": "execute_result"
    }
   ],
   "source": [
    "cv.p"
   ]
  },
  {
   "cell_type": "code",
   "execution_count": 98,
   "metadata": {},
   "outputs": [
    {
     "data": {
      "text/plain": [
       "14"
      ]
     },
     "execution_count": 98,
     "metadata": {},
     "output_type": "execute_result"
    }
   ],
   "source": [
    "cv.q"
   ]
  },
  {
   "cell_type": "code",
   "execution_count": 99,
   "metadata": {},
   "outputs": [
    {
     "data": {
      "text/plain": [
       "['COLOR_INDEXES',\n",
       " '__class__',\n",
       " '__delattr__',\n",
       " '__dict__',\n",
       " '__dir__',\n",
       " '__doc__',\n",
       " '__eq__',\n",
       " '__format__',\n",
       " '__ge__',\n",
       " '__getattr__',\n",
       " '__getattribute__',\n",
       " '__gt__',\n",
       " '__hash__',\n",
       " '__init__',\n",
       " '__init_subclass__',\n",
       " '__le__',\n",
       " '__lt__',\n",
       " '__module__',\n",
       " '__ne__',\n",
       " '__new__',\n",
       " '__reduce__',\n",
       " '__reduce_ex__',\n",
       " '__repr__',\n",
       " '__setattr__',\n",
       " '__sizeof__',\n",
       " '__str__',\n",
       " '__subclasshook__',\n",
       " '__weakref__',\n",
       " '_p',\n",
       " '_q',\n",
       " 'color']"
      ]
     },
     "execution_count": 99,
     "metadata": {},
     "output_type": "execute_result"
    }
   ],
   "source": [
    "dir(cv)"
   ]
  },
  {
   "cell_type": "code",
   "execution_count": 100,
   "metadata": {},
   "outputs": [
    {
     "data": {
      "text/plain": [
       "{'_p': 9, '_q': 14, 'color': [23, 44, 238]}"
      ]
     },
     "execution_count": 100,
     "metadata": {},
     "output_type": "execute_result"
    }
   ],
   "source": [
    "cv.__dict__"
   ]
  },
  {
   "cell_type": "code",
   "execution_count": 102,
   "metadata": {},
   "outputs": [
    {
     "data": {
      "text/plain": [
       "[23, 44, 238]"
      ]
     },
     "execution_count": 102,
     "metadata": {},
     "output_type": "execute_result"
    }
   ],
   "source": [
    "cv.__dict__['color']"
   ]
  },
  {
   "cell_type": "code",
   "execution_count": 103,
   "metadata": {},
   "outputs": [
    {
     "data": {
      "text/plain": [
       "ColoredVector(23, 44, 238, p=9, q=14)"
      ]
     },
     "execution_count": 103,
     "metadata": {},
     "output_type": "execute_result"
    }
   ],
   "source": [
    "cv"
   ]
  },
  {
   "cell_type": "markdown",
   "metadata": {},
   "source": [
    "# 9 Overriding __getattribute__"
   ]
  },
  {
   "cell_type": "code",
   "execution_count": 104,
   "metadata": {},
   "outputs": [],
   "source": [
    "class LoggingProxy:\n",
    "\n",
    "    def __init__(self, target):\n",
    "        super().__setattr__('target', target)\n",
    "\n",
    "    def __getattribute__(self, name):\n",
    "        target = super().__getattribute__('target')\n",
    "\n",
    "        try:\n",
    "            value = getattr(target, name)\n",
    "        except AttributeError as e:\n",
    "            raise AttributeError(\"{} could not forward request {} to {}\".format(\n",
    "                super().__getattribute__('__class__').__name__,\n",
    "                name,\n",
    "                target)) from e\n",
    "        else:\n",
    "            print(\"Retrieved attribute {!r} = {!r} from {!r}\".format(name, value, target))\n",
    "            return value\n",
    "\n",
    "    def __setattr__(self, name, value):\n",
    "        target = super().__getattribute__('target')\n",
    "\n",
    "        try:\n",
    "            setattr(target, name, value)\n",
    "        except AttributeError as e:\n",
    "            raise AttributeError(\"{} could not forward request {} to {}\".format(\n",
    "                super().__getattribute__('__class__').__name__,\n",
    "                name,\n",
    "                target))\n",
    "        else:\n",
    "            print(\"Set attribute {!r} = {!r} on {!r}\".format(name, value, target))\n",
    "\n"
   ]
  },
  {
   "cell_type": "code",
   "execution_count": 109,
   "metadata": {},
   "outputs": [
    {
     "data": {
      "text/plain": [
       "ColoredVector(23, 44, 238, p=9, q=14)"
      ]
     },
     "execution_count": 109,
     "metadata": {},
     "output_type": "execute_result"
    }
   ],
   "source": [
    "cv = ColoredVector(red=23, green=44, blue=238, p=9, q=14)\n",
    "cv"
   ]
  },
  {
   "cell_type": "code",
   "execution_count": 110,
   "metadata": {},
   "outputs": [
    {
     "name": "stdout",
     "output_type": "stream",
     "text": [
      "Retrieved attribute '__class__' = <class '__main__.ColoredVector'> from ColoredVector(23, 44, 238, p=9, q=14)\n",
      "Retrieved attribute '__class__' = <class '__main__.ColoredVector'> from ColoredVector(23, 44, 238, p=9, q=14)\n",
      "Retrieved attribute '__class__' = <class '__main__.ColoredVector'> from ColoredVector(23, 44, 238, p=9, q=14)\n",
      "Retrieved attribute '__class__' = <class '__main__.ColoredVector'> from ColoredVector(23, 44, 238, p=9, q=14)\n",
      "Retrieved attribute '__class__' = <class '__main__.ColoredVector'> from ColoredVector(23, 44, 238, p=9, q=14)\n",
      "Retrieved attribute '__class__' = <class '__main__.ColoredVector'> from ColoredVector(23, 44, 238, p=9, q=14)\n"
     ]
    }
   ],
   "source": [
    "cw = LoggingProxy(cv)"
   ]
  },
  {
   "cell_type": "code",
   "execution_count": 111,
   "metadata": {},
   "outputs": [
    {
     "name": "stdout",
     "output_type": "stream",
     "text": [
      "Retrieved attribute 'red' = 23 from ColoredVector(23, 44, 238, p=9, q=14)\n"
     ]
    },
    {
     "data": {
      "text/plain": [
       "23"
      ]
     },
     "execution_count": 111,
     "metadata": {},
     "output_type": "execute_result"
    }
   ],
   "source": [
    "cw.red"
   ]
  },
  {
   "cell_type": "markdown",
   "metadata": {},
   "source": [
    "# 11 Where are Methods Stored"
   ]
  },
  {
   "cell_type": "code",
   "execution_count": 132,
   "metadata": {},
   "outputs": [],
   "source": [
    "v = Vector(x=3, y=7)"
   ]
  },
  {
   "cell_type": "code",
   "execution_count": 133,
   "metadata": {},
   "outputs": [
    {
     "data": {
      "text/plain": [
       "{'_x': 3, '_y': 7}"
      ]
     },
     "execution_count": 133,
     "metadata": {},
     "output_type": "execute_result"
    }
   ],
   "source": [
    "v.__dict__"
   ]
  },
  {
   "cell_type": "code",
   "execution_count": 134,
   "metadata": {},
   "outputs": [
    {
     "data": {
      "text/plain": [
       "__main__.Vector"
      ]
     },
     "execution_count": 134,
     "metadata": {},
     "output_type": "execute_result"
    }
   ],
   "source": [
    "v.__class__"
   ]
  },
  {
   "cell_type": "code",
   "execution_count": 135,
   "metadata": {},
   "outputs": [
    {
     "data": {
      "text/plain": [
       "mappingproxy({'__module__': '__main__',\n",
       "              '__init__': <function __main__.Vector.__init__(self, **coords)>,\n",
       "              '__getattr__': <function __main__.Vector.__getattr__(self, name)>,\n",
       "              '__setattr__': <function __main__.Vector.__setattr__(self, name, value)>,\n",
       "              '__delattr__': <function __main__.Vector.__delattr__(self, name)>,\n",
       "              '__repr__': <function __main__.Vector.__repr__(self)>,\n",
       "              '__dict__': <attribute '__dict__' of 'Vector' objects>,\n",
       "              '__weakref__': <attribute '__weakref__' of 'Vector' objects>,\n",
       "              '__doc__': None})"
      ]
     },
     "execution_count": 135,
     "metadata": {},
     "output_type": "execute_result"
    }
   ],
   "source": [
    "v.__class__.__dict__"
   ]
  },
  {
   "cell_type": "code",
   "execution_count": 136,
   "metadata": {},
   "outputs": [
    {
     "data": {
      "text/plain": [
       "'Vector(x=3, y=7)'"
      ]
     },
     "execution_count": 136,
     "metadata": {},
     "output_type": "execute_result"
    }
   ],
   "source": [
    "v.__class__.__dict__['__repr__'](v)"
   ]
  },
  {
   "cell_type": "code",
   "execution_count": 139,
   "metadata": {},
   "outputs": [],
   "source": [
    "# v.__class__.__dict__['a_vector_class_attribute'] = 5\n",
    "\n",
    "# ---------------------------------------------------------------------------\n",
    "# TypeError                                 Traceback (most recent call last)\n",
    "# <ipython-input-137-3f6ade8bf506> in <module>\n",
    "# ----> 1 v.__class__.__dict__['a_vector_class_attribute'] = 5\n",
    "\n",
    "# TypeError: 'mappingproxy' object does not support item assignment"
   ]
  },
  {
   "cell_type": "code",
   "execution_count": 140,
   "metadata": {},
   "outputs": [],
   "source": [
    "setattr(v.__class__, 'a_vector_class_attribute', 5)"
   ]
  },
  {
   "cell_type": "code",
   "execution_count": 141,
   "metadata": {},
   "outputs": [
    {
     "data": {
      "text/plain": [
       "5"
      ]
     },
     "execution_count": 141,
     "metadata": {},
     "output_type": "execute_result"
    }
   ],
   "source": [
    "Vector.a_vector_class_attribute"
   ]
  },
  {
   "cell_type": "markdown",
   "metadata": {},
   "source": [
    "# 12 Trading Size for Dynamism with Slots"
   ]
  },
  {
   "cell_type": "code",
   "execution_count": 114,
   "metadata": {},
   "outputs": [],
   "source": [
    "import sys"
   ]
  },
  {
   "cell_type": "code",
   "execution_count": 115,
   "metadata": {},
   "outputs": [],
   "source": [
    "d = {}"
   ]
  },
  {
   "cell_type": "code",
   "execution_count": 116,
   "metadata": {},
   "outputs": [
    {
     "data": {
      "text/plain": [
       "240"
      ]
     },
     "execution_count": 116,
     "metadata": {},
     "output_type": "execute_result"
    }
   ],
   "source": [
    "sys.getsizeof(d)"
   ]
  },
  {
   "cell_type": "code",
   "execution_count": 117,
   "metadata": {},
   "outputs": [],
   "source": [
    "class Resistor:\n",
    "\n",
    "    def __init__(self, resistance_ohms, tolerance_percent, power_watts):\n",
    "        self.resistance_ohms = resistance_ohms\n",
    "        self.tolerance_percent = tolerance_percent\n",
    "        self.power_watts = power_watts"
   ]
  },
  {
   "cell_type": "code",
   "execution_count": 118,
   "metadata": {},
   "outputs": [],
   "source": [
    "r10 = Resistor(10, 5, 0.25)"
   ]
  },
  {
   "cell_type": "code",
   "execution_count": 119,
   "metadata": {},
   "outputs": [
    {
     "data": {
      "text/plain": [
       "168"
      ]
     },
     "execution_count": 119,
     "metadata": {},
     "output_type": "execute_result"
    }
   ],
   "source": [
    "sys.getsizeof(r10) + sys.getsizeof(r10.__dict__)"
   ]
  },
  {
   "cell_type": "code",
   "execution_count": 120,
   "metadata": {},
   "outputs": [],
   "source": [
    "r10.cost_dollars = 0.02"
   ]
  },
  {
   "cell_type": "code",
   "execution_count": 121,
   "metadata": {},
   "outputs": [
    {
     "data": {
      "text/plain": [
       "208"
      ]
     },
     "execution_count": 121,
     "metadata": {},
     "output_type": "execute_result"
    }
   ],
   "source": [
    "sys.getsizeof(r10) + sys.getsizeof(r10.__dict__)"
   ]
  },
  {
   "cell_type": "code",
   "execution_count": 122,
   "metadata": {},
   "outputs": [],
   "source": [
    "class Resistor:\n",
    "\n",
    "    __slots__ = ['resistance_ohms', 'tolerance_percent', 'power_watts']\n",
    "\n",
    "    def __init__(self, resistance_ohms, tolerance_percent, power_watts):\n",
    "        self.resistance_ohms = resistance_ohms\n",
    "        self.tolerance_percent = tolerance_percent\n",
    "        self.power_watts = power_watts"
   ]
  },
  {
   "cell_type": "code",
   "execution_count": 123,
   "metadata": {},
   "outputs": [],
   "source": [
    "r10 = Resistor(10, 5, 0.25)"
   ]
  },
  {
   "cell_type": "code",
   "execution_count": 125,
   "metadata": {},
   "outputs": [
    {
     "data": {
      "text/plain": [
       "5"
      ]
     },
     "execution_count": 125,
     "metadata": {},
     "output_type": "execute_result"
    }
   ],
   "source": [
    "r10.tolerance_percent"
   ]
  },
  {
   "cell_type": "code",
   "execution_count": 126,
   "metadata": {},
   "outputs": [
    {
     "data": {
      "text/plain": [
       "0.25"
      ]
     },
     "execution_count": 126,
     "metadata": {},
     "output_type": "execute_result"
    }
   ],
   "source": [
    "r10.power_watts"
   ]
  },
  {
   "cell_type": "code",
   "execution_count": 127,
   "metadata": {},
   "outputs": [
    {
     "data": {
      "text/plain": [
       "64"
      ]
     },
     "execution_count": 127,
     "metadata": {},
     "output_type": "execute_result"
    }
   ],
   "source": [
    "sys.getsizeof(r10)"
   ]
  },
  {
   "cell_type": "code",
   "execution_count": 129,
   "metadata": {},
   "outputs": [],
   "source": [
    "# r10.cost_dollars = 0.02\n",
    "\n",
    "# ---------------------------------------------------------------------------\n",
    "# AttributeError                            Traceback (most recent call last)\n",
    "# <ipython-input-128-1faa9995950f> in <module>\n",
    "# ----> 1 r10.cost_dollars = 0.02\n",
    "\n",
    "# AttributeError: 'Resistor' object has no attribute 'cost_dollars'"
   ]
  },
  {
   "cell_type": "code",
   "execution_count": 131,
   "metadata": {},
   "outputs": [],
   "source": [
    "# r10.__dict__\n",
    "\n",
    "# ---------------------------------------------------------------------------\n",
    "# AttributeError                            Traceback (most recent call last)\n",
    "# <ipython-input-130-9e8bf7e89322> in <module>\n",
    "# ----> 1 r10.__dict__\n",
    "\n",
    "# AttributeError: 'Resistor' object has no attribute '__dict__'"
   ]
  },
  {
   "cell_type": "code",
   "execution_count": null,
   "metadata": {},
   "outputs": [],
   "source": []
  }
 ],
 "metadata": {
  "kernelspec": {
   "display_name": "Python 3",
   "language": "python",
   "name": "python3"
  },
  "language_info": {
   "codemirror_mode": {
    "name": "ipython",
    "version": 3
   },
   "file_extension": ".py",
   "mimetype": "text/x-python",
   "name": "python",
   "nbconvert_exporter": "python",
   "pygments_lexer": "ipython3",
   "version": "3.6.7"
  }
 },
 "nbformat": 4,
 "nbformat_minor": 2
}
