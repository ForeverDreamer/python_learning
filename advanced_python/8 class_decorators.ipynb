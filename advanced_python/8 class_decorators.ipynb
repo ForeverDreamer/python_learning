{
 "cells": [
  {
   "cell_type": "markdown",
   "metadata": {},
   "source": [
    "# 1 class_decorators"
   ]
  },
  {
   "cell_type": "code",
   "execution_count": 1,
   "metadata": {},
   "outputs": [
    {
     "name": "stdout",
     "output_type": "stream",
     "text": [
      "__module__\n",
      "__init__\n",
      "get_kelvin\n",
      "set_kelvin\n",
      "__dict__\n",
      "__weakref__\n",
      "__doc__\n"
     ]
    }
   ],
   "source": [
    "def my_class_decorator(cls):\n",
    "    for name, attr in vars(cls).items():\n",
    "        print(name)\n",
    "    return cls\n",
    "\n",
    "@my_class_decorator\n",
    "class Temperature:\n",
    "    \n",
    "    def __init__(self, kelvin):\n",
    "        self._kelvin = kelvin\n",
    "    \n",
    "    def get_kelvin(self):\n",
    "        return self._kelvin\n",
    "    \n",
    "    def set_kelvin(self, value):\n",
    "        self._kelvin = value"
   ]
  },
  {
   "cell_type": "markdown",
   "metadata": {},
   "source": [
    "# 2 Enforcing Class Invariants"
   ]
  },
  {
   "cell_type": "code",
   "execution_count": 2,
   "metadata": {},
   "outputs": [],
   "source": [
    "import functools\n",
    "\n",
    "\n",
    "def invariant(predicate):\n",
    "    \"\"\"Create a class decorator which checks a class invariant.\n",
    "\n",
    "    Args:\n",
    "        predicate: A callable to which, after every method invocation,\n",
    "            the object on which the method was called will be passed.\n",
    "            The predicate should evaluate to True if the class invariant\n",
    "            has been maintained, or False if it has been violated.\n",
    "\n",
    "    Returns:\n",
    "        A class decorator for checking the class invariant tested by\n",
    "        the supplied predicate function.\n",
    "    \"\"\"\n",
    "    def invariant_checking_class_decorator(cls):\n",
    "        \"\"\"A class decorator for checking invariants.\"\"\"\n",
    "\n",
    "        method_names = [name for name, attr in vars(cls).items() if callable(attr)]\n",
    "        for name in method_names:\n",
    "            _wrap_method_with_invariant_checking_proxy(cls, name, predicate)\n",
    "\n",
    "        return cls\n",
    "\n",
    "    return invariant_checking_class_decorator\n",
    "\n",
    "\n",
    "def _wrap_method_with_invariant_checking_proxy(cls, name, predicate):\n",
    "    method = getattr(cls, name)\n",
    "    assert callable(method)\n",
    "\n",
    "    @functools.wraps(method)\n",
    "    def invariant_checking_method_decorator(self, *args, **kwargs):\n",
    "        result = method(self, *args, **kwargs)\n",
    "        if not predicate(self):\n",
    "            raise RuntimeError(\"Class invariant {!r} violated for {!r}\".format(predicate.__doc__, self))\n",
    "        return result\n",
    "\n",
    "    setattr(cls, name, invariant_checking_method_decorator)\n",
    "\n",
    "\n",
    "def not_below_absolute_zero(temperature):\n",
    "    \"\"\"Temperature not below absolute zero\"\"\"\n",
    "    return temperature._kelvin >= 0\n",
    "    \n",
    "\n",
    "@invariant(not_below_absolute_zero)\n",
    "class Temperature:\n",
    "\n",
    "    def __init__(self, kelvin):\n",
    "        self._kelvin = kelvin\n",
    "\n",
    "    def get_kelvin(self):\n",
    "        return self._kelvin\n",
    "\n",
    "    def set_kelvin(self, value):\n",
    "        self._kelvin = value"
   ]
  },
  {
   "cell_type": "code",
   "execution_count": 3,
   "metadata": {},
   "outputs": [],
   "source": [
    "t = Temperature(5.0)"
   ]
  },
  {
   "cell_type": "code",
   "execution_count": 5,
   "metadata": {},
   "outputs": [],
   "source": [
    "# t = Temperature(-1.0)\n",
    "\n",
    "# ---------------------------------------------------------------------------\n",
    "# RuntimeError                              Traceback (most recent call last)\n",
    "# <ipython-input-4-b731ade64207> in <module>\n",
    "# ----> 1 t = Temperature(-1.0)\n",
    "\n",
    "# <ipython-input-2-56e08b4ba38b> in invariant_checking_method_decorator(self, *args, **kwargs)\n",
    "#      35         result = method(self, *args, **kwargs)\n",
    "#      36         if not predicate(self):\n",
    "# ---> 37             raise RuntimeError(\"Class invariant {!r} violated for {!r}\".format(predicate.__doc__, self))\n",
    "#      38         return result\n",
    "#      39 \n",
    "\n",
    "# RuntimeError: Class invariant 'Temperature not below absolute zero' violated for <__main__.Temperature object at 0x0000024021FA7E48>"
   ]
  },
  {
   "cell_type": "code",
   "execution_count": 6,
   "metadata": {},
   "outputs": [],
   "source": [
    "s = Temperature(42.0)"
   ]
  },
  {
   "cell_type": "code",
   "execution_count": 8,
   "metadata": {},
   "outputs": [],
   "source": [
    "# s.set_kelvin(-1.0)\n",
    "\n",
    "# ---------------------------------------------------------------------------\n",
    "# RuntimeError                              Traceback (most recent call last)\n",
    "# <ipython-input-7-8a13266ab093> in <module>\n",
    "# ----> 1 s.set_kelvin(-1.0)\n",
    "\n",
    "# <ipython-input-2-56e08b4ba38b> in invariant_checking_method_decorator(self, *args, **kwargs)\n",
    "#      35         result = method(self, *args, **kwargs)\n",
    "#      36         if not predicate(self):\n",
    "# ---> 37             raise RuntimeError(\"Class invariant {!r} violated for {!r}\".format(predicate.__doc__, self))\n",
    "#      38         return result\n",
    "#      39 \n",
    "\n",
    "# RuntimeError: Class invariant 'Temperature not below absolute zero' violated for <__main__.Temperature object at 0x0000024021FA7940>"
   ]
  },
  {
   "cell_type": "markdown",
   "metadata": {},
   "source": [
    "### Adding @property"
   ]
  },
  {
   "cell_type": "code",
   "execution_count": 9,
   "metadata": {},
   "outputs": [],
   "source": [
    "import functools\n",
    "\n",
    "\n",
    "def invariant(predicate):\n",
    "    \"\"\"Create a class decorator which checks a class invariant.\n",
    "\n",
    "    Args:\n",
    "        predicate: A callable to which, after every method invocation,\n",
    "            the object on which the method was called will be passed.\n",
    "            The predicate should evaluate to True if the class invariant\n",
    "            has been maintained, or False if it has been violated.\n",
    "\n",
    "    Returns:\n",
    "        A class decorator for checking the class invariant tested by\n",
    "        the supplied predicate function.\n",
    "    \"\"\"\n",
    "\n",
    "    def invariant_checking_class_decorator(cls):\n",
    "        \"\"\"A class decorator for checking invariants.\"\"\"\n",
    "\n",
    "        method_names = [name for name, attr in vars(cls).items() if callable(attr)]\n",
    "        for name in method_names:\n",
    "            _wrap_method_with_invariant_checking_proxy(cls, name, predicate)\n",
    "\n",
    "        return cls\n",
    "\n",
    "    return invariant_checking_class_decorator\n",
    "\n",
    "\n",
    "def _wrap_method_with_invariant_checking_proxy(cls, name, predicate):\n",
    "    method = getattr(cls, name)\n",
    "    assert callable(method)\n",
    "\n",
    "    @functools.wraps(method)\n",
    "    def invariant_checking_method_decorator(self, *args, **kwargs):\n",
    "        result = method(self, *args, **kwargs)\n",
    "        if not predicate(self):\n",
    "            raise RuntimeError(\"Class invariant {!r} violated for {!r}\".format(predicate.__doc__, self))\n",
    "        return result\n",
    "\n",
    "    setattr(cls, name, invariant_checking_method_decorator)\n",
    "\n",
    "\n",
    "def not_below_absolute_zero(temperature):\n",
    "    \"\"\"Temperature not below absolute zero\"\"\"\n",
    "    return temperature._kelvin >= 0\n",
    "\n",
    "\n",
    "@invariant(not_below_absolute_zero)\n",
    "class Temperature:\n",
    "\n",
    "    def __init__(self, kelvin):\n",
    "        self._kelvin = kelvin\n",
    "\n",
    "    def get_kelvin(self):\n",
    "        return self._kelvin\n",
    "\n",
    "    def set_kelvin(self, value):\n",
    "        self._kelvin = value\n",
    "\n",
    "    @property\n",
    "    def celsius(self):\n",
    "        return self._kelvin - 273.15\n",
    "\n",
    "    @celsius.setter\n",
    "    def celsius(self, value):\n",
    "        self._kelvin = value + 273.15\n",
    "\n",
    "    @property\n",
    "    def fahrenheit(self):\n",
    "        return self._kelvin * 9 / 5 - 459.67\n",
    "\n",
    "    @fahrenheit.setter\n",
    "    def fahrenheit(self, value):\n",
    "        self._kelvin = (value + 459.67) * 5 / 9"
   ]
  },
  {
   "cell_type": "code",
   "execution_count": 14,
   "metadata": {},
   "outputs": [],
   "source": [
    "t = Temperature(42.0)"
   ]
  },
  {
   "cell_type": "code",
   "execution_count": 15,
   "metadata": {},
   "outputs": [
    {
     "data": {
      "text/plain": [
       "-231.14999999999998"
      ]
     },
     "execution_count": 15,
     "metadata": {},
     "output_type": "execute_result"
    }
   ],
   "source": [
    "t.celsius"
   ]
  },
  {
   "cell_type": "code",
   "execution_count": 16,
   "metadata": {},
   "outputs": [],
   "source": [
    "t.celsius = -100"
   ]
  },
  {
   "cell_type": "code",
   "execution_count": 17,
   "metadata": {},
   "outputs": [
    {
     "data": {
      "text/plain": [
       "173.14999999999998"
      ]
     },
     "execution_count": 17,
     "metadata": {},
     "output_type": "execute_result"
    }
   ],
   "source": [
    "t.get_kelvin()"
   ]
  },
  {
   "cell_type": "code",
   "execution_count": 18,
   "metadata": {},
   "outputs": [],
   "source": [
    "# 温度过低应该抛异常\n",
    "t.celsius = -300"
   ]
  },
  {
   "cell_type": "code",
   "execution_count": 20,
   "metadata": {},
   "outputs": [],
   "source": [
    "# t.get_kelvin()\n",
    "\n",
    "# ---------------------------------------------------------------------------\n",
    "# RuntimeError                              Traceback (most recent call last)\n",
    "# <ipython-input-19-2304b01aaa7d> in <module>\n",
    "# ----> 1 t.get_kelvin()\n",
    "\n",
    "# <ipython-input-9-fb68a40da297> in invariant_checking_method_decorator(self, *args, **kwargs)\n",
    "#      36         result = method(self, *args, **kwargs)\n",
    "#      37         if not predicate(self):\n",
    "# ---> 38             raise RuntimeError(\"Class invariant {!r} violated for {!r}\".format(predicate.__doc__, self))\n",
    "#      39         return result\n",
    "#      40 \n",
    "\n",
    "# RuntimeError: Class invariant 'Temperature not below absolute zero' violated for <__main__.Temperature object at 0x000002402205A198>"
   ]
  },
  {
   "cell_type": "markdown",
   "metadata": {},
   "source": [
    "# 3 Detecting and Wrapping Properties"
   ]
  },
  {
   "cell_type": "code",
   "execution_count": 21,
   "metadata": {},
   "outputs": [],
   "source": [
    "from pprint import pprint as pp"
   ]
  },
  {
   "cell_type": "code",
   "execution_count": 22,
   "metadata": {},
   "outputs": [
    {
     "name": "stdout",
     "output_type": "stream",
     "text": [
      "mappingproxy({'__dict__': <attribute '__dict__' of 'Temperature' objects>,\n",
      "              '__doc__': None,\n",
      "              '__init__': <function Temperature.__init__ at 0x00000240220369D8>,\n",
      "              '__module__': '__main__',\n",
      "              '__weakref__': <attribute '__weakref__' of 'Temperature' objects>,\n",
      "              'celsius': <property object at 0x0000024022059278>,\n",
      "              'fahrenheit': <property object at 0x00000240220592C8>,\n",
      "              'get_kelvin': <function Temperature.get_kelvin at 0x00000240220361E0>,\n",
      "              'set_kelvin': <function Temperature.set_kelvin at 0x0000024022036598>})\n"
     ]
    }
   ],
   "source": [
    "pp(vars(Temperature))"
   ]
  },
  {
   "cell_type": "code",
   "execution_count": 23,
   "metadata": {},
   "outputs": [],
   "source": [
    "import functools\n",
    "\n",
    "\n",
    "def invariant(predicate):\n",
    "    \"\"\"Create a class decorator which checks a class invariant.\n",
    "\n",
    "    Args:\n",
    "        predicate: A callable to which, after every method invocation,\n",
    "            the object on which the method was called will be passed.\n",
    "            The predicate should evaluate to True if the class invariant\n",
    "            has been maintained, or False if it has been violated.\n",
    "\n",
    "    Returns:\n",
    "        A class decorator for checking the class invariant tested by\n",
    "        the supplied predicate function.\n",
    "    \"\"\"\n",
    "\n",
    "    def invariant_checking_class_decorator(cls):\n",
    "        \"\"\"A class decorator for checking invariants.\"\"\"\n",
    "\n",
    "        method_names = [name for name, attr in vars(cls).items() if callable(attr)]\n",
    "        for name in method_names:\n",
    "            _wrap_method_with_invariant_checking_proxy(cls, name, predicate)\n",
    "\n",
    "        property_names = [name for name, attr in vars(cls).items() if isinstance(attr, property)]\n",
    "        for name in property_names:\n",
    "            _wrap_property_with_invariant_checking_proxy(cls, name, predicate)\n",
    "\n",
    "        return cls\n",
    "\n",
    "    return invariant_checking_class_decorator\n",
    "\n",
    "\n",
    "def _wrap_method_with_invariant_checking_proxy(cls, name, predicate):\n",
    "    method = getattr(cls, name)\n",
    "    assert callable(method)\n",
    "\n",
    "    @functools.wraps(method)\n",
    "    def invariant_checking_method_decorator(self, *args, **kwargs):\n",
    "        result = method(self, *args, **kwargs)\n",
    "        if not predicate(self):\n",
    "            raise RuntimeError(\"Class invariant {!r} violated for {!r}\".format(predicate.__doc__, self))\n",
    "        return result\n",
    "\n",
    "    setattr(cls, name, invariant_checking_method_decorator)\n",
    "\n",
    "\n",
    "def _wrap_property_with_invariant_checking_proxy(cls, name, predicate):\n",
    "    prop = getattr(cls, name)\n",
    "    assert isinstance(prop, property)\n",
    "\n",
    "    invariant_checking_proxy = InvariantCheckingPropertyProxy(prop, predicate)\n",
    "\n",
    "    setattr(cls, name, invariant_checking_proxy)\n",
    "\n",
    "\n",
    "class InvariantCheckingPropertyProxy:\n",
    "\n",
    "    def __init__(self, referent, predicate):\n",
    "        self._referent = referent\n",
    "        self._predicate = predicate\n",
    "\n",
    "    def __get__(self, instance, owner):\n",
    "        if instance is None:\n",
    "            return self._referent\n",
    "        result = self._referent.__get__(instance, owner)\n",
    "        if not self._predicate(instance):\n",
    "            raise RuntimeError(\"Class invariant {!r} violated for {!r}\".format(\n",
    "                self._predicate.__doc__, instance))\n",
    "        return result\n",
    "\n",
    "    def __set__(self, instance, value):\n",
    "        result = self._referent.__set__(instance, value)\n",
    "        if not self._predicate(instance):\n",
    "            raise RuntimeError(\"Class invariant {!r} violated for {!r}\".format(\n",
    "                self._predicate.__doc__, instance))\n",
    "        return result\n",
    "\n",
    "    def __delete__(self, instance):\n",
    "        result = self._referent.__delete__(instance)\n",
    "        if not self._predicate(instance):\n",
    "            raise RuntimeError(\"Class invariant {!r} violated for {!r}\".format(\n",
    "                self._predicate.__doc__, instance))\n",
    "        return result\n",
    "\n",
    "\n",
    "def not_below_absolute_zero(temperature):\n",
    "    \"\"\"Temperature not below absolute zero\"\"\"\n",
    "    return temperature._kelvin >= 0\n",
    "\n",
    "\n",
    "@invariant(not_below_absolute_zero)\n",
    "class Temperature:\n",
    "\n",
    "    def __init__(self, kelvin):\n",
    "        self._kelvin = kelvin\n",
    "\n",
    "    def get_kelvin(self):\n",
    "        return self._kelvin\n",
    "\n",
    "    def set_kelvin(self, value):\n",
    "        self._kelvin = value\n",
    "\n",
    "    @property\n",
    "    def celsius(self):\n",
    "        return self._kelvin - 273.15\n",
    "\n",
    "    @celsius.setter\n",
    "    def celsius(self, value):\n",
    "        self._kelvin = value + 273.15\n",
    "\n",
    "    @property\n",
    "    def fahrenheit(self):\n",
    "        return self._kelvin * 9 / 5 - 459.67\n",
    "\n",
    "    @fahrenheit.setter\n",
    "    def fahrenheit(self, value):\n",
    "        self._kelvin = (value + 459.67) * 5 / 9"
   ]
  },
  {
   "cell_type": "code",
   "execution_count": 24,
   "metadata": {},
   "outputs": [],
   "source": [
    "t = Temperature(42.0)"
   ]
  },
  {
   "cell_type": "code",
   "execution_count": 26,
   "metadata": {},
   "outputs": [],
   "source": [
    "# t.celsius = -300\n",
    "\n",
    "# ---------------------------------------------------------------------------\n",
    "# RuntimeError                              Traceback (most recent call last)\n",
    "# <ipython-input-25-5518b9891640> in <module>\n",
    "# ----> 1 t.celsius = -300\n",
    "\n",
    "# <ipython-input-23-f6065aade808> in __set__(self, instance, value)\n",
    "#      74         if not self._predicate(instance):\n",
    "#      75             raise RuntimeError(\"Class invariant {!r} violated for {!r}\".format(\n",
    "# ---> 76                 self._predicate.__doc__, instance))\n",
    "#      77         return result\n",
    "#      78 \n",
    "\n",
    "# RuntimeError: Class invariant 'Temperature not below absolute zero' violated for <__main__.Temperature object at 0x0000024023490AC8>"
   ]
  },
  {
   "cell_type": "code",
   "execution_count": 27,
   "metadata": {},
   "outputs": [],
   "source": [
    "t.fahrenheit = 100"
   ]
  },
  {
   "cell_type": "code",
   "execution_count": 28,
   "metadata": {},
   "outputs": [
    {
     "data": {
      "text/plain": [
       "37.77777777777783"
      ]
     },
     "execution_count": 28,
     "metadata": {},
     "output_type": "execute_result"
    }
   ],
   "source": [
    "t.celsius"
   ]
  },
  {
   "cell_type": "markdown",
   "metadata": {},
   "source": [
    "# 4 Chaining Class Decorators"
   ]
  },
  {
   "cell_type": "code",
   "execution_count": 29,
   "metadata": {},
   "outputs": [],
   "source": [
    "import functools\n",
    "\n",
    "\n",
    "def invariant(predicate):\n",
    "    \"\"\"Create a class decorator which checks a class invariant.\n",
    "\n",
    "    Args:\n",
    "        predicate: A callable to which, after every method invocation,\n",
    "            the object on which the method was called will be passed.\n",
    "            The predicate should evaluate to True if the class invariant\n",
    "            has been maintained, or False if it has been violated.\n",
    "\n",
    "    Returns:\n",
    "        A class decorator for checking the class invariant tested by\n",
    "        the supplied predicate function.\n",
    "    \"\"\"\n",
    "\n",
    "    def invariant_checking_class_decorator(cls):\n",
    "        \"\"\"A class decorator for checking invariants.\"\"\"\n",
    "\n",
    "        method_names = [name for name, attr in vars(cls).items() if callable(attr)]\n",
    "        for name in method_names:\n",
    "            _wrap_method_with_invariant_checking_proxy(cls, name, predicate)\n",
    "\n",
    "        property_names = [name for name, attr in vars(cls).items() if isinstance(attr, property)]\n",
    "        for name in property_names:\n",
    "            _wrap_property_with_invariant_checking_proxy(cls, name, predicate)\n",
    "\n",
    "        return cls\n",
    "\n",
    "    return invariant_checking_class_decorator\n",
    "\n",
    "\n",
    "def _wrap_method_with_invariant_checking_proxy(cls, name, predicate):\n",
    "    method = getattr(cls, name)\n",
    "    assert callable(method)\n",
    "\n",
    "    @functools.wraps(method)\n",
    "    def invariant_checking_method_decorator(self, *args, **kwargs):\n",
    "        result = method(self, *args, **kwargs)\n",
    "        if not predicate(self):\n",
    "            raise RuntimeError(\"Class invariant {!r} violated for {!r}\".format(predicate.__doc__, self))\n",
    "        return result\n",
    "\n",
    "    setattr(cls, name, invariant_checking_method_decorator)\n",
    "\n",
    "\n",
    "def _wrap_property_with_invariant_checking_proxy(cls, name, predicate):\n",
    "    prop = getattr(cls, name)\n",
    "    assert isinstance(prop, property)\n",
    "\n",
    "    invariant_checking_proxy = InvariantCheckingPropertyProxy(prop, predicate)\n",
    "\n",
    "    setattr(cls, name, invariant_checking_proxy)\n",
    "\n",
    "\n",
    "class InvariantCheckingPropertyProxy:\n",
    "\n",
    "    def __init__(self, referent, predicate):\n",
    "        self._referent = referent\n",
    "        self._predicate = predicate\n",
    "\n",
    "    def __get__(self, instance, owner):\n",
    "        if instance is None:\n",
    "            return self._referent\n",
    "        result = self._referent.__get__(instance, owner)\n",
    "        if not self._predicate(instance):\n",
    "            raise RuntimeError(\"Class invariant {!r} violated for {!r}\".format(\n",
    "                self._predicate.__doc__, instance))\n",
    "        return result\n",
    "\n",
    "    def __set__(self, instance, value):\n",
    "        result = self._referent.__set__(instance, value)\n",
    "        if not self._predicate(instance):\n",
    "            raise RuntimeError(\"Class invariant {!r} violated for {!r}\".format(\n",
    "                self._predicate.__doc__, instance))\n",
    "        return result\n",
    "\n",
    "    def __delete__(self, instance):\n",
    "        result = self._referent.__delete__(instance)\n",
    "        if not self._predicate(instance):\n",
    "            raise RuntimeError(\"Class invariant {!r} violated for {!r}\".format(\n",
    "                self._predicate.__doc__, instance))\n",
    "        return result\n",
    "\n",
    "\n",
    "def not_below_absolute_zero(temperature):\n",
    "    \"\"\"Temperature not below absolute zero\"\"\"\n",
    "    return temperature._kelvin >= 0\n",
    "\n",
    "\n",
    "def below_absolute_hot(temperature):\n",
    "    \"\"\"Temperature below absolute hot\"\"\"\n",
    "    # See http://en.wikipedia.org/wiki/Absolute_hot\n",
    "    return temperature._kelvin <= 1.416785e32\n",
    "\n",
    "\n",
    "@invariant(below_absolute_hot)\n",
    "@invariant(not_below_absolute_zero)\n",
    "class Temperature:\n",
    "\n",
    "    def __init__(self, kelvin):\n",
    "        self._kelvin = kelvin\n",
    "\n",
    "    def get_kelvin(self):\n",
    "        return self._kelvin\n",
    "\n",
    "    def set_kelvin(self, value):\n",
    "        self._kelvin = value\n",
    "\n",
    "    @property\n",
    "    def celsius(self):\n",
    "        return self._kelvin - 273.15\n",
    "\n",
    "    @celsius.setter\n",
    "    def celsius(self, value):\n",
    "        self._kelvin = value + 273.15\n",
    "\n",
    "    @property\n",
    "    def fahrenheit(self):\n",
    "        return self._kelvin * 9 / 5 - 459.67\n",
    "\n",
    "    @fahrenheit.setter\n",
    "    def fahrenheit(self, value):\n",
    "        self._kelvin = (value + 459.67) * 5 / 9"
   ]
  },
  {
   "cell_type": "code",
   "execution_count": 30,
   "metadata": {},
   "outputs": [],
   "source": [
    "t = Temperature(37.5)"
   ]
  },
  {
   "cell_type": "code",
   "execution_count": 32,
   "metadata": {},
   "outputs": [],
   "source": [
    "# t.set_kelvin(-300)\n",
    "\n",
    "# ---------------------------------------------------------------------------\n",
    "# RuntimeError                              Traceback (most recent call last)\n",
    "# <ipython-input-31-83f3845eb1de> in <module>\n",
    "# ----> 1 t.set_kelvin(-300)\n",
    "\n",
    "# <ipython-input-29-ce2bc13a2614> in invariant_checking_method_decorator(self, *args, **kwargs)\n",
    "#      38     @functools.wraps(method)\n",
    "#      39     def invariant_checking_method_decorator(self, *args, **kwargs):\n",
    "# ---> 40         result = method(self, *args, **kwargs)\n",
    "#      41         if not predicate(self):\n",
    "#      42             raise RuntimeError(\"Class invariant {!r} violated for {!r}\".format(predicate.__doc__, self))\n",
    "\n",
    "# <ipython-input-29-ce2bc13a2614> in invariant_checking_method_decorator(self, *args, **kwargs)\n",
    "#      40         result = method(self, *args, **kwargs)\n",
    "#      41         if not predicate(self):\n",
    "# ---> 42             raise RuntimeError(\"Class invariant {!r} violated for {!r}\".format(predicate.__doc__, self))\n",
    "#      43         return result\n",
    "#      44 \n",
    "\n",
    "# RuntimeError: Class invariant 'Temperature not below absolute zero' violated for <__main__.Temperature object at 0x0000024023484748>"
   ]
  },
  {
   "cell_type": "code",
   "execution_count": 34,
   "metadata": {},
   "outputs": [],
   "source": [
    "# t.set_kelvin(1e33)\n",
    "\n",
    "# ---------------------------------------------------------------------------\n",
    "# RuntimeError                              Traceback (most recent call last)\n",
    "# <ipython-input-33-21f1b6e7c3d6> in <module>\n",
    "# ----> 1 t.set_kelvin(1e33)\n",
    "\n",
    "# <ipython-input-29-ce2bc13a2614> in invariant_checking_method_decorator(self, *args, **kwargs)\n",
    "#      40         result = method(self, *args, **kwargs)\n",
    "#      41         if not predicate(self):\n",
    "# ---> 42             raise RuntimeError(\"Class invariant {!r} violated for {!r}\".format(predicate.__doc__, self))\n",
    "#      43         return result\n",
    "#      44 \n",
    "\n",
    "# RuntimeError: Class invariant 'Temperature below absolute hot' violated for <__main__.Temperature object at 0x0000024023484748>"
   ]
  },
  {
   "cell_type": "code",
   "execution_count": 36,
   "metadata": {},
   "outputs": [],
   "source": [
    "# t.celsius = -300\n",
    "\n",
    "# ---------------------------------------------------------------------------\n",
    "# RuntimeError                              Traceback (most recent call last)\n",
    "# <ipython-input-35-5518b9891640> in <module>\n",
    "# ----> 1 t.celsius = -300\n",
    "\n",
    "# <ipython-input-29-ce2bc13a2614> in __set__(self, instance, value)\n",
    "#      74         if not self._predicate(instance):\n",
    "#      75             raise RuntimeError(\"Class invariant {!r} violated for {!r}\".format(\n",
    "# ---> 76                 self._predicate.__doc__, instance))\n",
    "#      77         return result\n",
    "#      78 \n",
    "\n",
    "# RuntimeError: Class invariant 'Temperature not below absolute zero' violated for <__main__.Temperature object at 0x0000024023484748>"
   ]
  },
  {
   "cell_type": "code",
   "execution_count": 38,
   "metadata": {},
   "outputs": [],
   "source": [
    "# 应该抛异常, 需要Abcs解决\n",
    "t.celsius = 1e34"
   ]
  },
  {
   "cell_type": "code",
   "execution_count": null,
   "metadata": {},
   "outputs": [],
   "source": []
  }
 ],
 "metadata": {
  "kernelspec": {
   "display_name": "Python 3",
   "language": "python",
   "name": "python3"
  },
  "language_info": {
   "codemirror_mode": {
    "name": "ipython",
    "version": 3
   },
   "file_extension": ".py",
   "mimetype": "text/x-python",
   "name": "python",
   "nbconvert_exporter": "python",
   "pygments_lexer": "ipython3",
   "version": "3.6.7"
  }
 },
 "nbformat": 4,
 "nbformat_minor": 2
}
