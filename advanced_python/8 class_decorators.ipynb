{
 "cells": [
  {
   "cell_type": "markdown",
   "metadata": {},
   "source": [
    "# 1 class_decorators"
   ]
  },
  {
   "cell_type": "code",
   "execution_count": 1,
   "metadata": {},
   "outputs": [
    {
     "name": "stdout",
     "output_type": "stream",
     "text": [
      "__module__\n",
      "__init__\n",
      "get_kelvin\n",
      "set_kelvin\n",
      "__dict__\n",
      "__weakref__\n",
      "__doc__\n"
     ]
    }
   ],
   "source": [
    "def my_class_decorator(cls):\n",
    "    for name, attr in vars(cls).items():\n",
    "        print(name)\n",
    "    return cls\n",
    "\n",
    "@my_class_decorator\n",
    "class Temperature:\n",
    "    \n",
    "    def __init__(self, kelvin):\n",
    "        self._kelvin = kelvin\n",
    "    \n",
    "    def get_kelvin(self):\n",
    "        return self._kelvin\n",
    "    \n",
    "    def set_kelvin(self, value):\n",
    "        self._kelvin = value"
   ]
  },
  {
   "cell_type": "code",
   "execution_count": null,
   "metadata": {},
   "outputs": [],
   "source": []
  }
 ],
 "metadata": {
  "kernelspec": {
   "display_name": "python_basics",
   "language": "python",
   "name": "python_basics"
  },
  "language_info": {
   "codemirror_mode": {
    "name": "ipython",
    "version": 3
   },
   "file_extension": ".py",
   "mimetype": "text/x-python",
   "name": "python",
   "nbconvert_exporter": "python",
   "pygments_lexer": "ipython3",
   "version": "3.6.7"
  }
 },
 "nbformat": 4,
 "nbformat_minor": 2
}
