{
 "cells": [
  {
   "cell_type": "markdown",
   "metadata": {},
   "source": [
    "# 1 Introducing Descriptors"
   ]
  },
  {
   "cell_type": "code",
   "execution_count": 1,
   "metadata": {},
   "outputs": [],
   "source": [
    "class Planet:\n",
    "\n",
    "    def __init__(self,\n",
    "                 name,\n",
    "                 radius_metres,\n",
    "                 mass_kilograms,\n",
    "                 orbital_period_seconds,\n",
    "                 surface_temperature_kelvin):\n",
    "        self.name = name\n",
    "        self.radius_metres = radius_metres\n",
    "        self.mass_kilograms = mass_kilograms\n",
    "        self.orbital_period_seconds = orbital_period_seconds\n",
    "        self.surface_temperature_kelvin = surface_temperature_kelvin"
   ]
  },
  {
   "cell_type": "code",
   "execution_count": 2,
   "metadata": {},
   "outputs": [],
   "source": [
    "pluto = Planet(name='Pluto', radius_metres=1184e3, mass_kilograms=1.305e22, orbital_period_seconds=7816012992, \n",
    "               surface_temperature_kelvin=55)"
   ]
  },
  {
   "cell_type": "code",
   "execution_count": 3,
   "metadata": {},
   "outputs": [
    {
     "data": {
      "text/plain": [
       "1184000.0"
      ]
     },
     "execution_count": 3,
     "metadata": {},
     "output_type": "execute_result"
    }
   ],
   "source": [
    "pluto.radius_metres"
   ]
  },
  {
   "cell_type": "code",
   "execution_count": 4,
   "metadata": {},
   "outputs": [],
   "source": [
    "pluto.radius_metres = -1000"
   ]
  },
  {
   "cell_type": "code",
   "execution_count": 5,
   "metadata": {},
   "outputs": [],
   "source": [
    "planet_x = Planet(name='X', radius_metres=10e3, mass_kilograms=0, orbital_period_seconds=-7293234, surface_temperature_kelvin=-5)"
   ]
  },
  {
   "cell_type": "code",
   "execution_count": 6,
   "metadata": {},
   "outputs": [],
   "source": [
    "class Planet:\n",
    "\n",
    "    def __init__(self,\n",
    "                 name,\n",
    "                 radius_metres,\n",
    "                 mass_kilograms,\n",
    "                 orbital_period_seconds,\n",
    "                 surface_temperature_kelvin):\n",
    "        self.name = name\n",
    "        self.radius_metres = radius_metres\n",
    "        self.mass_kilograms = mass_kilograms\n",
    "        self.orbital_period_seconds = orbital_period_seconds\n",
    "        self.surface_temperature_kelvin = surface_temperature_kelvin\n",
    "\n",
    "    @property\n",
    "    def name(self):\n",
    "        return self._name\n",
    "\n",
    "    @name.setter\n",
    "    def name(self, value):\n",
    "        if not value:\n",
    "            raise ValueError(\"Cannot set empty Planet.name\")\n",
    "        self._name = value\n",
    "\n",
    "    @property\n",
    "    def radius_metres(self):\n",
    "        return self._radius_metres\n",
    "\n",
    "    @radius_metres.setter\n",
    "    def radius_metres(self, value):\n",
    "        if value <= 0:\n",
    "            raise ValueError(\"radius_metres value {} is not positive.\".format(value))\n",
    "        self._radius_metres = value\n",
    "\n",
    "    @property\n",
    "    def mass_kilograms(self):\n",
    "        return self._mass_kilograms\n",
    "\n",
    "    @mass_kilograms.setter\n",
    "    def mass_kilograms(self, value):\n",
    "        if value <= 0:\n",
    "            raise ValueError(\"mass_kilograms value {} is not positive.\".format(value))\n",
    "        self._mass_kilograms = value\n",
    "\n",
    "    @property\n",
    "    def orbital_period_seconds(self):\n",
    "        return self._orbital_period_seconds\n",
    "\n",
    "    @orbital_period_seconds.setter\n",
    "    def orbital_period_seconds(self, value):\n",
    "        if value <= 0:\n",
    "            raise ValueError(\"orbital_period_seconds value {} is not positive.\".format(value))\n",
    "        self._orbital_period_seconds = value\n",
    "\n",
    "    @property\n",
    "    def surface_temperature_kelvin(self):\n",
    "        return self._surface_temperature_kelvin\n",
    "\n",
    "    @surface_temperature_kelvin.setter\n",
    "    def surface_temperature_kelvin(self, value):\n",
    "        if value <= 0:\n",
    "            raise ValueError(\"surface_temperature_kelvin value {} is not positive.\".format(value))\n",
    "        self._surface_temperature_kelvin = value\n"
   ]
  },
  {
   "cell_type": "code",
   "execution_count": 8,
   "metadata": {},
   "outputs": [],
   "source": [
    "# planet_x = Planet(name='X', radius_metres=10e3, mass_kilograms=0, orbital_period_seconds=-7293234, surface_temperature_kelvin=-5)\n",
    "\n",
    "# ---------------------------------------------------------------------------\n",
    "# ValueError                                Traceback (most recent call last)\n",
    "# <ipython-input-7-2e097bdeda1d> in <module>\n",
    "# ----> 1 planet_x = Planet(name='X', radius_metres=10e3, mass_kilograms=0, orbital_period_seconds=-7293234, surface_temperature_kelvin=-5)\n",
    "\n",
    "# <ipython-input-6-9d72f013b1b2> in __init__(self, name, radius_metres, mass_kilograms, orbital_period_seconds, surface_temperature_kelvin)\n",
    "#       9         self.name = name\n",
    "#      10         self.radius_metres = radius_metres\n",
    "# ---> 11         self.mass_kilograms = mass_kilograms\n",
    "#      12         self.orbital_period_seconds = orbital_period_seconds\n",
    "#      13         self.surface_temperature_kelvin = surface_temperature_kelvin\n",
    "\n",
    "# <ipython-input-6-9d72f013b1b2> in mass_kilograms(self, value)\n",
    "#      40     def mass_kilograms(self, value):\n",
    "#      41         if value <= 0:\n",
    "# ---> 42             raise ValueError(\"mass_kilograms value {} is not positive.\".format(value))\n",
    "#      43         self._mass_kilograms = value\n",
    "#      44 \n",
    "\n",
    "# ValueError: mass_kilograms value 0 is not positive."
   ]
  },
  {
   "cell_type": "markdown",
   "metadata": {},
   "source": [
    "# 2 Properties are Descriptors"
   ]
  },
  {
   "cell_type": "code",
   "execution_count": 9,
   "metadata": {},
   "outputs": [
    {
     "name": "stdout",
     "output_type": "stream",
     "text": [
      "Help on class property in module builtins:\n",
      "\n",
      "class property(object)\n",
      " |  property(fget=None, fset=None, fdel=None, doc=None) -> property attribute\n",
      " |  \n",
      " |  fget is a function to be used for getting an attribute value, and likewise\n",
      " |  fset is a function for setting, and fdel a function for del'ing, an\n",
      " |  attribute.  Typical use is to define a managed attribute x:\n",
      " |  \n",
      " |  class C(object):\n",
      " |      def getx(self): return self._x\n",
      " |      def setx(self, value): self._x = value\n",
      " |      def delx(self): del self._x\n",
      " |      x = property(getx, setx, delx, \"I'm the 'x' property.\")\n",
      " |  \n",
      " |  Decorators make defining new properties or modifying existing ones easy:\n",
      " |  \n",
      " |  class C(object):\n",
      " |      @property\n",
      " |      def x(self):\n",
      " |          \"I am the 'x' property.\"\n",
      " |          return self._x\n",
      " |      @x.setter\n",
      " |      def x(self, value):\n",
      " |          self._x = value\n",
      " |      @x.deleter\n",
      " |      def x(self):\n",
      " |          del self._x\n",
      " |  \n",
      " |  Methods defined here:\n",
      " |  \n",
      " |  __delete__(self, instance, /)\n",
      " |      Delete an attribute of instance.\n",
      " |  \n",
      " |  __get__(self, instance, owner, /)\n",
      " |      Return an attribute of instance, which is of type owner.\n",
      " |  \n",
      " |  __getattribute__(self, name, /)\n",
      " |      Return getattr(self, name).\n",
      " |  \n",
      " |  __init__(self, /, *args, **kwargs)\n",
      " |      Initialize self.  See help(type(self)) for accurate signature.\n",
      " |  \n",
      " |  __new__(*args, **kwargs) from builtins.type\n",
      " |      Create and return a new object.  See help(type) for accurate signature.\n",
      " |  \n",
      " |  __set__(self, instance, value, /)\n",
      " |      Set an attribute of instance to value.\n",
      " |  \n",
      " |  deleter(...)\n",
      " |      Descriptor to change the deleter on a property.\n",
      " |  \n",
      " |  getter(...)\n",
      " |      Descriptor to change the getter on a property.\n",
      " |  \n",
      " |  setter(...)\n",
      " |      Descriptor to change the setter on a property.\n",
      " |  \n",
      " |  ----------------------------------------------------------------------\n",
      " |  Data descriptors defined here:\n",
      " |  \n",
      " |  __isabstractmethod__\n",
      " |  \n",
      " |  fdel\n",
      " |  \n",
      " |  fget\n",
      " |  \n",
      " |  fset\n",
      "\n"
     ]
    }
   ],
   "source": [
    "help(property)"
   ]
  },
  {
   "cell_type": "code",
   "execution_count": 10,
   "metadata": {},
   "outputs": [],
   "source": [
    "class Planet:\n",
    "\n",
    "    def __init__(self,\n",
    "                 name,\n",
    "                 radius_metres,\n",
    "                 mass_kilograms,\n",
    "                 orbital_period_seconds,\n",
    "                 surface_temperature_kelvin):\n",
    "        self.name = name\n",
    "        self.radius_metres = radius_metres\n",
    "        self.mass_kilograms = mass_kilograms\n",
    "        self.orbital_period_seconds = orbital_period_seconds\n",
    "        self.surface_temperature_kelvin = surface_temperature_kelvin\n",
    "\n",
    "    @property\n",
    "    def name(self):\n",
    "        return self._name\n",
    "\n",
    "    @name.setter\n",
    "    def name(self, value):\n",
    "        if not value:\n",
    "            raise ValueError(\"Cannot set empty Planet.name\")\n",
    "        self._name = value\n",
    "\n",
    "    def _get_radius_metres(self):\n",
    "        return self._radius_metres\n",
    "\n",
    "    def _set_radius_metres(self, value):\n",
    "        if value <= 0:\n",
    "            raise ValueError(\"radius_metres value {} is not positive.\".format(value))\n",
    "        self._radius_metres = value\n",
    "\n",
    "    radius_metres = property(fget=_get_radius_metres, fset=_set_radius_metres)\n",
    "\n",
    "    def _get_mass_kilograms(self):\n",
    "        return self._mass_kilograms\n",
    "\n",
    "    def _set_mass_kilograms(self, value):\n",
    "        if value <= 0:\n",
    "            raise ValueError(\"mass_kilograms value {} is not positive.\".format(value))\n",
    "        self._mass_kilograms = value\n",
    "\n",
    "    mass_kilograms = property(fget=_get_mass_kilograms, fset=_set_mass_kilograms)\n",
    "\n",
    "    def _get_orbital_period_seconds(self):\n",
    "        return self._orbital_period_seconds\n",
    "\n",
    "    def _set_orbital_period_seconds(self, value):\n",
    "        if value <= 0:\n",
    "            raise ValueError(\"orbital_period_seconds value {} is not positive.\".format(value))\n",
    "        self._orbital_period_seconds = value\n",
    "\n",
    "    orbital_period_seconds = property(fget=_get_orbital_period_seconds, fset=_set_orbital_period_seconds)\n",
    "\n",
    "    def _get_surface_temperature_kelvin(self):\n",
    "        return self._surface_temperature_kelvin\n",
    "\n",
    "    def _set_surface_temperature_kelvin(self, value):\n",
    "        if value <= 0:\n",
    "            raise ValueError(\"surface_temperature_kelvin value {} is not positive.\".format(value))\n",
    "        self._surface_temperature_kelvin = value\n",
    "\n",
    "    surface_temperature_kelvin = property(fget=_get_surface_temperature_kelvin, fset=_set_surface_temperature_kelvin)\n"
   ]
  },
  {
   "cell_type": "code",
   "execution_count": 12,
   "metadata": {},
   "outputs": [],
   "source": [
    "pluto = Planet(name='Pluto', radius_metres=1184e3, mass_kilograms=1.305e22, orbital_period_seconds=7816012992, surface_temperature_kelvin=55)"
   ]
  },
  {
   "cell_type": "code",
   "execution_count": 13,
   "metadata": {},
   "outputs": [
    {
     "data": {
      "text/plain": [
       "1184000.0"
      ]
     },
     "execution_count": 13,
     "metadata": {},
     "output_type": "execute_result"
    }
   ],
   "source": [
    "pluto.radius_metres"
   ]
  },
  {
   "cell_type": "code",
   "execution_count": 15,
   "metadata": {},
   "outputs": [],
   "source": [
    "# pluto.radius_metres = -13\n",
    "\n",
    "# ---------------------------------------------------------------------------\n",
    "# ValueError                                Traceback (most recent call last)\n",
    "# <ipython-input-14-4c5c7f40e8a2> in <module>\n",
    "# ----> 1 pluto.radius_metres = -13\n",
    "\n",
    "# <ipython-input-10-e75e44b69d08> in _set_radius_metres(self, value)\n",
    "#      28     def _set_radius_metres(self, value):\n",
    "#      29         if value <= 0:\n",
    "# ---> 30             raise ValueError(\"radius_metres value {} is not positive.\".format(value))\n",
    "#      31         self._radius_metres = value\n",
    "#      32 \n",
    "\n",
    "# ValueError: radius_metres value -13 is not positive."
   ]
  },
  {
   "cell_type": "markdown",
   "metadata": {},
   "source": [
    "# 3 Implementing a Descriptor"
   ]
  },
  {
   "cell_type": "code",
   "execution_count": 29,
   "metadata": {},
   "outputs": [],
   "source": [
    "from weakref import WeakKeyDictionary\n",
    "\n",
    "\n",
    "class Positive:\n",
    "\n",
    "    def __init__(self):\n",
    "        self._instance_data = WeakKeyDictionary()\n",
    "\n",
    "    def __get__(self, instance, owner):\n",
    "        return self._instance_data[instance]\n",
    "\n",
    "    def __set__(self, instance, value):\n",
    "        if value <= 0:\n",
    "            raise ValueError(\"Value {} is not positive\".format(value))\n",
    "        self._instance_data[instance] = value\n",
    "        print(self._instance_data)\n",
    "        print(\"=======================\")\n",
    "\n",
    "    def __delete__(self, instance):\n",
    "        raise AttributeError(\"Cannot delete attribute\")\n",
    "\n",
    "\n",
    "class Planet:\n",
    "\n",
    "    def __init__(self,\n",
    "                 name,\n",
    "                 radius_metres,\n",
    "                 mass_kilograms,\n",
    "                 orbital_period_seconds,\n",
    "                 surface_temperature_kelvin):\n",
    "        self.name = name\n",
    "        self.radius_metres = radius_metres\n",
    "        self.mass_kilograms = mass_kilograms\n",
    "        self.orbital_period_seconds = orbital_period_seconds\n",
    "        self.surface_temperature_kelvin = surface_temperature_kelvin\n",
    "\n",
    "    @property\n",
    "    def name(self):\n",
    "        return self._name\n",
    "\n",
    "    @name.setter\n",
    "    def name(self, value):\n",
    "        if not value:\n",
    "            raise ValueError(\"Cannot set empty Planet.name\")\n",
    "        self._name = value\n",
    "\n",
    "    radius_metres = Positive()\n",
    "    mass_kilograms = Positive()\n",
    "    orbital_period_seconds = Positive()\n",
    "    surface_temperature_kelvin = Positive()"
   ]
  },
  {
   "cell_type": "code",
   "execution_count": 30,
   "metadata": {},
   "outputs": [
    {
     "name": "stdout",
     "output_type": "stream",
     "text": [
      "<WeakKeyDictionary at 0x1ca155a1940>\n",
      "=======================\n",
      "<WeakKeyDictionary at 0x1ca155a19b0>\n",
      "=======================\n",
      "<WeakKeyDictionary at 0x1ca155a1a20>\n",
      "=======================\n",
      "<WeakKeyDictionary at 0x1ca155a1ac8>\n",
      "=======================\n"
     ]
    }
   ],
   "source": [
    "mercury = Planet(\"Mercury\",\n",
    "                 radius_metres=2439.7e3,\n",
    "                 mass_kilograms=3.3022e23,\n",
    "                 orbital_period_seconds=7.60052e6,\n",
    "                 surface_temperature_kelvin=340)"
   ]
  },
  {
   "cell_type": "code",
   "execution_count": 31,
   "metadata": {},
   "outputs": [
    {
     "name": "stdout",
     "output_type": "stream",
     "text": [
      "<WeakKeyDictionary at 0x1ca155a1940>\n",
      "=======================\n",
      "<WeakKeyDictionary at 0x1ca155a19b0>\n",
      "=======================\n",
      "<WeakKeyDictionary at 0x1ca155a1a20>\n",
      "=======================\n",
      "<WeakKeyDictionary at 0x1ca155a1ac8>\n",
      "=======================\n"
     ]
    }
   ],
   "source": [
    "venus = Planet(\"Venus\",\n",
    "               radius_metres=6051.8e3,\n",
    "               mass_kilograms=4.8676e24,\n",
    "               orbital_period_seconds=1.94142e7,\n",
    "               surface_temperature_kelvin=737)"
   ]
  },
  {
   "cell_type": "code",
   "execution_count": 32,
   "metadata": {},
   "outputs": [
    {
     "name": "stdout",
     "output_type": "stream",
     "text": [
      "<WeakKeyDictionary at 0x1ca155a1940>\n",
      "=======================\n",
      "<WeakKeyDictionary at 0x1ca155a19b0>\n",
      "=======================\n",
      "<WeakKeyDictionary at 0x1ca155a1a20>\n",
      "=======================\n",
      "<WeakKeyDictionary at 0x1ca155a1ac8>\n",
      "=======================\n"
     ]
    }
   ],
   "source": [
    "earth = Planet(\"Earth\",\n",
    "               radius_metres=6371.0e3,\n",
    "               mass_kilograms=5.972e24,\n",
    "               orbital_period_seconds=3.15581e7,\n",
    "               surface_temperature_kelvin=288)"
   ]
  },
  {
   "cell_type": "code",
   "execution_count": 33,
   "metadata": {},
   "outputs": [
    {
     "name": "stdout",
     "output_type": "stream",
     "text": [
      "<WeakKeyDictionary at 0x1ca155a1940>\n",
      "=======================\n",
      "<WeakKeyDictionary at 0x1ca155a19b0>\n",
      "=======================\n",
      "<WeakKeyDictionary at 0x1ca155a1a20>\n",
      "=======================\n",
      "<WeakKeyDictionary at 0x1ca155a1ac8>\n",
      "=======================\n"
     ]
    }
   ],
   "source": [
    "mars = Planet(\"Mars\",\n",
    "              radius_metres=3389.5e3,\n",
    "              mass_kilograms=6.4185e23,\n",
    "              orbital_period_seconds=5.93543e7,\n",
    "              surface_temperature_kelvin=210)"
   ]
  },
  {
   "cell_type": "markdown",
   "metadata": {},
   "source": [
    "# 4 Calling Descriptors on Classes"
   ]
  },
  {
   "cell_type": "code",
   "execution_count": 34,
   "metadata": {},
   "outputs": [
    {
     "data": {
      "text/plain": [
       "3389500.0"
      ]
     },
     "execution_count": 34,
     "metadata": {},
     "output_type": "execute_result"
    }
   ],
   "source": [
    "mars.radius_metres"
   ]
  },
  {
   "cell_type": "code",
   "execution_count": 36,
   "metadata": {},
   "outputs": [],
   "source": [
    "# Planet.radius_metres\n",
    "\n",
    "# ---------------------------------------------------------------------------\n",
    "# TypeError                                 Traceback (most recent call last)\n",
    "# <ipython-input-35-0fffadfac4d7> in <module>\n",
    "# ----> 1 Planet.radius_metres\n",
    "\n",
    "# <ipython-input-29-67eb2e725f45> in __get__(self, instance, owner)\n",
    "#       8 \n",
    "#       9     def __get__(self, instance, owner):\n",
    "# ---> 10         return self._instance_data[instance]\n",
    "#      11 \n",
    "#      12     def __set__(self, instance, value):\n",
    "\n",
    "# ~\\Anaconda3\\lib\\weakref.py in __getitem__(self, key)\n",
    "#     392 \n",
    "#     393     def __getitem__(self, key):\n",
    "# --> 394         return self.data[ref(key)]\n",
    "#     395 \n",
    "#     396     def __len__(self):\n",
    "\n",
    "# TypeError: cannot create weak reference to 'NoneType' object"
   ]
  },
  {
   "cell_type": "code",
   "execution_count": 37,
   "metadata": {},
   "outputs": [],
   "source": [
    "from weakref import WeakKeyDictionary\n",
    "\n",
    "\n",
    "class Positive:\n",
    "\n",
    "    def __init__(self):\n",
    "        self._instance_data = WeakKeyDictionary()\n",
    "\n",
    "    def __get__(self, instance, owner):\n",
    "        if instance is None:\n",
    "            return self\n",
    "        return self._instance_data[instance]\n",
    "\n",
    "    def __set__(self, instance, value):\n",
    "        if value <= 0:\n",
    "            raise ValueError(\"Value {} is not positive\".format(value))\n",
    "        self._instance_data[instance] = value\n",
    "        print(self._instance_data)\n",
    "        print(\"=======================\")\n",
    "\n",
    "    def __delete__(self, instance):\n",
    "        raise AttributeError(\"Cannot delete attribute\")\n",
    "\n",
    "\n",
    "class Planet:\n",
    "\n",
    "    def __init__(self,\n",
    "                 name,\n",
    "                 radius_metres,\n",
    "                 mass_kilograms,\n",
    "                 orbital_period_seconds,\n",
    "                 surface_temperature_kelvin):\n",
    "        self.name = name\n",
    "        self.radius_metres = radius_metres\n",
    "        self.mass_kilograms = mass_kilograms\n",
    "        self.orbital_period_seconds = orbital_period_seconds\n",
    "        self.surface_temperature_kelvin = surface_temperature_kelvin\n",
    "\n",
    "    @property\n",
    "    def name(self):\n",
    "        return self._name\n",
    "\n",
    "    @name.setter\n",
    "    def name(self, value):\n",
    "        if not value:\n",
    "            raise ValueError(\"Cannot set empty Planet.name\")\n",
    "        self._name = value\n",
    "\n",
    "    radius_metres = Positive()\n",
    "    mass_kilograms = Positive()\n",
    "    orbital_period_seconds = Positive()\n",
    "    surface_temperature_kelvin = Positive()"
   ]
  },
  {
   "cell_type": "code",
   "execution_count": 39,
   "metadata": {},
   "outputs": [
    {
     "data": {
      "text/plain": [
       "<__main__.Positive at 0x1ca155aa2e8>"
      ]
     },
     "execution_count": 39,
     "metadata": {},
     "output_type": "execute_result"
    }
   ],
   "source": [
    "Planet.radius_metres"
   ]
  },
  {
   "cell_type": "code",
   "execution_count": 40,
   "metadata": {},
   "outputs": [],
   "source": [
    "class DataDescriptor:\n",
    "\n",
    "    def __get__(self, instance, owner):\n",
    "        print(\"DataDescriptor.__get__({!r}, {!r}, {!r})\"\n",
    "              .format(self, instance, owner))\n",
    "\n",
    "    def __set__(self, instance, value):\n",
    "        print(\"DataDescriptor.__set__({!r}, {!r}, {!r})\"\n",
    "              .format(self, instance, value))\n",
    "\n",
    "\n",
    "class NonDataDescriptor:\n",
    "\n",
    "    def __get__(self, instance, owner):\n",
    "        print(\"NonDataDescriptor.__get__({!r}, {!r}, {!r})\"\n",
    "              .format(self, instance, owner))\n",
    "\n",
    "\n",
    "class Owner:\n",
    "\n",
    "    a = DataDescriptor()\n",
    "    b = NonDataDescriptor()"
   ]
  },
  {
   "cell_type": "code",
   "execution_count": 41,
   "metadata": {},
   "outputs": [],
   "source": [
    "obj = Owner()"
   ]
  },
  {
   "cell_type": "code",
   "execution_count": 42,
   "metadata": {},
   "outputs": [
    {
     "name": "stdout",
     "output_type": "stream",
     "text": [
      "DataDescriptor.__get__(<__main__.DataDescriptor object at 0x000001CA1559BD30>, <__main__.Owner object at 0x000001CA1559B630>, <class '__main__.Owner'>)\n"
     ]
    }
   ],
   "source": [
    "obj.a"
   ]
  },
  {
   "cell_type": "code",
   "execution_count": 43,
   "metadata": {},
   "outputs": [],
   "source": [
    "obj.__dict__['a'] = 196883"
   ]
  },
  {
   "cell_type": "code",
   "execution_count": 44,
   "metadata": {},
   "outputs": [
    {
     "name": "stdout",
     "output_type": "stream",
     "text": [
      "DataDescriptor.__get__(<__main__.DataDescriptor object at 0x000001CA1559BD30>, <__main__.Owner object at 0x000001CA1559B630>, <class '__main__.Owner'>)\n"
     ]
    }
   ],
   "source": [
    "obj.a"
   ]
  },
  {
   "cell_type": "code",
   "execution_count": 45,
   "metadata": {},
   "outputs": [
    {
     "name": "stdout",
     "output_type": "stream",
     "text": [
      "NonDataDescriptor.__get__(<__main__.NonDataDescriptor object at 0x000001CA1559BC50>, <__main__.Owner object at 0x000001CA1559B630>, <class '__main__.Owner'>)\n"
     ]
    }
   ],
   "source": [
    "obj.b"
   ]
  },
  {
   "cell_type": "code",
   "execution_count": 46,
   "metadata": {},
   "outputs": [],
   "source": [
    "obj.__dict__['b'] = 744"
   ]
  },
  {
   "cell_type": "code",
   "execution_count": 47,
   "metadata": {},
   "outputs": [
    {
     "data": {
      "text/plain": [
       "744"
      ]
     },
     "execution_count": 47,
     "metadata": {},
     "output_type": "execute_result"
    }
   ],
   "source": [
    "obj.b"
   ]
  },
  {
   "cell_type": "code",
   "execution_count": null,
   "metadata": {},
   "outputs": [],
   "source": []
  }
 ],
 "metadata": {
  "kernelspec": {
   "display_name": "Python 3",
   "language": "python",
   "name": "python3"
  },
  "language_info": {
   "codemirror_mode": {
    "name": "ipython",
    "version": 3
   },
   "file_extension": ".py",
   "mimetype": "text/x-python",
   "name": "python",
   "nbconvert_exporter": "python",
   "pygments_lexer": "ipython3",
   "version": "3.6.7"
  }
 },
 "nbformat": 4,
 "nbformat_minor": 2
}
