{
 "cells": [
  {
   "cell_type": "markdown",
   "metadata": {},
   "source": [
    "# 1 Packages"
   ]
  },
  {
   "cell_type": "code",
   "execution_count": 1,
   "metadata": {},
   "outputs": [],
   "source": [
    "import urllib"
   ]
  },
  {
   "cell_type": "code",
   "execution_count": 2,
   "metadata": {},
   "outputs": [
    {
     "data": {
      "text/plain": [
       "module"
      ]
     },
     "execution_count": 2,
     "metadata": {},
     "output_type": "execute_result"
    }
   ],
   "source": [
    "type(urllib)"
   ]
  },
  {
   "cell_type": "code",
   "execution_count": 3,
   "metadata": {},
   "outputs": [
    {
     "data": {
      "text/plain": [
       "module"
      ]
     },
     "execution_count": 3,
     "metadata": {},
     "output_type": "execute_result"
    }
   ],
   "source": [
    "type(urllib.request)"
   ]
  },
  {
   "cell_type": "code",
   "execution_count": 8,
   "metadata": {},
   "outputs": [
    {
     "data": {
      "text/plain": [
       "['C:\\\\Users\\\\doer\\\\Anaconda3\\\\envs\\\\python_basics\\\\lib\\\\urllib']"
      ]
     },
     "execution_count": 8,
     "metadata": {},
     "output_type": "execute_result"
    }
   ],
   "source": [
    "# 文件目录\n",
    "urllib.__path__"
   ]
  },
  {
   "cell_type": "code",
   "execution_count": 9,
   "metadata": {},
   "outputs": [],
   "source": [
    "# 文件\n",
    "\n",
    "# urllib.request.__path__\n",
    "\n",
    "# ---------------------------------------------------------------------------\n",
    "# AttributeError                            Traceback (most recent call last)\n",
    "# <ipython-input-5-5f94591ece52> in <module>\n",
    "# ----> 1 urllib.request.__path__\n",
    "\n",
    "# AttributeError: module 'urllib.request' has no attribute '__path__'"
   ]
  },
  {
   "cell_type": "markdown",
   "metadata": {},
   "source": [
    "# 2 Imports from sys.path"
   ]
  },
  {
   "cell_type": "code",
   "execution_count": 10,
   "metadata": {},
   "outputs": [],
   "source": [
    "import sys"
   ]
  },
  {
   "cell_type": "code",
   "execution_count": 11,
   "metadata": {},
   "outputs": [
    {
     "data": {
      "text/plain": [
       "['D:\\\\data_files\\\\python_learning\\\\python_beyond_the_basics',\n",
       " 'C:\\\\Users\\\\doer\\\\Anaconda3\\\\envs\\\\python_basics\\\\python37.zip',\n",
       " 'C:\\\\Users\\\\doer\\\\Anaconda3\\\\envs\\\\python_basics\\\\DLLs',\n",
       " 'C:\\\\Users\\\\doer\\\\Anaconda3\\\\envs\\\\python_basics\\\\lib',\n",
       " 'C:\\\\Users\\\\doer\\\\Anaconda3\\\\envs\\\\python_basics',\n",
       " '',\n",
       " 'C:\\\\Users\\\\doer\\\\Anaconda3\\\\envs\\\\python_basics\\\\lib\\\\site-packages',\n",
       " 'C:\\\\Users\\\\doer\\\\Anaconda3\\\\envs\\\\python_basics\\\\lib\\\\site-packages\\\\IPython\\\\extensions',\n",
       " 'C:\\\\Users\\\\doer\\\\.ipython']"
      ]
     },
     "execution_count": 11,
     "metadata": {},
     "output_type": "execute_result"
    }
   ],
   "source": [
    "sys.path"
   ]
  },
  {
   "cell_type": "code",
   "execution_count": 12,
   "metadata": {},
   "outputs": [
    {
     "data": {
      "text/plain": [
       "'D:\\\\data_files\\\\python_learning\\\\python_beyond_the_basics'"
      ]
     },
     "execution_count": 12,
     "metadata": {},
     "output_type": "execute_result"
    }
   ],
   "source": [
    "sys.path[0]"
   ]
  },
  {
   "cell_type": "code",
   "execution_count": 13,
   "metadata": {},
   "outputs": [
    {
     "data": {
      "text/plain": [
       "['C:\\\\Users\\\\doer\\\\Anaconda3\\\\envs\\\\python_basics',\n",
       " '',\n",
       " 'C:\\\\Users\\\\doer\\\\Anaconda3\\\\envs\\\\python_basics\\\\lib\\\\site-packages',\n",
       " 'C:\\\\Users\\\\doer\\\\Anaconda3\\\\envs\\\\python_basics\\\\lib\\\\site-packages\\\\IPython\\\\extensions',\n",
       " 'C:\\\\Users\\\\doer\\\\.ipython']"
      ]
     },
     "execution_count": 13,
     "metadata": {},
     "output_type": "execute_result"
    }
   ],
   "source": [
    "sys.path[-5:]"
   ]
  },
  {
   "cell_type": "code",
   "execution_count": 2,
   "metadata": {},
   "outputs": [],
   "source": [
    "# import path_test\n",
    "\n",
    "# ---------------------------------------------------------------------------\n",
    "# ModuleNotFoundError                       Traceback (most recent call last)\n",
    "# <ipython-input-1-bea8dd365c92> in <module>\n",
    "# ----> 1 import path_test\n",
    "\n",
    "# ModuleNotFoundError: No module named 'path_test'"
   ]
  },
  {
   "cell_type": "code",
   "execution_count": 3,
   "metadata": {},
   "outputs": [],
   "source": [
    "import sys"
   ]
  },
  {
   "cell_type": "code",
   "execution_count": 5,
   "metadata": {},
   "outputs": [
    {
     "data": {
      "text/plain": [
       "['D:\\\\data_files\\\\python_learning\\\\python_beyond_the_basics\\\\2_organizing_larger_programs',\n",
       " 'C:\\\\Users\\\\doer\\\\Anaconda3\\\\envs\\\\python_basics\\\\python37.zip',\n",
       " 'C:\\\\Users\\\\doer\\\\Anaconda3\\\\envs\\\\python_basics\\\\DLLs',\n",
       " 'C:\\\\Users\\\\doer\\\\Anaconda3\\\\envs\\\\python_basics\\\\lib',\n",
       " 'C:\\\\Users\\\\doer\\\\Anaconda3\\\\envs\\\\python_basics',\n",
       " '',\n",
       " 'C:\\\\Users\\\\doer\\\\Anaconda3\\\\envs\\\\python_basics\\\\lib\\\\site-packages',\n",
       " 'C:\\\\Users\\\\doer\\\\Anaconda3\\\\envs\\\\python_basics\\\\lib\\\\site-packages\\\\IPython\\\\extensions',\n",
       " 'C:\\\\Users\\\\doer\\\\.ipython',\n",
       " 'not_searched']"
      ]
     },
     "execution_count": 5,
     "metadata": {},
     "output_type": "execute_result"
    }
   ],
   "source": [
    "sys.path.append('not_searched')\n",
    "sys.path"
   ]
  },
  {
   "cell_type": "code",
   "execution_count": 6,
   "metadata": {},
   "outputs": [],
   "source": [
    "import path_test"
   ]
  },
  {
   "cell_type": "code",
   "execution_count": 7,
   "metadata": {},
   "outputs": [
    {
     "name": "stdout",
     "output_type": "stream",
     "text": [
      "Python found me!\n"
     ]
    }
   ],
   "source": [
    "path_test.found()"
   ]
  },
  {
   "cell_type": "code",
   "execution_count": 10,
   "metadata": {},
   "outputs": [],
   "source": [
    "# 设置环境变量的方式\n",
    "\n",
    "# export PYTHONPATH=not_searched\n",
    "# import sys\n",
    "# [p for p in sys.path if 'not_searched' in p]\n",
    "# import path_test\n",
    "# path_test.found()"
   ]
  },
  {
   "cell_type": "markdown",
   "metadata": {},
   "source": [
    "# 3 Implementing Packages"
   ]
  },
  {
   "cell_type": "code",
   "execution_count": 11,
   "metadata": {},
   "outputs": [],
   "source": [
    "# mkdir reader\n",
    "# touch reader/__init__.py"
   ]
  },
  {
   "cell_type": "code",
   "execution_count": 12,
   "metadata": {},
   "outputs": [],
   "source": [
    "import reader"
   ]
  },
  {
   "cell_type": "code",
   "execution_count": 13,
   "metadata": {},
   "outputs": [
    {
     "data": {
      "text/plain": [
       "module"
      ]
     },
     "execution_count": 13,
     "metadata": {},
     "output_type": "execute_result"
    }
   ],
   "source": [
    "type(reader)"
   ]
  },
  {
   "cell_type": "code",
   "execution_count": 15,
   "metadata": {},
   "outputs": [
    {
     "data": {
      "text/plain": [
       "'D:\\\\data_files\\\\python_learning\\\\python_beyond_the_basics\\\\2_organizing_larger_programs\\\\reader\\\\__init__.py'"
      ]
     },
     "execution_count": 15,
     "metadata": {},
     "output_type": "execute_result"
    }
   ],
   "source": [
    "reader.__file__"
   ]
  },
  {
   "cell_type": "code",
   "execution_count": 16,
   "metadata": {},
   "outputs": [],
   "source": [
    "# echo \"print(\"reader is being imported!\")\" > reader/__init__.py"
   ]
  },
  {
   "cell_type": "code",
   "execution_count": 1,
   "metadata": {},
   "outputs": [
    {
     "name": "stdout",
     "output_type": "stream",
     "text": [
      "reader is being imported!\n"
     ]
    }
   ],
   "source": [
    "import reader"
   ]
  },
  {
   "cell_type": "code",
   "execution_count": 3,
   "metadata": {},
   "outputs": [],
   "source": [
    "# touch reader/reader.py\n",
    "# 写入Reader class\n",
    "# class Reader:\n",
    "#     def __init__(self, filename):\n",
    "#         self.filename = filename\n",
    "#         self.f = open(filename, 'rt')\n",
    "\n",
    "#     def close(self):\n",
    "#         self.f.close()\n",
    "\n",
    "#     def read(self):\n",
    "#         return self.f.read()"
   ]
  },
  {
   "cell_type": "code",
   "execution_count": 4,
   "metadata": {},
   "outputs": [],
   "source": [
    "import reader.reader"
   ]
  },
  {
   "cell_type": "code",
   "execution_count": 5,
   "metadata": {},
   "outputs": [
    {
     "data": {
      "text/plain": [
       "'D:\\\\data_files\\\\python_learning\\\\python_beyond_the_basics\\\\2_organizing_larger_programs\\\\reader\\\\reader.py'"
      ]
     },
     "execution_count": 5,
     "metadata": {},
     "output_type": "execute_result"
    }
   ],
   "source": [
    "reader.reader.__file__"
   ]
  },
  {
   "cell_type": "code",
   "execution_count": 6,
   "metadata": {},
   "outputs": [],
   "source": [
    "r = reader.reader.Reader(\"reader/reader.py\")"
   ]
  },
  {
   "cell_type": "code",
   "execution_count": 7,
   "metadata": {},
   "outputs": [
    {
     "data": {
      "text/plain": [
       "\"class Reader:\\n    def __init__(self, filename):\\n        self.filename = filename\\n        self.f = open(filename, 'rt')\\n\\n    def close(self):\\n        self.f.close()\\n\\n    def read(self):\\n        return self.f.read()\\n\""
      ]
     },
     "execution_count": 7,
     "metadata": {},
     "output_type": "execute_result"
    }
   ],
   "source": [
    "r.read()"
   ]
  },
  {
   "cell_type": "code",
   "execution_count": 8,
   "metadata": {},
   "outputs": [],
   "source": [
    "r.close()"
   ]
  },
  {
   "cell_type": "code",
   "execution_count": 9,
   "metadata": {},
   "outputs": [],
   "source": [
    "# echo \"from reader.reader import Reader\" > reader/__init__.py"
   ]
  },
  {
   "cell_type": "code",
   "execution_count": 1,
   "metadata": {},
   "outputs": [],
   "source": [
    "import reader"
   ]
  },
  {
   "cell_type": "code",
   "execution_count": 2,
   "metadata": {},
   "outputs": [],
   "source": [
    "r = reader.Reader(\"reader/__init__.py\")"
   ]
  },
  {
   "cell_type": "code",
   "execution_count": 3,
   "metadata": {},
   "outputs": [
    {
     "data": {
      "text/plain": [
       "'from reader.reader import Reader'"
      ]
     },
     "execution_count": 3,
     "metadata": {},
     "output_type": "execute_result"
    }
   ],
   "source": [
    "r.read()"
   ]
  },
  {
   "cell_type": "code",
   "execution_count": 4,
   "metadata": {},
   "outputs": [],
   "source": [
    "r.close()"
   ]
  }
 ],
 "metadata": {
  "kernelspec": {
   "display_name": "Python 3",
   "language": "python",
   "name": "python3"
  },
  "language_info": {
   "codemirror_mode": {
    "name": "ipython",
    "version": 3
   },
   "file_extension": ".py",
   "mimetype": "text/x-python",
   "name": "python",
   "nbconvert_exporter": "python",
   "pygments_lexer": "ipython3",
   "version": "3.7.3"
  }
 },
 "nbformat": 4,
 "nbformat_minor": 2
}
