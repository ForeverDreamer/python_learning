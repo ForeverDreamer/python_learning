{
 "cells": [
  {
   "cell_type": "markdown",
   "metadata": {},
   "source": [
    "# 3 A First Context Manager Example"
   ]
  },
  {
   "cell_type": "code",
   "execution_count": 1,
   "metadata": {},
   "outputs": [],
   "source": [
    "class LoggingContextManager:\n",
    "    def __enter__(self):\n",
    "        return self\n",
    "    \n",
    "    def __exit__(self, exc_type, exc_val, exc_tb):\n",
    "        return "
   ]
  },
  {
   "cell_type": "code",
   "execution_count": 2,
   "metadata": {},
   "outputs": [
    {
     "name": "stdout",
     "output_type": "stream",
     "text": [
      "<__main__.LoggingContextManager object at 0x00000282D24F3B38>\n"
     ]
    }
   ],
   "source": [
    "with LoggingContextManager() as x:\n",
    "    print(x)"
   ]
  },
  {
   "cell_type": "code",
   "execution_count": 3,
   "metadata": {},
   "outputs": [],
   "source": [
    "class LoggingContextManager:\n",
    "    def __enter__(self):\n",
    "        return 'You are in a with-block!'\n",
    "    \n",
    "    def __exit__(self, exc_type, exc_val, exc_tb):\n",
    "        return "
   ]
  },
  {
   "cell_type": "code",
   "execution_count": 4,
   "metadata": {},
   "outputs": [
    {
     "name": "stdout",
     "output_type": "stream",
     "text": [
      "You are in a with-block!\n"
     ]
    }
   ],
   "source": [
    "with LoggingContextManager() as x:\n",
    "    print(x)"
   ]
  },
  {
   "cell_type": "code",
   "execution_count": 5,
   "metadata": {},
   "outputs": [],
   "source": [
    "class LoggingContextManager:\n",
    "    def __enter__(self):\n",
    "        print(\"LoggingContextManager.__enter__()\")\n",
    "        return 'You are in a with-block!'\n",
    "\n",
    "    def __exit__(self, exc_type, exc_val, exc_tb):\n",
    "        print(\"LoggingContextManager.__exit__({}, {}, {})\".format(exc_type, exc_val, exc_tb))\n",
    "        return"
   ]
  },
  {
   "cell_type": "markdown",
   "metadata": {},
   "source": [
    "# 4 __enter__()"
   ]
  },
  {
   "cell_type": "code",
   "execution_count": 6,
   "metadata": {},
   "outputs": [
    {
     "name": "stdout",
     "output_type": "stream",
     "text": [
      "LoggingContextManager.__enter__()\n",
      "You are in a with-block!\n",
      "LoggingContextManager.__exit__(None, None, None)\n"
     ]
    }
   ],
   "source": [
    "with LoggingContextManager() as x:\n",
    "    print(x)"
   ]
  },
  {
   "cell_type": "code",
   "execution_count": 7,
   "metadata": {},
   "outputs": [],
   "source": [
    "# with LoggingContextManager() as x:\n",
    "#     raise ValueError(\"Something has gone wrong!\")\n",
    "#     print(x)\n",
    "    \n",
    "# LoggingContextManager.__enter__()\n",
    "# LoggingContextManager.__exit__(<class 'ValueError'>, Something has gone wrong!, <traceback object at 0x000001E8331DBA48>)\n",
    "# ---------------------------------------------------------------------------\n",
    "# ValueError                                Traceback (most recent call last)\n",
    "# <ipython-input-7-600a50871e4b> in <module>\n",
    "#       1 with LoggingContextManager() as x:\n",
    "# ----> 2     raise ValueError(\"Something has gone wrong!\")\n",
    "#       3     print(x)\n",
    "\n",
    "# ValueError: Something has gone wrong!"
   ]
  },
  {
   "cell_type": "code",
   "execution_count": 8,
   "metadata": {},
   "outputs": [],
   "source": [
    "with open('important_data.txt', 'r') as f:\n",
    "    data = f.read()"
   ]
  },
  {
   "cell_type": "code",
   "execution_count": 9,
   "metadata": {},
   "outputs": [
    {
     "name": "stdout",
     "output_type": "stream",
     "text": [
      "True\n"
     ]
    }
   ],
   "source": [
    "f = open('a_file', 'w')\n",
    "with f as g:\n",
    "    print(f is g)"
   ]
  },
  {
   "cell_type": "markdown",
   "metadata": {},
   "source": [
    "# 5 __exit__()"
   ]
  },
  {
   "cell_type": "code",
   "execution_count": 10,
   "metadata": {},
   "outputs": [],
   "source": [
    "class LoggingContextManager:\n",
    "    def __enter__(self):\n",
    "        print(\"LoggingContextManager.__enter__()\")\n",
    "        return 'You are in a with-block!'\n",
    "\n",
    "    def __exit__(self, exc_type, exc_val, exc_tb):\n",
    "        if exc_type is None:\n",
    "            print(\"LoggingContextManager.__exit__: normal exit detected.\")\n",
    "        else:\n",
    "            print(\"LoggingContextManager.__exit__(type={}, value={}, traceback={})\".format(exc_type, exc_val, exc_tb))"
   ]
  },
  {
   "cell_type": "code",
   "execution_count": 11,
   "metadata": {},
   "outputs": [
    {
     "name": "stdout",
     "output_type": "stream",
     "text": [
      "LoggingContextManager.__enter__()\n",
      "LoggingContextManager.__exit__: normal exit detected.\n"
     ]
    }
   ],
   "source": [
    "with LoggingContextManager():\n",
    "    pass"
   ]
  },
  {
   "cell_type": "code",
   "execution_count": 13,
   "metadata": {},
   "outputs": [],
   "source": [
    "# with LoggingContextManager():\n",
    "#     raise ValueError(\"Something has gone wrong!\")\n",
    "    \n",
    "# LoggingContextManager.__enter__()\n",
    "# LoggingContextManager.__exit__(type=<class 'ValueError'>, value=Something has gone wrong!, traceback=<traceback object at 0x00000282D250B548>)\n",
    "# ---------------------------------------------------------------------------\n",
    "# ValueError                                Traceback (most recent call last)\n",
    "# <ipython-input-12-4be171549525> in <module>\n",
    "#       1 with LoggingContextManager():\n",
    "# ----> 2     raise ValueError(\"Something has gone wrong!\")\n",
    "\n",
    "# ValueError: Something has gone wrong!"
   ]
  },
  {
   "cell_type": "markdown",
   "metadata": {},
   "source": [
    "# 6 __exit__() and Exception Propagation"
   ]
  },
  {
   "cell_type": "code",
   "execution_count": 14,
   "metadata": {},
   "outputs": [
    {
     "name": "stdout",
     "output_type": "stream",
     "text": [
      "LoggingContextManager.__enter__()\n",
      "LoggingContextManager.__exit__(type=<class 'ValueError'>, value=The system is down!, traceback=<traceback object at 0x00000282D24EEC88>)\n",
      "*** ValueError detected ***\n"
     ]
    }
   ],
   "source": [
    "try:\n",
    "    with LoggingContextManager() as x:\n",
    "        raise ValueError(\"The system is down!\")\n",
    "except ValueError:\n",
    "    print(\"*** ValueError detected ***\")"
   ]
  },
  {
   "cell_type": "markdown",
   "metadata": {},
   "source": [
    "# 8 contextlib.contextmanager"
   ]
  },
  {
   "cell_type": "code",
   "execution_count": 15,
   "metadata": {},
   "outputs": [],
   "source": [
    "import contextlib\n",
    "import sys"
   ]
  },
  {
   "cell_type": "code",
   "execution_count": 16,
   "metadata": {},
   "outputs": [],
   "source": [
    "@contextlib.contextmanager\n",
    "def logging_context_manager():\n",
    "    print(\"LoggingContextManager.__enter__()\")\n",
    "    try:\n",
    "        yield \"You are in a with-block!\"\n",
    "    except Exception:\n",
    "        print(\"logging_context_manager: exceptional exit\", sys.exc_info())"
   ]
  },
  {
   "cell_type": "code",
   "execution_count": 17,
   "metadata": {},
   "outputs": [
    {
     "name": "stdout",
     "output_type": "stream",
     "text": [
      "LoggingContextManager.__enter__()\n",
      "You are in a with-block!\n"
     ]
    }
   ],
   "source": [
    "with logging_context_manager() as x:\n",
    "    print(x)"
   ]
  },
  {
   "cell_type": "code",
   "execution_count": 18,
   "metadata": {},
   "outputs": [
    {
     "name": "stdout",
     "output_type": "stream",
     "text": [
      "LoggingContextManager.__enter__()\n",
      "logging_context_manager: exceptional exit (<class 'ValueError'>, ValueError('Something has gone wrong!',), <traceback object at 0x00000282D25769C8>)\n"
     ]
    }
   ],
   "source": [
    "with logging_context_manager() as x:\n",
    "    raise ValueError(\"Something has gone wrong!\")"
   ]
  },
  {
   "cell_type": "code",
   "execution_count": 19,
   "metadata": {},
   "outputs": [],
   "source": [
    "@contextlib.contextmanager\n",
    "def logging_context_manager():\n",
    "    print(\"LoggingContextManager.__enter__()\")\n",
    "    try:\n",
    "        yield \"You are in a with-block!\"\n",
    "    except Exception:\n",
    "        print(\"logging_context_manager: exceptional exit\", sys.exc_info())\n",
    "        raise"
   ]
  },
  {
   "cell_type": "code",
   "execution_count": 21,
   "metadata": {},
   "outputs": [],
   "source": [
    "# with logging_context_manager() as x:\n",
    "#     raise ValueError(\"Something has gone wrong!\")\n",
    "    \n",
    "# LoggingContextManager.__enter__()\n",
    "# logging_context_manager: exceptional exit (<class 'ValueError'>, ValueError('Something has gone wrong!',), <traceback object at 0x00000282D2576688>)\n",
    "# ---------------------------------------------------------------------------\n",
    "# ValueError                                Traceback (most recent call last)\n",
    "# <ipython-input-20-bb79c427ff8d> in <module>\n",
    "#       1 with logging_context_manager() as x:\n",
    "# ----> 2     raise ValueError(\"Something has gone wrong!\")\n",
    "\n",
    "# ValueError: Something has gone wrong!"
   ]
  },
  {
   "cell_type": "markdown",
   "metadata": {},
   "source": [
    "# 9 Multiple Context Managers"
   ]
  },
  {
   "cell_type": "code",
   "execution_count": 23,
   "metadata": {},
   "outputs": [],
   "source": [
    "@contextlib.contextmanager\n",
    "def nest_test(name):\n",
    "    print('Entering', name)\n",
    "    yield\n",
    "    print('Exiting', name)"
   ]
  },
  {
   "cell_type": "code",
   "execution_count": 24,
   "metadata": {},
   "outputs": [
    {
     "name": "stdout",
     "output_type": "stream",
     "text": [
      "Entering outer\n",
      "Entering inner\n",
      "BODY\n",
      "Exiting inner\n",
      "Exiting outer\n"
     ]
    }
   ],
   "source": [
    "with nest_test('outer'), nest_test('inner'):\n",
    "    print('BODY')"
   ]
  },
  {
   "cell_type": "code",
   "execution_count": 25,
   "metadata": {},
   "outputs": [
    {
     "name": "stdout",
     "output_type": "stream",
     "text": [
      "Entering outer\n",
      "Entering inner\n",
      "BODY\n",
      "Exiting inner\n",
      "Exiting outer\n"
     ]
    }
   ],
   "source": [
    "with nest_test('outer'):\n",
    "    with nest_test('inner'):\n",
    "        print('BODY')"
   ]
  },
  {
   "cell_type": "code",
   "execution_count": 26,
   "metadata": {},
   "outputs": [],
   "source": [
    "@contextlib.contextmanager\n",
    "def nest_test(name):\n",
    "    print('Entering', name)\n",
    "    yield name\n",
    "    print('Exiting', name)"
   ]
  },
  {
   "cell_type": "code",
   "execution_count": 28,
   "metadata": {},
   "outputs": [
    {
     "name": "stdout",
     "output_type": "stream",
     "text": [
      "Entering outer\n",
      "Entering inner nested in outer\n",
      "BODY\n",
      "Exiting inner nested in outer\n",
      "Exiting outer\n"
     ]
    }
   ],
   "source": [
    "with nest_test('outer') as n1, nest_test('inner nested in ' + n1):\n",
    "    print('BODY')"
   ]
  },
  {
   "cell_type": "code",
   "execution_count": 29,
   "metadata": {},
   "outputs": [],
   "source": [
    "@contextlib.contextmanager\n",
    "def propagater(name, propagate):\n",
    "    try:\n",
    "        yield\n",
    "        print(name, 'exited normally.')\n",
    "    except Exception:\n",
    "        print(name, 'received an exception!')\n",
    "        if propagate:\n",
    "            raise"
   ]
  },
  {
   "cell_type": "code",
   "execution_count": 30,
   "metadata": {},
   "outputs": [
    {
     "name": "stdout",
     "output_type": "stream",
     "text": [
      "inner received an exception!\n",
      "outer exited normally.\n"
     ]
    }
   ],
   "source": [
    "with propagater('outer', True), propagater('inner', False):\n",
    "    raise TypeError(\"Cannot convert lead into gold.\")"
   ]
  },
  {
   "cell_type": "code",
   "execution_count": 31,
   "metadata": {},
   "outputs": [
    {
     "name": "stdout",
     "output_type": "stream",
     "text": [
      "inner received an exception!\n",
      "outer received an exception!\n"
     ]
    }
   ],
   "source": [
    "with propagater('outer', False), propagater('inner', True):\n",
    "    raise TypeError(\"Cannot convert lead into gold.\")"
   ]
  },
  {
   "cell_type": "markdown",
   "metadata": {},
   "source": [
    "# 10 Don't Pass a List"
   ]
  },
  {
   "cell_type": "code",
   "execution_count": 33,
   "metadata": {},
   "outputs": [],
   "source": [
    "# # list is not context manager\n",
    "# with [nest_test('a'), nest_test('b')]:\n",
    "#     pass\n",
    "\n",
    "# ---------------------------------------------------------------------------\n",
    "# AttributeError                            Traceback (most recent call last)\n",
    "# <ipython-input-32-7fe6cb001c71> in <module>\n",
    "# ----> 1 with [nest_test('a'), nest_test('b')]:\n",
    "#       2     pass\n",
    "\n",
    "# AttributeError: __enter__"
   ]
  },
  {
   "cell_type": "code",
   "execution_count": 34,
   "metadata": {},
   "outputs": [
    {
     "name": "stdout",
     "output_type": "stream",
     "text": [
      "Entering a\n",
      "Entering b\n",
      "Exiting b\n",
      "Exiting a\n"
     ]
    }
   ],
   "source": [
    "with nest_test('a'), nest_test('b'):\n",
    "    pass"
   ]
  },
  {
   "cell_type": "code",
   "execution_count": 35,
   "metadata": {},
   "outputs": [
    {
     "name": "stdout",
     "output_type": "stream",
     "text": [
      "Entering a\n",
      "Entering b\n",
      "Entering c\n",
      "Exiting c\n",
      "Exiting b\n",
      "Exiting a\n"
     ]
    }
   ],
   "source": [
    "with nest_test('a'),\\\n",
    "     nest_test('b'),\\\n",
    "     nest_test('c'):\n",
    "    pass"
   ]
  },
  {
   "cell_type": "code",
   "execution_count": null,
   "metadata": {},
   "outputs": [],
   "source": []
  }
 ],
 "metadata": {
  "kernelspec": {
   "display_name": "Python 3",
   "language": "python",
   "name": "python3"
  },
  "language_info": {
   "codemirror_mode": {
    "name": "ipython",
    "version": 3
   },
   "file_extension": ".py",
   "mimetype": "text/x-python",
   "name": "python",
   "nbconvert_exporter": "python",
   "pygments_lexer": "ipython3",
   "version": "3.6.7"
  }
 },
 "nbformat": 4,
 "nbformat_minor": 2
}
