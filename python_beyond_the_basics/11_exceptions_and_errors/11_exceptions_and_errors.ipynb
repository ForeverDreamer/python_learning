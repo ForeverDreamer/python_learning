{
 "cells": [
  {
   "cell_type": "markdown",
   "metadata": {},
   "source": [
    "# 2 The Standard Exception Hierarchy"
   ]
  },
  {
   "cell_type": "code",
   "execution_count": 1,
   "metadata": {},
   "outputs": [],
   "source": [
    "s = [1, 4, 6]"
   ]
  },
  {
   "cell_type": "code",
   "execution_count": 3,
   "metadata": {},
   "outputs": [],
   "source": [
    "# s[5]\n",
    "\n",
    "# ---------------------------------------------------------------------------\n",
    "# IndexError                                Traceback (most recent call last)\n",
    "# <ipython-input-2-b5dece75d686> in <module>\n",
    "# ----> 1 s[5]\n",
    "\n",
    "# IndexError: list index out of range"
   ]
  },
  {
   "cell_type": "code",
   "execution_count": 4,
   "metadata": {},
   "outputs": [],
   "source": [
    "d = dict(a=65, b=66, c=67)"
   ]
  },
  {
   "cell_type": "code",
   "execution_count": 6,
   "metadata": {},
   "outputs": [],
   "source": [
    "# d['x']\n",
    "\n",
    "# ---------------------------------------------------------------------------\n",
    "# KeyError                                  Traceback (most recent call last)\n",
    "# <ipython-input-5-7657742692bd> in <module>\n",
    "# ----> 1 d['x']\n",
    "\n",
    "# KeyError: 'x'"
   ]
  },
  {
   "cell_type": "code",
   "execution_count": 7,
   "metadata": {},
   "outputs": [
    {
     "data": {
      "text/plain": [
       "[IndexError, LookupError, Exception, BaseException, object]"
      ]
     },
     "execution_count": 7,
     "metadata": {},
     "output_type": "execute_result"
    }
   ],
   "source": [
    "IndexError.mro()"
   ]
  },
  {
   "cell_type": "code",
   "execution_count": 8,
   "metadata": {},
   "outputs": [
    {
     "data": {
      "text/plain": [
       "[KeyError, LookupError, Exception, BaseException, object]"
      ]
     },
     "execution_count": 8,
     "metadata": {},
     "output_type": "execute_result"
    }
   ],
   "source": [
    "KeyError.mro()"
   ]
  },
  {
   "cell_type": "code",
   "execution_count": 9,
   "metadata": {},
   "outputs": [],
   "source": [
    "def lookups():\n",
    "    s = [1, 4, 6]\n",
    "    try:\n",
    "        item = s[5]\n",
    "    except LookupError:\n",
    "        print(\"Handled IndexError\")\n",
    "\n",
    "    d = dict(a=65, b=66, c=67)\n",
    "    try:\n",
    "        value = d['x']\n",
    "    except LookupError:\n",
    "        print(\"Handled KeyError\")"
   ]
  },
  {
   "cell_type": "code",
   "execution_count": 10,
   "metadata": {},
   "outputs": [
    {
     "name": "stdout",
     "output_type": "stream",
     "text": [
      "Handled IndexError\n",
      "Handled KeyError\n"
     ]
    }
   ],
   "source": [
    "lookups()"
   ]
  },
  {
   "cell_type": "markdown",
   "metadata": {},
   "source": [
    "# 3 Exception Payloads"
   ]
  },
  {
   "cell_type": "code",
   "execution_count": 11,
   "metadata": {},
   "outputs": [],
   "source": [
    "def median(iterable):\n",
    "    \"\"\"Obtain the central value of a series.\n",
    "\n",
    "    Sorts the iterable and returns the middle value if there is an even\n",
    "    number of elements, or the arithmetic mean of the middle two elements\n",
    "    if there is an even number of elements.\n",
    "\n",
    "    Args:\n",
    "        iterable: A series of orderable items.\n",
    "\n",
    "    Returns:\n",
    "        The median value.\n",
    "    \"\"\"\n",
    "    items = sorted(iterable)\n",
    "    if len(items) == 0:\n",
    "        raise ValueError(\"median() arg is an empty sequence\")\n",
    "    median_index = (len(items) - 1) // 2\n",
    "    if len(items) % 2 != 0:\n",
    "        return items[median_index]\n",
    "    return (items[median_index] + items[median_index + 1]) / 2.0"
   ]
  },
  {
   "cell_type": "code",
   "execution_count": 14,
   "metadata": {},
   "outputs": [
    {
     "name": "stdout",
     "output_type": "stream",
     "text": [
      "Payload: ('median() arg is an empty sequence',)\n",
      "median() arg is an empty sequence\n"
     ]
    }
   ],
   "source": [
    "try:\n",
    "    median([])\n",
    "except ValueError as e:\n",
    "    print(\"Payload:\", e.args)\n",
    "    print(str(e))"
   ]
  },
  {
   "cell_type": "code",
   "execution_count": 15,
   "metadata": {},
   "outputs": [
    {
     "name": "stdout",
     "output_type": "stream",
     "text": [
      "'utf-8' codec can't decode byte 0x81 in position 0: invalid start byte\n",
      "encoding: utf-8\n",
      "reason: invalid start byte\n",
      "object: b'\\x81'\n",
      "start: 0\n",
      "end 1\n"
     ]
    }
   ],
   "source": [
    "try:\n",
    "    b'\\x81'.decode('utf-8')\n",
    "except UnicodeError as e:\n",
    "    print(e)\n",
    "    print(\"encoding:\", e.encoding)\n",
    "    print(\"reason:\", e.reason)\n",
    "    print(\"object:\", e.object)\n",
    "    print(\"start:\", e.start)\n",
    "    print(\"end\", e.end)"
   ]
  },
  {
   "cell_type": "markdown",
   "metadata": {},
   "source": [
    "# 4 Defining New Exceptions"
   ]
  },
  {
   "cell_type": "code",
   "execution_count": 16,
   "metadata": {},
   "outputs": [],
   "source": [
    "import math"
   ]
  },
  {
   "cell_type": "code",
   "execution_count": 17,
   "metadata": {},
   "outputs": [],
   "source": [
    "def triangle_area(a, b, c):\n",
    "    p = (a + b + c) / 2\n",
    "    a = math.sqrt(p * (p - a) * (p - b) * (p - c))\n",
    "    return a"
   ]
  },
  {
   "cell_type": "code",
   "execution_count": 19,
   "metadata": {},
   "outputs": [
    {
     "data": {
      "text/plain": [
       "6.0"
      ]
     },
     "execution_count": 19,
     "metadata": {},
     "output_type": "execute_result"
    }
   ],
   "source": [
    "triangle_area(3, 4, 5)"
   ]
  },
  {
   "cell_type": "code",
   "execution_count": 21,
   "metadata": {},
   "outputs": [],
   "source": [
    "# triangle_area(3, 4, 10)\n",
    "\n",
    "# ---------------------------------------------------------------------------\n",
    "# ValueError                                Traceback (most recent call last)\n",
    "# <ipython-input-20-5ab8071fe29d> in <module>\n",
    "# ----> 1 triangle_area(3, 4, 10)\n",
    "\n",
    "# <ipython-input-17-87a96d8a71d4> in triangle_area(a, b, c)\n",
    "#       1 def triangle_area(a, b, c):\n",
    "#       2     p = (a + b + c) / 2\n",
    "# ----> 3     a = math.sqrt(p * (p - a) * (p - b) * (p - c))\n",
    "#       4     return a\n",
    "\n",
    "# ValueError: math domain error"
   ]
  },
  {
   "cell_type": "code",
   "execution_count": 22,
   "metadata": {},
   "outputs": [],
   "source": [
    "class TriangleError(Exception):\n",
    "    pass"
   ]
  },
  {
   "cell_type": "code",
   "execution_count": 23,
   "metadata": {},
   "outputs": [],
   "source": [
    "def triangle_area(a, b, c):\n",
    "    sides = sorted((a, b, c))\n",
    "    if sides[2] > sides[0] + sides[1]:\n",
    "        raise TriangleError(\"Illegal triangle\", sides)\n",
    "    p = (a + b + c) / 2\n",
    "    a = math.sqrt(p * (p - a) * (p - b) * (p - c))\n",
    "    return a"
   ]
  },
  {
   "cell_type": "code",
   "execution_count": 25,
   "metadata": {},
   "outputs": [],
   "source": [
    "# triangle_area(3, 4, 10)\n",
    "\n",
    "# ---------------------------------------------------------------------------\n",
    "# TriangleError                             Traceback (most recent call last)\n",
    "# <ipython-input-24-5ab8071fe29d> in <module>\n",
    "# ----> 1 triangle_area(3, 4, 10)\n",
    "\n",
    "# <ipython-input-23-514812d890a6> in triangle_area(a, b, c)\n",
    "#       2     sides = sorted((a, b, c))\n",
    "#       3     if sides[2] > sides[0] + sides[1]:\n",
    "# ----> 4         raise TriangleError(\"Illegal triangle\", sides)\n",
    "#       5     p = (a + b + c) / 2\n",
    "#       6     a = math.sqrt(p * (p - a) * (p - b) * (p - c))\n",
    "\n",
    "# TriangleError: ('Illegal triangle', [3, 4, 10])"
   ]
  },
  {
   "cell_type": "code",
   "execution_count": 26,
   "metadata": {},
   "outputs": [],
   "source": [
    "class TriangleError(Exception):\n",
    "\n",
    "    def __init__(self, text, sides):\n",
    "        super().__init__(text)\n",
    "        self._sides = tuple(sides)\n",
    "\n",
    "    @property\n",
    "    def sides(self):\n",
    "        return self._sides\n",
    "\n",
    "    def __str__(self):\n",
    "        return \"'{}' for sides {}\".format(self.args[0], self._sides)\n",
    "\n",
    "    def __repr__(self):\n",
    "        return \"TriangleError({!r}, {!r}\".format(self.args[0], self._sides)"
   ]
  },
  {
   "cell_type": "code",
   "execution_count": 28,
   "metadata": {},
   "outputs": [],
   "source": [
    "# triangle_area(3, 4, 10)\n",
    "\n",
    "# ---------------------------------------------------------------------------\n",
    "# TriangleError                             Traceback (most recent call last)\n",
    "# <ipython-input-27-5ab8071fe29d> in <module>\n",
    "# ----> 1 triangle_area(3, 4, 10)\n",
    "\n",
    "# <ipython-input-23-514812d890a6> in triangle_area(a, b, c)\n",
    "#       2     sides = sorted((a, b, c))\n",
    "#       3     if sides[2] > sides[0] + sides[1]:\n",
    "# ----> 4         raise TriangleError(\"Illegal triangle\", sides)\n",
    "#       5     p = (a + b + c) / 2\n",
    "#       6     a = math.sqrt(p * (p - a) * (p - b) * (p - c))\n",
    "\n",
    "# TriangleError: 'Illegal triangle' for sides (3, 4, 10)"
   ]
  },
  {
   "cell_type": "markdown",
   "metadata": {},
   "source": [
    "# 5 Chaining Exceptions"
   ]
  },
  {
   "cell_type": "code",
   "execution_count": 29,
   "metadata": {},
   "outputs": [],
   "source": [
    "import sys"
   ]
  },
  {
   "cell_type": "code",
   "execution_count": 31,
   "metadata": {},
   "outputs": [],
   "source": [
    "# try:\n",
    "#     a = triangle_area(3, 4, 10)\n",
    "#     print(a)\n",
    "# except TriangleError as e:\n",
    "#     print(e, file=sys.stdin)\n",
    "    \n",
    "# ---------------------------------------------------------------------------\n",
    "# TriangleError                             Traceback (most recent call last)\n",
    "# <ipython-input-30-a762e56fc918> in <module>\n",
    "#       1 try:\n",
    "# ----> 2     a = triangle_area(3, 4, 10)\n",
    "#       3     print(a)\n",
    "\n",
    "# <ipython-input-23-514812d890a6> in triangle_area(a, b, c)\n",
    "#       3     if sides[2] > sides[0] + sides[1]:\n",
    "# ----> 4         raise TriangleError(\"Illegal triangle\", sides)\n",
    "#       5     p = (a + b + c) / 2\n",
    "\n",
    "# TriangleError: 'Illegal triangle' for sides (3, 4, 10)\n",
    "\n",
    "# During handling of the above exception, another exception occurred:\n",
    "\n",
    "# UnsupportedOperation                      Traceback (most recent call last)\n",
    "# <ipython-input-30-a762e56fc918> in <module>\n",
    "#       3     print(a)\n",
    "#       4 except TriangleError as e:\n",
    "# ----> 5     print(e, file=sys.stdin)\n",
    "\n",
    "# UnsupportedOperation: not writable"
   ]
  },
  {
   "cell_type": "code",
   "execution_count": 32,
   "metadata": {},
   "outputs": [],
   "source": [
    "import io"
   ]
  },
  {
   "cell_type": "code",
   "execution_count": 33,
   "metadata": {},
   "outputs": [
    {
     "name": "stdout",
     "output_type": "stream",
     "text": [
      "'Illegal triangle' for sides (3, 4, 10)\n",
      "not writable\n",
      "True\n"
     ]
    }
   ],
   "source": [
    "try:\n",
    "    a = triangle_area(3, 4, 10)\n",
    "    print(a)\n",
    "except TriangleError as e:\n",
    "    try:\n",
    "        print(e, file=sys.stdin)\n",
    "    except io.UnsupportedOperation as f:\n",
    "        print(e)\n",
    "        print(f)\n",
    "        print(f.__context__ is e)"
   ]
  },
  {
   "cell_type": "code",
   "execution_count": 34,
   "metadata": {},
   "outputs": [],
   "source": [
    "def inclination(dx, dy):\n",
    "    return math.degrees(math.atan(dy / dx))"
   ]
  },
  {
   "cell_type": "code",
   "execution_count": 35,
   "metadata": {},
   "outputs": [
    {
     "data": {
      "text/plain": [
       "59.03624346792648"
      ]
     },
     "execution_count": 35,
     "metadata": {},
     "output_type": "execute_result"
    }
   ],
   "source": [
    "inclination(3, 5)"
   ]
  },
  {
   "cell_type": "code",
   "execution_count": 37,
   "metadata": {},
   "outputs": [],
   "source": [
    "# inclination(0, 5)\n",
    "\n",
    "# ---------------------------------------------------------------------------\n",
    "# ZeroDivisionError                         Traceback (most recent call last)\n",
    "# <ipython-input-36-393cbe0c53e7> in <module>\n",
    "# ----> 1 inclination(0, 5)\n",
    "\n",
    "# <ipython-input-34-e3071db817c5> in inclination(dx, dy)\n",
    "#       1 def inclination(dx, dy):\n",
    "# ----> 2     return math.degrees(math.atan(dy / dx))\n",
    "\n",
    "# ZeroDivisionError: division by zero"
   ]
  },
  {
   "cell_type": "code",
   "execution_count": 38,
   "metadata": {},
   "outputs": [],
   "source": [
    "class InclinationError(Exception):\n",
    "    pass"
   ]
  },
  {
   "cell_type": "code",
   "execution_count": 39,
   "metadata": {},
   "outputs": [],
   "source": [
    "def inclination(dx, dy):\n",
    "    try:\n",
    "        return math.degrees(math.atan(dy / dx))\n",
    "    except ZeroDivisionError as e:\n",
    "        raise InclinationError(\"Slope cannot be vertical\") from e"
   ]
  },
  {
   "cell_type": "code",
   "execution_count": 40,
   "metadata": {},
   "outputs": [
    {
     "ename": "InclinationError",
     "evalue": "Slope cannot be vertical",
     "output_type": "error",
     "traceback": [
      "\u001b[1;31m---------------------------------------------------------------------------\u001b[0m",
      "\u001b[1;31mZeroDivisionError\u001b[0m                         Traceback (most recent call last)",
      "\u001b[1;32m<ipython-input-39-782e0595348f>\u001b[0m in \u001b[0;36minclination\u001b[1;34m(dx, dy)\u001b[0m\n\u001b[0;32m      2\u001b[0m     \u001b[1;32mtry\u001b[0m\u001b[1;33m:\u001b[0m\u001b[1;33m\u001b[0m\u001b[1;33m\u001b[0m\u001b[0m\n\u001b[1;32m----> 3\u001b[1;33m         \u001b[1;32mreturn\u001b[0m \u001b[0mmath\u001b[0m\u001b[1;33m.\u001b[0m\u001b[0mdegrees\u001b[0m\u001b[1;33m(\u001b[0m\u001b[0mmath\u001b[0m\u001b[1;33m.\u001b[0m\u001b[0matan\u001b[0m\u001b[1;33m(\u001b[0m\u001b[0mdy\u001b[0m \u001b[1;33m/\u001b[0m \u001b[0mdx\u001b[0m\u001b[1;33m)\u001b[0m\u001b[1;33m)\u001b[0m\u001b[1;33m\u001b[0m\u001b[1;33m\u001b[0m\u001b[0m\n\u001b[0m\u001b[0;32m      4\u001b[0m     \u001b[1;32mexcept\u001b[0m \u001b[0mZeroDivisionError\u001b[0m \u001b[1;32mas\u001b[0m \u001b[0me\u001b[0m\u001b[1;33m:\u001b[0m\u001b[1;33m\u001b[0m\u001b[1;33m\u001b[0m\u001b[0m\n",
      "\u001b[1;31mZeroDivisionError\u001b[0m: division by zero",
      "\nThe above exception was the direct cause of the following exception:\n",
      "\u001b[1;31mInclinationError\u001b[0m                          Traceback (most recent call last)",
      "\u001b[1;32m<ipython-input-40-393cbe0c53e7>\u001b[0m in \u001b[0;36m<module>\u001b[1;34m\u001b[0m\n\u001b[1;32m----> 1\u001b[1;33m \u001b[0minclination\u001b[0m\u001b[1;33m(\u001b[0m\u001b[1;36m0\u001b[0m\u001b[1;33m,\u001b[0m \u001b[1;36m5\u001b[0m\u001b[1;33m)\u001b[0m\u001b[1;33m\u001b[0m\u001b[1;33m\u001b[0m\u001b[0m\n\u001b[0m",
      "\u001b[1;32m<ipython-input-39-782e0595348f>\u001b[0m in \u001b[0;36minclination\u001b[1;34m(dx, dy)\u001b[0m\n\u001b[0;32m      3\u001b[0m         \u001b[1;32mreturn\u001b[0m \u001b[0mmath\u001b[0m\u001b[1;33m.\u001b[0m\u001b[0mdegrees\u001b[0m\u001b[1;33m(\u001b[0m\u001b[0mmath\u001b[0m\u001b[1;33m.\u001b[0m\u001b[0matan\u001b[0m\u001b[1;33m(\u001b[0m\u001b[0mdy\u001b[0m \u001b[1;33m/\u001b[0m \u001b[0mdx\u001b[0m\u001b[1;33m)\u001b[0m\u001b[1;33m)\u001b[0m\u001b[1;33m\u001b[0m\u001b[1;33m\u001b[0m\u001b[0m\n\u001b[0;32m      4\u001b[0m     \u001b[1;32mexcept\u001b[0m \u001b[0mZeroDivisionError\u001b[0m \u001b[1;32mas\u001b[0m \u001b[0me\u001b[0m\u001b[1;33m:\u001b[0m\u001b[1;33m\u001b[0m\u001b[1;33m\u001b[0m\u001b[0m\n\u001b[1;32m----> 5\u001b[1;33m         \u001b[1;32mraise\u001b[0m \u001b[0mInclinationError\u001b[0m\u001b[1;33m(\u001b[0m\u001b[1;34m\"Slope cannot be vertical\"\u001b[0m\u001b[1;33m)\u001b[0m \u001b[1;32mfrom\u001b[0m \u001b[0me\u001b[0m\u001b[1;33m\u001b[0m\u001b[1;33m\u001b[0m\u001b[0m\n\u001b[0m",
      "\u001b[1;31mInclinationError\u001b[0m: Slope cannot be vertical"
     ]
    }
   ],
   "source": [
    "inclination(0, 5)"
   ]
  },
  {
   "cell_type": "code",
   "execution_count": 41,
   "metadata": {},
   "outputs": [
    {
     "name": "stdout",
     "output_type": "stream",
     "text": [
      "Slope cannot be vertical\n",
      "division by zero\n"
     ]
    }
   ],
   "source": [
    "try:\n",
    "    inclination(0, 5)\n",
    "except InclinationError as e:\n",
    "    print(e)\n",
    "    print(e.__cause__)"
   ]
  },
  {
   "cell_type": "markdown",
   "metadata": {},
   "source": [
    "# 6 Traceback Objects"
   ]
  },
  {
   "cell_type": "code",
   "execution_count": 43,
   "metadata": {},
   "outputs": [],
   "source": [
    "import traceback"
   ]
  },
  {
   "cell_type": "code",
   "execution_count": 45,
   "metadata": {},
   "outputs": [
    {
     "name": "stdout",
     "output_type": "stream",
     "text": [
      "<traceback object at 0x000001558FB56888>\n",
      "['  File \"<ipython-input-45-02689c8f6b10>\", line 2, in <module>\\n    inclination(0, 5)\\n', '  File \"<ipython-input-39-782e0595348f>\", line 5, in inclination\\n    raise InclinationError(\"Slope cannot be vertical\") from e\\n']\n",
      "Finished\n"
     ]
    },
    {
     "name": "stderr",
     "output_type": "stream",
     "text": [
      "  File \"<ipython-input-45-02689c8f6b10>\", line 2, in <module>\n",
      "    inclination(0, 5)\n",
      "  File \"<ipython-input-39-782e0595348f>\", line 5, in inclination\n",
      "    raise InclinationError(\"Slope cannot be vertical\") from e\n"
     ]
    }
   ],
   "source": [
    "try:\n",
    "    inclination(0, 5)\n",
    "except InclinationError as e:\n",
    "    print(e.__traceback__)\n",
    "    traceback.print_tb(e.__traceback__)\n",
    "    s = traceback.format_tb(e.__traceback__)\n",
    "    print(s)\n",
    "    \n",
    "print(\"Finished\")"
   ]
  },
  {
   "cell_type": "markdown",
   "metadata": {},
   "source": [
    "# 7 Assertions Internal Invariants"
   ]
  },
  {
   "cell_type": "code",
   "execution_count": 47,
   "metadata": {},
   "outputs": [],
   "source": [
    "# assert False, \"The condition was false\"\n",
    "\n",
    "# ---------------------------------------------------------------------------\n",
    "# AssertionError                            Traceback (most recent call last)\n",
    "# <ipython-input-46-74bb2f6f24c8> in <module>\n",
    "# ----> 1 assert False, \"The condition was false\"\n",
    "\n",
    "# AssertionError: The condition was false"
   ]
  },
  {
   "cell_type": "code",
   "execution_count": 48,
   "metadata": {},
   "outputs": [],
   "source": [
    "assert 5 > 2, \"You are in a defective universe!\""
   ]
  },
  {
   "cell_type": "code",
   "execution_count": 49,
   "metadata": {},
   "outputs": [],
   "source": [
    "def modulus_three(n):\n",
    "    r = n % 3\n",
    "    if r == 0:\n",
    "        print(\"Multiple of 3\")\n",
    "    elif r == 1:\n",
    "        print(\"Remainder 1\")\n",
    "    else:\n",
    "        assert r == 2, \"Remainder is not 2\"\n",
    "        print(\"Remainder 2\")"
   ]
  },
  {
   "cell_type": "code",
   "execution_count": 50,
   "metadata": {},
   "outputs": [],
   "source": [
    "def modulus_four(n):\n",
    "    r = n % 4\n",
    "    if r == 0:\n",
    "        print(\"Multiple of 4\")\n",
    "    elif r == 1:\n",
    "        print(\"Remainder 1\")\n",
    "    else:\n",
    "        assert r == 2, \"Remainder is not 2\"\n",
    "        print(\"Remainder 2\")"
   ]
  },
  {
   "cell_type": "code",
   "execution_count": 51,
   "metadata": {},
   "outputs": [
    {
     "name": "stdout",
     "output_type": "stream",
     "text": [
      "Multiple of 4\n"
     ]
    }
   ],
   "source": [
    "modulus_four(4)"
   ]
  },
  {
   "cell_type": "code",
   "execution_count": 53,
   "metadata": {},
   "outputs": [],
   "source": [
    "# modulus_four(3)\n",
    "\n",
    "# ---------------------------------------------------------------------------\n",
    "# AssertionError                            Traceback (most recent call last)\n",
    "# <ipython-input-52-622201bfce93> in <module>\n",
    "# ----> 1 modulus_four(3)\n",
    "\n",
    "# <ipython-input-50-929d9eb09a2f> in modulus_four(n)\n",
    "#       6         print(\"Remainder 1\")\n",
    "#       7     else:\n",
    "# ----> 8         assert r == 2, \"Remainder is not 2\"\n",
    "#       9         print(\"Remainder 2\")\n",
    "\n",
    "# AssertionError: Remainder is not 2"
   ]
  },
  {
   "cell_type": "code",
   "execution_count": 54,
   "metadata": {},
   "outputs": [],
   "source": [
    "def modulus_four(n):\n",
    "    r = n % 4\n",
    "    if r == 0:\n",
    "        print(\"Multiple of 4\")\n",
    "    elif r == 1:\n",
    "        print(\"Remainder 1\")\n",
    "    elif r == 2:\n",
    "        print(\"Remainder 2\")\n",
    "    else:\n",
    "        assert r == 3, \"Remainder is not 3\"\n",
    "        print(\"Remainder 3\")"
   ]
  },
  {
   "cell_type": "code",
   "execution_count": 55,
   "metadata": {},
   "outputs": [
    {
     "name": "stdout",
     "output_type": "stream",
     "text": [
      "Remainder 3\n"
     ]
    }
   ],
   "source": [
    "modulus_four(3)"
   ]
  },
  {
   "cell_type": "code",
   "execution_count": 56,
   "metadata": {},
   "outputs": [],
   "source": [
    "def modulus_four(n):\n",
    "    r = n % 4\n",
    "    if r == 0:\n",
    "        print(\"Multiple of 4\")\n",
    "    elif r == 1:\n",
    "        print(\"Remainder 1\")\n",
    "    elif r == 2:\n",
    "        print(\"Remainder 2\")\n",
    "    elif r == 3:\n",
    "        print(\"Remainder 3\")\n",
    "    else:\n",
    "        assert False, \"This should never happen\""
   ]
  },
  {
   "cell_type": "code",
   "execution_count": null,
   "metadata": {},
   "outputs": [],
   "source": []
  }
 ],
 "metadata": {
  "kernelspec": {
   "display_name": "Python 3",
   "language": "python",
   "name": "python3"
  },
  "language_info": {
   "codemirror_mode": {
    "name": "ipython",
    "version": 3
   },
   "file_extension": ".py",
   "mimetype": "text/x-python",
   "name": "python",
   "nbconvert_exporter": "python",
   "pygments_lexer": "ipython3",
   "version": "3.7.3"
  }
 },
 "nbformat": 4,
 "nbformat_minor": 2
}
