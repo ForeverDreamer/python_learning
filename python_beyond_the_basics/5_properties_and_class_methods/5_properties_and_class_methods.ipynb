{
 "cells": [
  {
   "cell_type": "markdown",
   "metadata": {},
   "source": [
    "# 1 Class Attributes"
   ]
  },
  {
   "cell_type": "code",
   "execution_count": 1,
   "metadata": {},
   "outputs": [],
   "source": [
    "class ShippingContainer:\n",
    "    \n",
    "    def __init__(self, owner_code, contents):\n",
    "        self.owner_code = owner_code\n",
    "        self.contents = contents\n"
   ]
  },
  {
   "cell_type": "code",
   "execution_count": 2,
   "metadata": {},
   "outputs": [],
   "source": [
    "c1 = ShippingContainer('YML', 'books')"
   ]
  },
  {
   "cell_type": "code",
   "execution_count": 3,
   "metadata": {},
   "outputs": [
    {
     "data": {
      "text/plain": [
       "'YML'"
      ]
     },
     "execution_count": 3,
     "metadata": {},
     "output_type": "execute_result"
    }
   ],
   "source": [
    "c1.owner_code"
   ]
  },
  {
   "cell_type": "code",
   "execution_count": 4,
   "metadata": {},
   "outputs": [
    {
     "data": {
      "text/plain": [
       "'books'"
      ]
     },
     "execution_count": 4,
     "metadata": {},
     "output_type": "execute_result"
    }
   ],
   "source": [
    "c1.contents"
   ]
  },
  {
   "cell_type": "code",
   "execution_count": 5,
   "metadata": {},
   "outputs": [],
   "source": [
    "c2 = ShippingContainer('MAE', 'clothes')"
   ]
  },
  {
   "cell_type": "code",
   "execution_count": 6,
   "metadata": {},
   "outputs": [
    {
     "data": {
      "text/plain": [
       "'MAE'"
      ]
     },
     "execution_count": 6,
     "metadata": {},
     "output_type": "execute_result"
    }
   ],
   "source": [
    "c2.owner_code"
   ]
  },
  {
   "cell_type": "code",
   "execution_count": 7,
   "metadata": {},
   "outputs": [
    {
     "data": {
      "text/plain": [
       "'clothes'"
      ]
     },
     "execution_count": 7,
     "metadata": {},
     "output_type": "execute_result"
    }
   ],
   "source": [
    "c2.contents"
   ]
  },
  {
   "cell_type": "code",
   "execution_count": 1,
   "metadata": {},
   "outputs": [],
   "source": [
    "class ShippingContainer:\n",
    "    \n",
    "    next_serial = 1337\n",
    "    \n",
    "    def __init__(self, owner_code, contents):\n",
    "        self.owner_code = owner_code\n",
    "        self.contents = contents\n",
    "        self.serial = next_serial\n",
    "        next_serial += 1\n"
   ]
  },
  {
   "cell_type": "code",
   "execution_count": 3,
   "metadata": {},
   "outputs": [],
   "source": [
    "# c3 = ShippingContainer('MAE', 'tools')\n",
    "\n",
    "# ---------------------------------------------------------------------------\n",
    "# UnboundLocalError                         Traceback (most recent call last)\n",
    "# <ipython-input-2-2282ba8d28d0> in <module>\n",
    "# ----> 1 c3 = ShippingContainer('MAE', 'tools')\n",
    "\n",
    "# <ipython-input-1-61173f49b968> in __init__(self, owner_code, contents)\n",
    "#       6         self.owner_code = owner_code\n",
    "#       7         self.contents = contents\n",
    "# ----> 8         self.serial = next_serial\n",
    "#       9         next_serial += 1\n",
    "\n",
    "# UnboundLocalError: local variable 'next_serial' referenced before assignment"
   ]
  },
  {
   "cell_type": "code",
   "execution_count": 1,
   "metadata": {},
   "outputs": [],
   "source": [
    "class ShippingContainer:\n",
    "    \n",
    "    next_serial = 1337\n",
    "    \n",
    "    def __init__(self, owner_code, contents):\n",
    "        self.owner_code = owner_code\n",
    "        self.contents = contents\n",
    "        self.serial = ShippingContainer.next_serial\n",
    "        ShippingContainer.next_serial += 1\n"
   ]
  },
  {
   "cell_type": "code",
   "execution_count": 2,
   "metadata": {},
   "outputs": [],
   "source": [
    "c4 = ShippingContainer('ESC', 'electronics')"
   ]
  },
  {
   "cell_type": "code",
   "execution_count": 3,
   "metadata": {},
   "outputs": [
    {
     "data": {
      "text/plain": [
       "1337"
      ]
     },
     "execution_count": 3,
     "metadata": {},
     "output_type": "execute_result"
    }
   ],
   "source": [
    "c4.serial"
   ]
  },
  {
   "cell_type": "code",
   "execution_count": 4,
   "metadata": {},
   "outputs": [],
   "source": [
    "c5 = ShippingContainer('ESC', 'pharmaceuticals')"
   ]
  },
  {
   "cell_type": "code",
   "execution_count": 5,
   "metadata": {},
   "outputs": [
    {
     "data": {
      "text/plain": [
       "1338"
      ]
     },
     "execution_count": 5,
     "metadata": {},
     "output_type": "execute_result"
    }
   ],
   "source": [
    "c5.serial"
   ]
  },
  {
   "cell_type": "code",
   "execution_count": 6,
   "metadata": {},
   "outputs": [],
   "source": [
    "c6 = ShippingContainer('ESC', 'noodles')"
   ]
  },
  {
   "cell_type": "code",
   "execution_count": 7,
   "metadata": {},
   "outputs": [
    {
     "data": {
      "text/plain": [
       "1339"
      ]
     },
     "execution_count": 7,
     "metadata": {},
     "output_type": "execute_result"
    }
   ],
   "source": [
    "c6.serial"
   ]
  },
  {
   "cell_type": "code",
   "execution_count": 8,
   "metadata": {},
   "outputs": [
    {
     "data": {
      "text/plain": [
       "1340"
      ]
     },
     "execution_count": 8,
     "metadata": {},
     "output_type": "execute_result"
    }
   ],
   "source": [
    "ShippingContainer.next_serial"
   ]
  },
  {
   "cell_type": "code",
   "execution_count": 9,
   "metadata": {},
   "outputs": [
    {
     "data": {
      "text/plain": [
       "1340"
      ]
     },
     "execution_count": 9,
     "metadata": {},
     "output_type": "execute_result"
    }
   ],
   "source": [
    "c5.next_serial"
   ]
  },
  {
   "cell_type": "markdown",
   "metadata": {},
   "source": [
    "# 2 Static Methods"
   ]
  },
  {
   "cell_type": "code",
   "execution_count": 1,
   "metadata": {},
   "outputs": [],
   "source": [
    "class ShippingContainer:\n",
    "    next_serial = 1337\n",
    "\n",
    "    def __init__(self, owner_code, contents):\n",
    "        self.owner_code = owner_code\n",
    "        self.contents = contents\n",
    "        self.serial = ShippingContainer._get_next_serial()\n",
    "\n",
    "    @staticmethod\n",
    "    def _get_next_serial():\n",
    "        result = ShippingContainer.next_serial\n",
    "        ShippingContainer.next_serial += 1\n",
    "        return result\n"
   ]
  },
  {
   "cell_type": "code",
   "execution_count": 2,
   "metadata": {},
   "outputs": [],
   "source": [
    "c7 = ShippingContainer('YML', 'coffee')"
   ]
  },
  {
   "cell_type": "code",
   "execution_count": 3,
   "metadata": {},
   "outputs": [
    {
     "data": {
      "text/plain": [
       "1337"
      ]
     },
     "execution_count": 3,
     "metadata": {},
     "output_type": "execute_result"
    }
   ],
   "source": [
    "c7.serial"
   ]
  },
  {
   "cell_type": "code",
   "execution_count": 4,
   "metadata": {},
   "outputs": [
    {
     "data": {
      "text/plain": [
       "1338"
      ]
     },
     "execution_count": 4,
     "metadata": {},
     "output_type": "execute_result"
    }
   ],
   "source": [
    "ShippingContainer.next_serial"
   ]
  },
  {
   "cell_type": "markdown",
   "metadata": {},
   "source": [
    "# 3 Class Methods"
   ]
  },
  {
   "cell_type": "code",
   "execution_count": 1,
   "metadata": {},
   "outputs": [],
   "source": [
    "class ShippingContainer:\n",
    "    next_serial = 1337\n",
    "\n",
    "    @classmethod\n",
    "    def _get_next_serial(cls):\n",
    "        result = cls.next_serial\n",
    "        cls.next_serial += 1\n",
    "        return result\n",
    "\n",
    "    @classmethod\n",
    "    def create_empty(cls, owner_code):\n",
    "        return cls(owner_code, contents=None)\n",
    "    \n",
    "    @classmethod\n",
    "    def create_with_items(cls, owner_code, items):\n",
    "        return cls(owner_code, contents=items)\n",
    "\n",
    "    def __init__(self, owner_code, contents):\n",
    "        self.owner_code = owner_code\n",
    "        self.contents = contents\n",
    "        self.serial = ShippingContainer._get_next_serial()\n"
   ]
  },
  {
   "cell_type": "code",
   "execution_count": 2,
   "metadata": {},
   "outputs": [],
   "source": [
    "c8 = ShippingContainer.create_empty('YML')"
   ]
  },
  {
   "cell_type": "code",
   "execution_count": 3,
   "metadata": {},
   "outputs": [
    {
     "data": {
      "text/plain": [
       "<__main__.ShippingContainer at 0x29697557438>"
      ]
     },
     "execution_count": 3,
     "metadata": {},
     "output_type": "execute_result"
    }
   ],
   "source": [
    "c8"
   ]
  },
  {
   "cell_type": "code",
   "execution_count": 4,
   "metadata": {},
   "outputs": [],
   "source": [
    "c8.contents"
   ]
  },
  {
   "cell_type": "code",
   "execution_count": 5,
   "metadata": {},
   "outputs": [
    {
     "data": {
      "text/plain": [
       "1337"
      ]
     },
     "execution_count": 5,
     "metadata": {},
     "output_type": "execute_result"
    }
   ],
   "source": [
    "c8.serial"
   ]
  },
  {
   "cell_type": "code",
   "execution_count": 7,
   "metadata": {},
   "outputs": [],
   "source": [
    "c9 = ShippingContainer.create_with_items('MAE', ['food', 'texttiles', 'minerals'])"
   ]
  },
  {
   "cell_type": "code",
   "execution_count": 8,
   "metadata": {},
   "outputs": [
    {
     "data": {
      "text/plain": [
       "<__main__.ShippingContainer at 0x296978b7390>"
      ]
     },
     "execution_count": 8,
     "metadata": {},
     "output_type": "execute_result"
    }
   ],
   "source": [
    "c9"
   ]
  },
  {
   "cell_type": "code",
   "execution_count": 9,
   "metadata": {},
   "outputs": [
    {
     "data": {
      "text/plain": [
       "1338"
      ]
     },
     "execution_count": 9,
     "metadata": {},
     "output_type": "execute_result"
    }
   ],
   "source": [
    "c9.serial"
   ]
  },
  {
   "cell_type": "code",
   "execution_count": 10,
   "metadata": {},
   "outputs": [
    {
     "data": {
      "text/plain": [
       "['food', 'texttiles', 'minerals']"
      ]
     },
     "execution_count": 10,
     "metadata": {},
     "output_type": "execute_result"
    }
   ],
   "source": [
    "c9.contents"
   ]
  },
  {
   "cell_type": "code",
   "execution_count": 1,
   "metadata": {},
   "outputs": [],
   "source": [
    "import iso6346\n",
    "\n",
    "\n",
    "class ShippingContainer:\n",
    "    next_serial = 1337\n",
    "\n",
    "    @staticmethod\n",
    "    def _make_bic_code(owner_code, serial):\n",
    "        return iso6346.create(owner_code=owner_code,\n",
    "                              serial=str(serial).zfill(6))\n",
    "\n",
    "    @classmethod\n",
    "    def _get_next_serial(cls):\n",
    "        result = cls.next_serial\n",
    "        cls.next_serial += 1\n",
    "        return result\n",
    "\n",
    "    @classmethod\n",
    "    def create_empty(cls, owner_code):\n",
    "        return cls(owner_code, contents=None)\n",
    "\n",
    "    @classmethod\n",
    "    def create_with_items(cls, owner_code, items):\n",
    "        return cls(owner_code, contents=items)\n",
    "\n",
    "    def __init__(self, owner_code, contents):\n",
    "        self.owner_code = owner_code\n",
    "        self.contents = contents\n",
    "        self.bic = ShippingContainer._make_bic_code(\n",
    "            owner_code=owner_code,\n",
    "            serial=ShippingContainer._get_next_serial()\n",
    "        )\n"
   ]
  },
  {
   "cell_type": "code",
   "execution_count": 2,
   "metadata": {},
   "outputs": [],
   "source": [
    "c = ShippingContainer.create_empty('YML')"
   ]
  },
  {
   "cell_type": "code",
   "execution_count": 3,
   "metadata": {},
   "outputs": [
    {
     "data": {
      "text/plain": [
       "<__main__.ShippingContainer at 0x1ecaf9490b8>"
      ]
     },
     "execution_count": 3,
     "metadata": {},
     "output_type": "execute_result"
    }
   ],
   "source": [
    "c"
   ]
  },
  {
   "cell_type": "code",
   "execution_count": 4,
   "metadata": {},
   "outputs": [
    {
     "data": {
      "text/plain": [
       "'YMLU0013374'"
      ]
     },
     "execution_count": 4,
     "metadata": {},
     "output_type": "execute_result"
    }
   ],
   "source": [
    "c.bic"
   ]
  },
  {
   "cell_type": "markdown",
   "metadata": {},
   "source": [
    "# 4 Static Methods with Inheritance"
   ]
  },
  {
   "cell_type": "code",
   "execution_count": 1,
   "metadata": {},
   "outputs": [],
   "source": [
    "import iso6346\n",
    "\n",
    "\n",
    "class ShippingContainer:\n",
    "    next_serial = 1337\n",
    "\n",
    "    @staticmethod\n",
    "    def _make_bic_code(owner_code, serial):\n",
    "        return iso6346.create(owner_code=owner_code,\n",
    "                              serial=str(serial).zfill(6))\n",
    "\n",
    "    @classmethod\n",
    "    def _get_next_serial(cls):\n",
    "        result = cls.next_serial\n",
    "        cls.next_serial += 1\n",
    "        return result\n",
    "\n",
    "    @classmethod\n",
    "    def create_empty(cls, owner_code):\n",
    "        return cls(owner_code, contents=None)\n",
    "\n",
    "    @classmethod\n",
    "    def create_with_items(cls, owner_code, items):\n",
    "        return cls(owner_code, contents=items)\n",
    "\n",
    "    def __init__(self, owner_code, contents):\n",
    "        self.owner_code = owner_code\n",
    "        self.contents = contents\n",
    "        self.bic = ShippingContainer._make_bic_code(\n",
    "            owner_code=owner_code,\n",
    "            serial=ShippingContainer._get_next_serial()\n",
    "        )\n",
    "\n",
    "\n",
    "class RefrigeratedShippingContainer(ShippingContainer):\n",
    "\n",
    "    @staticmethod\n",
    "    def _make_bic_code(owner_code, serial):\n",
    "        return iso6346.create(owner_code=owner_code,\n",
    "                              serial=str(serial).zfill(6),\n",
    "                              category='R')\n"
   ]
  },
  {
   "cell_type": "code",
   "execution_count": 2,
   "metadata": {},
   "outputs": [],
   "source": [
    "r1 = RefrigeratedShippingContainer('MAE', 'fish')"
   ]
  },
  {
   "cell_type": "code",
   "execution_count": 3,
   "metadata": {},
   "outputs": [
    {
     "data": {
      "text/plain": [
       "'MAEU0013371'"
      ]
     },
     "execution_count": 3,
     "metadata": {},
     "output_type": "execute_result"
    }
   ],
   "source": [
    "r1.bic"
   ]
  },
  {
   "cell_type": "code",
   "execution_count": 4,
   "metadata": {},
   "outputs": [
    {
     "data": {
      "text/plain": [
       "'MAEU0012349'"
      ]
     },
     "execution_count": 4,
     "metadata": {},
     "output_type": "execute_result"
    }
   ],
   "source": [
    "ShippingContainer._make_bic_code('MAE', 1234)"
   ]
  },
  {
   "cell_type": "code",
   "execution_count": 5,
   "metadata": {},
   "outputs": [
    {
     "data": {
      "text/plain": [
       "'MAER0012347'"
      ]
     },
     "execution_count": 5,
     "metadata": {},
     "output_type": "execute_result"
    }
   ],
   "source": [
    "RefrigeratedShippingContainer._make_bic_code('MAE', 1234)"
   ]
  },
  {
   "cell_type": "code",
   "execution_count": 6,
   "metadata": {},
   "outputs": [],
   "source": [
    "c = ShippingContainer('ESC', 'textiles')"
   ]
  },
  {
   "cell_type": "code",
   "execution_count": 7,
   "metadata": {},
   "outputs": [
    {
     "data": {
      "text/plain": [
       "'MAEU0012349'"
      ]
     },
     "execution_count": 7,
     "metadata": {},
     "output_type": "execute_result"
    }
   ],
   "source": [
    "c._make_bic_code('MAE', 1234)"
   ]
  },
  {
   "cell_type": "code",
   "execution_count": 8,
   "metadata": {},
   "outputs": [],
   "source": [
    "r = RefrigeratedShippingContainer('ESC', 'peas')"
   ]
  },
  {
   "cell_type": "code",
   "execution_count": 9,
   "metadata": {},
   "outputs": [
    {
     "data": {
      "text/plain": [
       "'MAER0012347'"
      ]
     },
     "execution_count": 9,
     "metadata": {},
     "output_type": "execute_result"
    }
   ],
   "source": [
    "r._make_bic_code('MAE', 1234)"
   ]
  },
  {
   "cell_type": "code",
   "execution_count": 1,
   "metadata": {},
   "outputs": [],
   "source": [
    "import iso6346\n",
    "\n",
    "\n",
    "class ShippingContainer:\n",
    "    next_serial = 1337\n",
    "\n",
    "    @staticmethod\n",
    "    def _make_bic_code(owner_code, serial):\n",
    "        return iso6346.create(owner_code=owner_code,\n",
    "                              serial=str(serial).zfill(6))\n",
    "\n",
    "    @classmethod\n",
    "    def _get_next_serial(cls):\n",
    "        result = cls.next_serial\n",
    "        cls.next_serial += 1\n",
    "        return result\n",
    "\n",
    "    @classmethod\n",
    "    def create_empty(cls, owner_code):\n",
    "        return cls(owner_code, contents=None)\n",
    "\n",
    "    @classmethod\n",
    "    def create_with_items(cls, owner_code, items):\n",
    "        return cls(owner_code, contents=items)\n",
    "\n",
    "    def __init__(self, owner_code, contents):\n",
    "        self.owner_code = owner_code\n",
    "        self.contents = contents\n",
    "        self.bic = self._make_bic_code(\n",
    "            owner_code=owner_code,\n",
    "            serial=ShippingContainer._get_next_serial()\n",
    "        )\n",
    "\n",
    "\n",
    "class RefrigeratedShippingContainer(ShippingContainer):\n",
    "\n",
    "    @staticmethod\n",
    "    def _make_bic_code(owner_code, serial):\n",
    "        return iso6346.create(owner_code=owner_code,\n",
    "                              serial=str(serial).zfill(6),\n",
    "                              category='R')\n"
   ]
  },
  {
   "cell_type": "code",
   "execution_count": 2,
   "metadata": {},
   "outputs": [],
   "source": [
    "r = RefrigeratedShippingContainer('ESC', 'peas')"
   ]
  },
  {
   "cell_type": "code",
   "execution_count": 3,
   "metadata": {},
   "outputs": [
    {
     "data": {
      "text/plain": [
       "'ESCR0013370'"
      ]
     },
     "execution_count": 3,
     "metadata": {},
     "output_type": "execute_result"
    }
   ],
   "source": [
    "r.bic"
   ]
  },
  {
   "cell_type": "markdown",
   "metadata": {},
   "source": [
    "# 5 Class Methods with Inheritance"
   ]
  },
  {
   "cell_type": "code",
   "execution_count": 1,
   "metadata": {},
   "outputs": [],
   "source": [
    "import iso6346\n",
    "\n",
    "\n",
    "class ShippingContainer:\n",
    "    next_serial = 1337\n",
    "\n",
    "    @staticmethod\n",
    "    def _make_bic_code(owner_code, serial):\n",
    "        return iso6346.create(owner_code=owner_code,\n",
    "                              serial=str(serial).zfill(6))\n",
    "\n",
    "    @classmethod\n",
    "    def _get_next_serial(cls):\n",
    "        result = cls.next_serial\n",
    "        cls.next_serial += 1\n",
    "        return result\n",
    "\n",
    "    @classmethod\n",
    "    def create_empty(cls, owner_code):\n",
    "        return cls(owner_code, contents=None)\n",
    "\n",
    "    @classmethod\n",
    "    def create_with_items(cls, owner_code, items):\n",
    "        return cls(owner_code, contents=items)\n",
    "\n",
    "    def __init__(self, owner_code, contents):\n",
    "        self.owner_code = owner_code\n",
    "        self.contents = contents\n",
    "        self.bic = self._make_bic_code(\n",
    "            owner_code=owner_code,\n",
    "            serial=ShippingContainer._get_next_serial()\n",
    "        )\n",
    "\n",
    "\n",
    "class RefrigeratedShippingContainer(ShippingContainer):\n",
    "\n",
    "    @staticmethod\n",
    "    def _make_bic_code(owner_code, serial):\n",
    "        return iso6346.create(owner_code=owner_code,\n",
    "                              serial=str(serial).zfill(6),\n",
    "                              category='R')\n"
   ]
  },
  {
   "cell_type": "code",
   "execution_count": 2,
   "metadata": {},
   "outputs": [],
   "source": [
    "r1 = RefrigeratedShippingContainer.create_empty('YML')"
   ]
  },
  {
   "cell_type": "code",
   "execution_count": 3,
   "metadata": {},
   "outputs": [
    {
     "data": {
      "text/plain": [
       "<__main__.RefrigeratedShippingContainer at 0x1e5ecf274e0>"
      ]
     },
     "execution_count": 3,
     "metadata": {},
     "output_type": "execute_result"
    }
   ],
   "source": [
    "r1"
   ]
  },
  {
   "cell_type": "code",
   "execution_count": 4,
   "metadata": {},
   "outputs": [],
   "source": [
    "r2 = RefrigeratedShippingContainer.create_with_items('YML', ['ice', 'peas'])"
   ]
  },
  {
   "cell_type": "code",
   "execution_count": 5,
   "metadata": {},
   "outputs": [
    {
     "data": {
      "text/plain": [
       "<__main__.RefrigeratedShippingContainer at 0x1e5ecf27f98>"
      ]
     },
     "execution_count": 5,
     "metadata": {},
     "output_type": "execute_result"
    }
   ],
   "source": [
    "r2"
   ]
  },
  {
   "cell_type": "code",
   "execution_count": 6,
   "metadata": {},
   "outputs": [
    {
     "data": {
      "text/plain": [
       "['ice', 'peas']"
      ]
     },
     "execution_count": 6,
     "metadata": {},
     "output_type": "execute_result"
    }
   ],
   "source": [
    "r2.contents"
   ]
  },
  {
   "cell_type": "code",
   "execution_count": 1,
   "metadata": {},
   "outputs": [],
   "source": [
    "import iso6346\n",
    "\n",
    "\n",
    "class ShippingContainer:\n",
    "    next_serial = 1337\n",
    "\n",
    "    @staticmethod\n",
    "    def _make_bic_code(owner_code, serial):\n",
    "        return iso6346.create(owner_code=owner_code,\n",
    "                              serial=str(serial).zfill(6))\n",
    "\n",
    "    @classmethod\n",
    "    def _get_next_serial(cls):\n",
    "        result = cls.next_serial\n",
    "        cls.next_serial += 1\n",
    "        return result\n",
    "\n",
    "    @classmethod\n",
    "    def create_empty(cls, owner_code, *args, **kwargs):\n",
    "        return cls(owner_code, contents=None, *args, **kwargs)\n",
    "\n",
    "    @classmethod\n",
    "    def create_with_items(cls, owner_code, items, *args, **kwargs):\n",
    "        return cls(owner_code, contents=items, *args, **kwargs)\n",
    "\n",
    "    def __init__(self, owner_code, contents):\n",
    "        self.owner_code = owner_code\n",
    "        self.contents = contents\n",
    "        self.bic = self._make_bic_code(\n",
    "            owner_code=owner_code,\n",
    "            serial=ShippingContainer._get_next_serial()\n",
    "        )\n",
    "\n",
    "\n",
    "\n",
    "class RefrigeratedShippingContainer(ShippingContainer):\n",
    "    \n",
    "    MAX_CELSIUS = 4.0\n",
    "\n",
    "    @staticmethod\n",
    "    def _make_bic_code(owner_code, serial):\n",
    "        return iso6346.create(owner_code=owner_code,\n",
    "                              serial=str(serial).zfill(6),\n",
    "                              category='R')\n",
    "    \n",
    "    def __init__(self, owner_code, contents, celsius):\n",
    "        super().__init__(owner_code, contents)\n",
    "        if celsius > RefrigeratedShippingContainer.MAX_CELSIUS:\n",
    "            raise ValueError(\"Temperature too hot!\")\n",
    "        self._celsius = celsius\n"
   ]
  },
  {
   "cell_type": "code",
   "execution_count": 2,
   "metadata": {},
   "outputs": [],
   "source": [
    "r3 = RefrigeratedShippingContainer.create_with_items('ESC', ['brocolli', 'cauliflower', 'carrots'], celsius=2.0)"
   ]
  },
  {
   "cell_type": "code",
   "execution_count": 3,
   "metadata": {},
   "outputs": [
    {
     "data": {
      "text/plain": [
       "<__main__.RefrigeratedShippingContainer at 0x1f1e02709b0>"
      ]
     },
     "execution_count": 3,
     "metadata": {},
     "output_type": "execute_result"
    }
   ],
   "source": [
    "r3"
   ]
  },
  {
   "cell_type": "code",
   "execution_count": 4,
   "metadata": {},
   "outputs": [
    {
     "data": {
      "text/plain": [
       "['brocolli', 'cauliflower', 'carrots']"
      ]
     },
     "execution_count": 4,
     "metadata": {},
     "output_type": "execute_result"
    }
   ],
   "source": [
    "r3.contents"
   ]
  },
  {
   "cell_type": "code",
   "execution_count": 5,
   "metadata": {},
   "outputs": [
    {
     "data": {
      "text/plain": [
       "'ESCR0013370'"
      ]
     },
     "execution_count": 5,
     "metadata": {},
     "output_type": "execute_result"
    }
   ],
   "source": [
    "r3.bic"
   ]
  },
  {
   "cell_type": "code",
   "execution_count": 6,
   "metadata": {},
   "outputs": [],
   "source": [
    "r3._celsius = 12.0"
   ]
  },
  {
   "cell_type": "markdown",
   "metadata": {},
   "source": [
    "# 6 Properties"
   ]
  },
  {
   "cell_type": "code",
   "execution_count": 1,
   "metadata": {},
   "outputs": [],
   "source": [
    "import iso6346\n",
    "\n",
    "\n",
    "class ShippingContainer:\n",
    "    next_serial = 1337\n",
    "\n",
    "    @staticmethod\n",
    "    def _make_bic_code(owner_code, serial):\n",
    "        return iso6346.create(owner_code=owner_code,\n",
    "                              serial=str(serial).zfill(6))\n",
    "\n",
    "    @classmethod\n",
    "    def _get_next_serial(cls):\n",
    "        result = cls.next_serial\n",
    "        cls.next_serial += 1\n",
    "        return result\n",
    "\n",
    "    @classmethod\n",
    "    def create_empty(cls, owner_code, *args, **kwargs):\n",
    "        return cls(owner_code, contents=None, *args, **kwargs)\n",
    "\n",
    "    @classmethod\n",
    "    def create_with_items(cls, owner_code, items, *args, **kwargs):\n",
    "        return cls(owner_code, contents=items, *args, **kwargs)\n",
    "\n",
    "    def __init__(self, owner_code, contents):\n",
    "        self.owner_code = owner_code\n",
    "        self.contents = contents\n",
    "        self.bic = self._make_bic_code(\n",
    "            owner_code=owner_code,\n",
    "            serial=ShippingContainer._get_next_serial()\n",
    "        )\n",
    "\n",
    "\n",
    "\n",
    "class RefrigeratedShippingContainer(ShippingContainer):\n",
    "    \n",
    "    MAX_CELSIUS = 4.0\n",
    "\n",
    "    @staticmethod\n",
    "    def _make_bic_code(owner_code, serial):\n",
    "        return iso6346.create(owner_code=owner_code,\n",
    "                              serial=str(serial).zfill(6),\n",
    "                              category='R')\n",
    "    \n",
    "    def __init__(self, owner_code, contents, celsius):\n",
    "        super().__init__(owner_code, contents)\n",
    "        self._celsius = celsius\n",
    "\n",
    "    @property\n",
    "    def celsius(self):\n",
    "        return self._celsius\n",
    "\n",
    "    @celsius.setter\n",
    "    def celsius(self, value):\n",
    "        if value > RefrigeratedShippingContainer.MAX_CELSIUS:\n",
    "            raise ValueError(\"Temperature too hot!\")\n",
    "        self._celsius = value\n"
   ]
  },
  {
   "cell_type": "code",
   "execution_count": 2,
   "metadata": {},
   "outputs": [],
   "source": [
    "r5 = RefrigeratedShippingContainer.create_with_items('YML', ['prawns'], celsius=-18.0)"
   ]
  },
  {
   "cell_type": "code",
   "execution_count": 3,
   "metadata": {},
   "outputs": [
    {
     "data": {
      "text/plain": [
       "-18.0"
      ]
     },
     "execution_count": 3,
     "metadata": {},
     "output_type": "execute_result"
    }
   ],
   "source": [
    "r5.celsius"
   ]
  },
  {
   "cell_type": "code",
   "execution_count": 4,
   "metadata": {},
   "outputs": [],
   "source": [
    "r5.celsius = -19.0"
   ]
  },
  {
   "cell_type": "code",
   "execution_count": 5,
   "metadata": {},
   "outputs": [
    {
     "data": {
      "text/plain": [
       "-19.0"
      ]
     },
     "execution_count": 5,
     "metadata": {},
     "output_type": "execute_result"
    }
   ],
   "source": [
    "r5.celsius"
   ]
  },
  {
   "cell_type": "code",
   "execution_count": 8,
   "metadata": {},
   "outputs": [],
   "source": [
    "# r5.celsius = 5.0\n",
    "\n",
    "# ---------------------------------------------------------------------------\n",
    "# ValueError                                Traceback (most recent call last)\n",
    "# <ipython-input-6-29128bef83c2> in <module>\n",
    "# ----> 1 r5.celsius = 5.0\n",
    "\n",
    "# <ipython-input-1-c7a8ed32c827> in celsius(self, value)\n",
    "#      55     def celsius(self, value):\n",
    "#      56         if value > RefrigeratedShippingContainer.MAX_CELSIUS:\n",
    "# ---> 57             raise ValueError(\"Temperature too hot!\")\n",
    "#      58         self._celsius = value\n",
    "\n",
    "# ValueError: Temperature too hot!"
   ]
  },
  {
   "cell_type": "code",
   "execution_count": 16,
   "metadata": {},
   "outputs": [],
   "source": [
    "class RefrigeratedShippingContainer(ShippingContainer):\n",
    "    \n",
    "    MAX_CELSIUS = 4.0\n",
    "\n",
    "    @staticmethod\n",
    "    def _make_bic_code(owner_code, serial):\n",
    "        return iso6346.create(owner_code=owner_code,\n",
    "                              serial=str(serial).zfill(6),\n",
    "                              category='R')\n",
    "    \n",
    "    @staticmethod\n",
    "    def _c_to_f(celsius):\n",
    "        return celsius * 9/5 + 32\n",
    "\n",
    "    @staticmethod\n",
    "    def _f_to_c(fahrenheit):\n",
    "        return (fahrenheit - 32) * 5/9\n",
    "    \n",
    "    def __init__(self, owner_code, contents, celsius):\n",
    "        super().__init__(owner_code, contents)\n",
    "        self.celsius = celsius\n",
    "\n",
    "    @property\n",
    "    def celsius(self):\n",
    "        return self._celsius\n",
    "\n",
    "    @celsius.setter\n",
    "    def celsius(self, value):\n",
    "        if value > RefrigeratedShippingContainer.MAX_CELSIUS:\n",
    "            raise ValueError(\"Temperature too hot!\")\n",
    "        self._celsius = value\n",
    "        \n",
    "    @property\n",
    "    def fahrenheit(self):\n",
    "        return RefrigeratedShippingContainer._c_to_f(self.celsius)\n",
    "\n",
    "    @fahrenheit.setter\n",
    "    def fahrenheit(self, value):\n",
    "        self.celsius = RefrigeratedShippingContainer._f_to_c(value)\n"
   ]
  },
  {
   "cell_type": "code",
   "execution_count": 17,
   "metadata": {},
   "outputs": [],
   "source": [
    "r6 = RefrigeratedShippingContainer.create_empty('YML', celsius=-20.0)"
   ]
  },
  {
   "cell_type": "code",
   "execution_count": 18,
   "metadata": {},
   "outputs": [
    {
     "data": {
      "text/plain": [
       "-20.0"
      ]
     },
     "execution_count": 18,
     "metadata": {},
     "output_type": "execute_result"
    }
   ],
   "source": [
    "r6.celsius"
   ]
  },
  {
   "cell_type": "code",
   "execution_count": 19,
   "metadata": {},
   "outputs": [
    {
     "data": {
      "text/plain": [
       "-4.0"
      ]
     },
     "execution_count": 19,
     "metadata": {},
     "output_type": "execute_result"
    }
   ],
   "source": [
    "r6.fahrenheit"
   ]
  },
  {
   "cell_type": "code",
   "execution_count": 20,
   "metadata": {},
   "outputs": [],
   "source": [
    "r6.fahrenheit = -10.0"
   ]
  },
  {
   "cell_type": "code",
   "execution_count": 21,
   "metadata": {},
   "outputs": [
    {
     "data": {
      "text/plain": [
       "-23.333333333333332"
      ]
     },
     "execution_count": 21,
     "metadata": {},
     "output_type": "execute_result"
    }
   ],
   "source": [
    "r6.celsius"
   ]
  },
  {
   "cell_type": "code",
   "execution_count": 23,
   "metadata": {},
   "outputs": [],
   "source": [
    "# r7 = RefrigeratedShippingContainer.create_empty('YML', celsius=7.0)\n",
    "\n",
    "# ---------------------------------------------------------------------------\n",
    "# ValueError                                Traceback (most recent call last)\n",
    "# <ipython-input-22-1d0dd4350dfc> in <module>\n",
    "# ----> 1 r7 = RefrigeratedShippingContainer.create_empty('YML', celsius=7.0)\n",
    "\n",
    "# <ipython-input-1-c7a8ed32c827> in create_empty(cls, owner_code, *args, **kwargs)\n",
    "#      18     @classmethod\n",
    "#      19     def create_empty(cls, owner_code, *args, **kwargs):\n",
    "# ---> 20         return cls(owner_code, contents=None, *args, **kwargs)\n",
    "#      21 \n",
    "#      22     @classmethod\n",
    "\n",
    "# <ipython-input-16-ab470f899fae> in __init__(self, owner_code, contents, celsius)\n",
    "#      19     def __init__(self, owner_code, contents, celsius):\n",
    "#      20         super().__init__(owner_code, contents)\n",
    "# ---> 21         self.celsius = celsius\n",
    "#      22 \n",
    "#      23     @property\n",
    "\n",
    "# <ipython-input-16-ab470f899fae> in celsius(self, value)\n",
    "#      28     def celsius(self, value):\n",
    "#      29         if value > RefrigeratedShippingContainer.MAX_CELSIUS:\n",
    "# ---> 30             raise ValueError(\"Temperature too hot!\")\n",
    "#      31         self._celsius = value\n",
    "#      32 \n",
    "\n",
    "# ValueError: Temperature too hot!"
   ]
  },
  {
   "cell_type": "markdown",
   "metadata": {},
   "source": [
    "# 7 Properties and Inheritance"
   ]
  },
  {
   "cell_type": "code",
   "execution_count": null,
   "metadata": {},
   "outputs": [],
   "source": [
    "import iso6346\n",
    "\n",
    "\n",
    "class ShippingContainer:\n",
    "    \n",
    "    HEIGHT_FT = 8.5\n",
    "    WIDTH_FT = 8.0\n",
    "    next_serial = 1337\n",
    "\n",
    "    @staticmethod\n",
    "    def _make_bic_code(owner_code, serial):\n",
    "        return iso6346.create(owner_code=owner_code,\n",
    "                              serial=str(serial).zfill(6))\n",
    "\n",
    "    @classmethod\n",
    "    def _get_next_serial(cls):\n",
    "        result = cls.next_serial\n",
    "        cls.next_serial += 1\n",
    "        return result\n",
    "\n",
    "    @classmethod\n",
    "    def create_empty(cls, owner_code, length_ft, *args, **kwargs):\n",
    "        return cls(owner_code, length_ft, contents=None, *args, **kwargs)\n",
    "\n",
    "    @classmethod\n",
    "    def create_with_items(cls, owner_code, length_ft, items, *args, **kwargs):\n",
    "        return cls(owner_code, length_ft, contents=items, *args, **kwargs)\n",
    "\n",
    "    def __init__(self, owner_code, length_ft, contents):\n",
    "        self.contents = contents\n",
    "        self.length_ft = length_ft\n",
    "        self.bic = self._make_bic_code(\n",
    "            owner_code=owner_code,\n",
    "            serial=ShippingContainer._get_next_serial()\n",
    "        )\n",
    "    \n",
    "    @property\n",
    "    def volume_ft3(self):\n",
    "        return ShippingContainer.HEIGHT_FT * ShippingContainer.WIDTH_FT * self.length_ft\n",
    "        \n",
    "\n",
    "class RefrigeratedShippingContainer(ShippingContainer):\n",
    "    \n",
    "    MAX_CELSIUS = 4.0\n",
    "\n",
    "    @staticmethod\n",
    "    def _make_bic_code(owner_code, serial):\n",
    "        return iso6346.create(owner_code=owner_code,\n",
    "                              serial=str(serial).zfill(6),\n",
    "                              category='R')\n",
    "    \n",
    "    @staticmethod\n",
    "    def _c_to_f(celsius):\n",
    "        return celsius * 9/5 + 32\n",
    "\n",
    "    @staticmethod\n",
    "    def _f_to_c(fahrenheit):\n",
    "        return (fahrenheit - 32) * 5/9\n",
    "    \n",
    "    def __init__(self, owner_code, length_ft,  contents, celsius):\n",
    "        super().__init__(owner_code, length_ft,  contents)\n",
    "        self.celsius = celsius\n",
    "\n",
    "    @property\n",
    "    def celsius(self):\n",
    "        return self._celsius\n",
    "\n",
    "    @celsius.setter\n",
    "    def celsius(self, value):\n",
    "        if value > RefrigeratedShippingContainer.MAX_CELSIUS:\n",
    "            raise ValueError(\"Temperature too hot!\")\n",
    "        self._celsius = value\n",
    "        \n",
    "    @property\n",
    "    def fahrenheit(self):\n",
    "        return RefrigeratedShippingContainer._c_to_f(self.celsius)\n",
    "\n",
    "    @fahrenheit.setter\n",
    "    def fahrenheit(self, value):\n",
    "        self.celsius = RefrigeratedShippingContainer._f_to_c(value)"
   ]
  }
 ],
 "metadata": {
  "kernelspec": {
   "display_name": "Python 3",
   "language": "python",
   "name": "python3"
  },
  "language_info": {
   "codemirror_mode": {
    "name": "ipython",
    "version": 3
   },
   "file_extension": ".py",
   "mimetype": "text/x-python",
   "name": "python",
   "nbconvert_exporter": "python",
   "pygments_lexer": "ipython3",
   "version": "3.7.3"
  }
 },
 "nbformat": 4,
 "nbformat_minor": 2
}
