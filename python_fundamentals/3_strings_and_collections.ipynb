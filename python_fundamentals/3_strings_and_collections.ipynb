{
 "cells": [
  {
   "cell_type": "markdown",
   "metadata": {},
   "source": [
    "# 2 strings "
   ]
  },
  {
   "cell_type": "markdown",
   "metadata": {},
   "source": [
    "### str: immutable sequences of Unicode codepoints"
   ]
  },
  {
   "cell_type": "code",
   "execution_count": 1,
   "metadata": {},
   "outputs": [
    {
     "data": {
      "text/plain": [
       "\"It's a good thing.\""
      ]
     },
     "execution_count": 1,
     "metadata": {},
     "output_type": "execute_result"
    }
   ],
   "source": [
    "\"It's a good thing.\""
   ]
  },
  {
   "cell_type": "code",
   "execution_count": 2,
   "metadata": {},
   "outputs": [
    {
     "data": {
      "text/plain": [
       "'\"Yes!\", he said, \"I agree!\"'"
      ]
     },
     "execution_count": 2,
     "metadata": {},
     "output_type": "execute_result"
    }
   ],
   "source": [
    "'\"Yes!\", he said, \"I agree!\"'"
   ]
  },
  {
   "cell_type": "markdown",
   "metadata": {},
   "source": [
    "# 4 Strings(Continued)"
   ]
  },
  {
   "cell_type": "code",
   "execution_count": 6,
   "metadata": {},
   "outputs": [
    {
     "data": {
      "text/plain": [
       "'firstsecond'"
      ]
     },
     "execution_count": 6,
     "metadata": {},
     "output_type": "execute_result"
    }
   ],
   "source": [
    "# 相邻的两个字符串会被合并\n",
    "\"first\" \"second\""
   ]
  },
  {
   "cell_type": "code",
   "execution_count": 7,
   "metadata": {},
   "outputs": [
    {
     "data": {
      "text/plain": [
       "'This is\\na multiline\\nstring'"
      ]
     },
     "execution_count": 7,
     "metadata": {},
     "output_type": "execute_result"
    }
   ],
   "source": [
    "\"\"\"This is\n",
    "a multiline\n",
    "string\"\"\""
   ]
  },
  {
   "cell_type": "code",
   "execution_count": 8,
   "metadata": {},
   "outputs": [
    {
     "data": {
      "text/plain": [
       "'so\\nis\\nthis.'"
      ]
     },
     "execution_count": 8,
     "metadata": {},
     "output_type": "execute_result"
    }
   ],
   "source": [
    "'''so\n",
    "is\n",
    "this.'''"
   ]
  },
  {
   "cell_type": "code",
   "execution_count": 9,
   "metadata": {},
   "outputs": [
    {
     "data": {
      "text/plain": [
       "'This string\\nspans multiple\\nlines.'"
      ]
     },
     "execution_count": 9,
     "metadata": {},
     "output_type": "execute_result"
    }
   ],
   "source": [
    "m = 'This string\\nspans multiple\\nlines.'\n",
    "m"
   ]
  },
  {
   "cell_type": "code",
   "execution_count": 10,
   "metadata": {},
   "outputs": [
    {
     "name": "stdout",
     "output_type": "stream",
     "text": [
      "This string\n",
      "spans multiple\n",
      "lines.\n"
     ]
    }
   ],
   "source": [
    "print(m)"
   ]
  },
  {
   "cell_type": "code",
   "execution_count": 14,
   "metadata": {},
   "outputs": [
    {
     "data": {
      "text/plain": [
       "'This is a \" in a string.'"
      ]
     },
     "execution_count": 14,
     "metadata": {},
     "output_type": "execute_result"
    }
   ],
   "source": [
    "'This is a \\\" in a string.'"
   ]
  },
  {
   "cell_type": "code",
   "execution_count": 15,
   "metadata": {},
   "outputs": [
    {
     "data": {
      "text/plain": [
       "\"This is a ' in a string.\""
      ]
     },
     "execution_count": 15,
     "metadata": {},
     "output_type": "execute_result"
    }
   ],
   "source": [
    "\"This is a \\' in a string.\""
   ]
  },
  {
   "cell_type": "code",
   "execution_count": 17,
   "metadata": {},
   "outputs": [
    {
     "data": {
      "text/plain": [
       "'This is a \" and a \\' in a string.'"
      ]
     },
     "execution_count": 17,
     "metadata": {},
     "output_type": "execute_result"
    }
   ],
   "source": [
    "'This is a \\\" and a \\' in a string.'"
   ]
  },
  {
   "cell_type": "code",
   "execution_count": 18,
   "metadata": {},
   "outputs": [
    {
     "data": {
      "text/plain": [
       "'A \\\\ in a string'"
      ]
     },
     "execution_count": 18,
     "metadata": {},
     "output_type": "execute_result"
    }
   ],
   "source": [
    "k = 'A \\\\ in a string'\n",
    "k"
   ]
  },
  {
   "cell_type": "code",
   "execution_count": 19,
   "metadata": {},
   "outputs": [
    {
     "name": "stdout",
     "output_type": "stream",
     "text": [
      "A \\ in a string\n"
     ]
    }
   ],
   "source": [
    "print(k)"
   ]
  },
  {
   "cell_type": "code",
   "execution_count": 20,
   "metadata": {},
   "outputs": [
    {
     "data": {
      "text/plain": [
       "'C:\\\\Users\\\\Merlin\\\\Documents\\\\Spells'"
      ]
     },
     "execution_count": 20,
     "metadata": {},
     "output_type": "execute_result"
    }
   ],
   "source": [
    "path = r'C:\\Users\\Merlin\\Documents\\Spells'\n",
    "path"
   ]
  },
  {
   "cell_type": "code",
   "execution_count": 21,
   "metadata": {},
   "outputs": [
    {
     "name": "stdout",
     "output_type": "stream",
     "text": [
      "C:\\Users\\Merlin\\Documents\\Spells\n"
     ]
    }
   ],
   "source": [
    "print(path)"
   ]
  },
  {
   "cell_type": "code",
   "execution_count": 22,
   "metadata": {},
   "outputs": [
    {
     "data": {
      "text/plain": [
       "'496'"
      ]
     },
     "execution_count": 22,
     "metadata": {},
     "output_type": "execute_result"
    }
   ],
   "source": [
    "str(496)"
   ]
  },
  {
   "cell_type": "code",
   "execution_count": 23,
   "metadata": {},
   "outputs": [
    {
     "data": {
      "text/plain": [
       "'6.02e+23'"
      ]
     },
     "execution_count": 23,
     "metadata": {},
     "output_type": "execute_result"
    }
   ],
   "source": [
    "str(6.02e23)"
   ]
  },
  {
   "cell_type": "code",
   "execution_count": 24,
   "metadata": {},
   "outputs": [
    {
     "data": {
      "text/plain": [
       "'o'"
      ]
     },
     "execution_count": 24,
     "metadata": {},
     "output_type": "execute_result"
    }
   ],
   "source": [
    "s = 'parrot'\n",
    "s[4]"
   ]
  },
  {
   "cell_type": "code",
   "execution_count": 25,
   "metadata": {},
   "outputs": [
    {
     "data": {
      "text/plain": [
       "str"
      ]
     },
     "execution_count": 25,
     "metadata": {},
     "output_type": "execute_result"
    }
   ],
   "source": [
    "type(s[4])"
   ]
  },
  {
   "cell_type": "code",
   "execution_count": 26,
   "metadata": {},
   "outputs": [
    {
     "data": {
      "text/plain": [
       "'Oslo'"
      ]
     },
     "execution_count": 26,
     "metadata": {},
     "output_type": "execute_result"
    }
   ],
   "source": [
    "c = 'oslo'\n",
    "c.capitalize()"
   ]
  },
  {
   "cell_type": "code",
   "execution_count": 27,
   "metadata": {},
   "outputs": [
    {
     "data": {
      "text/plain": [
       "'oslo'"
      ]
     },
     "execution_count": 27,
     "metadata": {},
     "output_type": "execute_result"
    }
   ],
   "source": [
    "c"
   ]
  },
  {
   "cell_type": "markdown",
   "metadata": {},
   "source": [
    "##### unicode characters"
   ]
  },
  {
   "cell_type": "code",
   "execution_count": 30,
   "metadata": {},
   "outputs": [
    {
     "data": {
      "text/plain": [
       "'å'"
      ]
     },
     "execution_count": 30,
     "metadata": {},
     "output_type": "execute_result"
    }
   ],
   "source": [
    "'\\u00e5'"
   ]
  },
  {
   "cell_type": "code",
   "execution_count": 31,
   "metadata": {},
   "outputs": [
    {
     "data": {
      "text/plain": [
       "'å'"
      ]
     },
     "execution_count": 31,
     "metadata": {},
     "output_type": "execute_result"
    }
   ],
   "source": [
    "'\\xe5'"
   ]
  },
  {
   "cell_type": "code",
   "execution_count": 32,
   "metadata": {},
   "outputs": [
    {
     "data": {
      "text/plain": [
       "'å'"
      ]
     },
     "execution_count": 32,
     "metadata": {},
     "output_type": "execute_result"
    }
   ],
   "source": [
    "'\\345'"
   ]
  },
  {
   "cell_type": "markdown",
   "metadata": {},
   "source": [
    "# 5 bytes: immutable sequences of bytes"
   ]
  },
  {
   "cell_type": "code",
   "execution_count": 33,
   "metadata": {},
   "outputs": [
    {
     "data": {
      "text/plain": [
       "[b'some', b'bytes']"
      ]
     },
     "execution_count": 33,
     "metadata": {},
     "output_type": "execute_result"
    }
   ],
   "source": [
    "d = b'some bytes'\n",
    "d.split()"
   ]
  },
  {
   "cell_type": "code",
   "execution_count": 34,
   "metadata": {},
   "outputs": [
    {
     "data": {
      "text/plain": [
       "b'Hello world! \\xe4\\xbd\\xa0\\xe5\\xa5\\xbd\\xef\\xbc\\x8c\\xe4\\xb8\\x96\\xe7\\x95\\x8c\\xef\\xbc\\x81'"
      ]
     },
     "execution_count": 34,
     "metadata": {},
     "output_type": "execute_result"
    }
   ],
   "source": [
    "norsk = \"Hello world! 你好，世界！\"\n",
    "data = norsk.encode(\"utf-8\")\n",
    "data"
   ]
  },
  {
   "cell_type": "code",
   "execution_count": 35,
   "metadata": {},
   "outputs": [
    {
     "data": {
      "text/plain": [
       "True"
      ]
     },
     "execution_count": 35,
     "metadata": {},
     "output_type": "execute_result"
    }
   ],
   "source": [
    "norwegian = data.decode('utf-8')\n",
    "norwegian == norsk"
   ]
  },
  {
   "cell_type": "code",
   "execution_count": 36,
   "metadata": {},
   "outputs": [
    {
     "data": {
      "text/plain": [
       "'Hello world! 你好，世界！'"
      ]
     },
     "execution_count": 36,
     "metadata": {},
     "output_type": "execute_result"
    }
   ],
   "source": [
    "norwegian"
   ]
  },
  {
   "cell_type": "markdown",
   "metadata": {},
   "source": [
    "# 6 list: mutable sequences of objects"
   ]
  },
  {
   "cell_type": "code",
   "execution_count": 37,
   "metadata": {},
   "outputs": [
    {
     "data": {
      "text/plain": [
       "[1, 9, 8]"
      ]
     },
     "execution_count": 37,
     "metadata": {},
     "output_type": "execute_result"
    }
   ],
   "source": [
    "[1, 9, 8]"
   ]
  },
  {
   "cell_type": "code",
   "execution_count": 38,
   "metadata": {},
   "outputs": [
    {
     "data": {
      "text/plain": [
       "'orange'"
      ]
     },
     "execution_count": 38,
     "metadata": {},
     "output_type": "execute_result"
    }
   ],
   "source": [
    "a = [\"apple\", \"orange\", \"pear\"]\n",
    "a[1]"
   ]
  },
  {
   "cell_type": "code",
   "execution_count": 39,
   "metadata": {},
   "outputs": [
    {
     "data": {
      "text/plain": [
       "['apple', 7, 'pear']"
      ]
     },
     "execution_count": 39,
     "metadata": {},
     "output_type": "execute_result"
    }
   ],
   "source": [
    "a[1] = 7\n",
    "a"
   ]
  },
  {
   "cell_type": "code",
   "execution_count": 42,
   "metadata": {},
   "outputs": [
    {
     "data": {
      "text/plain": [
       "[]"
      ]
     },
     "execution_count": 42,
     "metadata": {},
     "output_type": "execute_result"
    }
   ],
   "source": [
    "b = []\n",
    "b"
   ]
  },
  {
   "cell_type": "code",
   "execution_count": 43,
   "metadata": {},
   "outputs": [
    {
     "data": {
      "text/plain": [
       "[1.618]"
      ]
     },
     "execution_count": 43,
     "metadata": {},
     "output_type": "execute_result"
    }
   ],
   "source": [
    "b.append(1.618)\n",
    "b"
   ]
  },
  {
   "cell_type": "code",
   "execution_count": 44,
   "metadata": {},
   "outputs": [
    {
     "data": {
      "text/plain": [
       "[1.618, 1.414]"
      ]
     },
     "execution_count": 44,
     "metadata": {},
     "output_type": "execute_result"
    }
   ],
   "source": [
    "b.append(1.414)\n",
    "b"
   ]
  },
  {
   "cell_type": "code",
   "execution_count": 45,
   "metadata": {},
   "outputs": [
    {
     "data": {
      "text/plain": [
       "['c', 'h', 'a', 'r', 'a', 'c', 't', 'e', 'r', 's']"
      ]
     },
     "execution_count": 45,
     "metadata": {},
     "output_type": "execute_result"
    }
   ],
   "source": [
    "list(\"characters\")"
   ]
  },
  {
   "cell_type": "code",
   "execution_count": 47,
   "metadata": {},
   "outputs": [
    {
     "data": {
      "text/plain": [
       "['bear', 'giraffe', 'elephant', 'caterpillar']"
      ]
     },
     "execution_count": 47,
     "metadata": {},
     "output_type": "execute_result"
    }
   ],
   "source": [
    "c = ['bear',\n",
    "     'giraffe',\n",
    "     'elephant',\n",
    "     'caterpillar',]\n",
    "c"
   ]
  },
  {
   "cell_type": "markdown",
   "metadata": {},
   "source": [
    "# 7 dict: mutable mappings of keys to values"
   ]
  },
  {
   "cell_type": "code",
   "execution_count": 48,
   "metadata": {},
   "outputs": [
    {
     "data": {
      "text/plain": [
       "'878-8728-922'"
      ]
     },
     "execution_count": 48,
     "metadata": {},
     "output_type": "execute_result"
    }
   ],
   "source": [
    "d = {'alice': '878-8728-922', 'bob': '256-5262-124', 'eve': '198-2321-787'}\n",
    "d['alice']"
   ]
  },
  {
   "cell_type": "code",
   "execution_count": 49,
   "metadata": {},
   "outputs": [
    {
     "data": {
      "text/plain": [
       "{'alice': '878-8728-922', 'bob': '256-5262-124', 'eve': '198-2321-787'}"
      ]
     },
     "execution_count": 49,
     "metadata": {},
     "output_type": "execute_result"
    }
   ],
   "source": [
    "d"
   ]
  },
  {
   "cell_type": "code",
   "execution_count": 50,
   "metadata": {},
   "outputs": [
    {
     "data": {
      "text/plain": [
       "{'alice': '878-8728-922',\n",
       " 'bob': '256-5262-124',\n",
       " 'eve': '198-2321-787',\n",
       " 'charles': '334-5551-913'}"
      ]
     },
     "execution_count": 50,
     "metadata": {},
     "output_type": "execute_result"
    }
   ],
   "source": [
    "d['charles'] = '334-5551-913'\n",
    "d"
   ]
  },
  {
   "cell_type": "code",
   "execution_count": 51,
   "metadata": {},
   "outputs": [
    {
     "data": {
      "text/plain": [
       "{}"
      ]
     },
     "execution_count": 51,
     "metadata": {},
     "output_type": "execute_result"
    }
   ],
   "source": [
    "e = {}\n",
    "e"
   ]
  },
  {
   "cell_type": "markdown",
   "metadata": {},
   "source": [
    "# 8 for-loop: visit each item in an iterable series"
   ]
  },
  {
   "cell_type": "code",
   "execution_count": 52,
   "metadata": {},
   "outputs": [],
   "source": [
    "cities = [\"London\", \"New Youk\", \"Paris\", \"Oslo\", \"Helsinki\"]"
   ]
  },
  {
   "cell_type": "code",
   "execution_count": 53,
   "metadata": {},
   "outputs": [
    {
     "name": "stdout",
     "output_type": "stream",
     "text": [
      "London\n",
      "New Youk\n",
      "Paris\n",
      "Oslo\n",
      "Helsinki\n"
     ]
    }
   ],
   "source": [
    "for city in cities:\n",
    "    print(city)"
   ]
  },
  {
   "cell_type": "code",
   "execution_count": 54,
   "metadata": {},
   "outputs": [],
   "source": [
    "colors = {'crimson': 0xdc143c, 'coral': 0xff7f50, 'teal':0x008080}"
   ]
  },
  {
   "cell_type": "code",
   "execution_count": 55,
   "metadata": {},
   "outputs": [
    {
     "name": "stdout",
     "output_type": "stream",
     "text": [
      "crimson 14423100\n",
      "coral 16744272\n",
      "teal 32896\n"
     ]
    }
   ],
   "source": [
    "for color in colors:\n",
    "    print(color, colors[color])"
   ]
  },
  {
   "cell_type": "markdown",
   "metadata": {},
   "source": [
    "# 9 Putting it All Together"
   ]
  },
  {
   "cell_type": "code",
   "execution_count": 56,
   "metadata": {},
   "outputs": [],
   "source": [
    "from urllib.request import urlopen"
   ]
  },
  {
   "cell_type": "code",
   "execution_count": 59,
   "metadata": {},
   "outputs": [
    {
     "name": "stdout",
     "output_type": "stream",
     "text": [
      "story ==>  <http.client.HTTPResponse object at 0x000001933C107B70>\n",
      "-----------------------------\n",
      "line ==>  b'It was the best of times\\n'\n",
      "line ==>  b'it was the worst of times\\n'\n",
      "line ==>  b'it was the age of wisdom\\n'\n",
      "line ==>  b'it was the age of foolishness\\n'\n",
      "line ==>  b'it was the epoch of belief\\n'\n",
      "line ==>  b'it was the epoch of incredulity\\n'\n",
      "line ==>  b'it was the season of Light\\n'\n",
      "line ==>  b'it was the season of Darkness\\n'\n",
      "line ==>  b'it was the spring of hope\\n'\n",
      "line ==>  b'it was the winter of despair\\n'\n",
      "line ==>  b'we had everything before us\\n'\n",
      "line ==>  b'we had nothing before us\\n'\n",
      "line ==>  b'we were all going direct to Heaven\\n'\n",
      "line ==>  b'we were all going direct the other way\\n'\n",
      "line ==>  b'in short the period was so far like the present period that some of\\n'\n",
      "line ==>  b'its noisiest authorities insisted on its being received for good or for\\n'\n",
      "line ==>  b'evil in the superlative degree of comparison only'\n"
     ]
    }
   ],
   "source": [
    "with urlopen('http://sixty-north.com/c/t.txt') as story:\n",
    "    print('story ==> ', story)\n",
    "    print('-----------------------------')\n",
    "    story_words = []\n",
    "    for line in story:\n",
    "        print('line ==> ', line)\n",
    "        line_words = line.split()\n",
    "        for word in line_words:\n",
    "            story_words.append(word)"
   ]
  },
  {
   "cell_type": "code",
   "execution_count": 60,
   "metadata": {},
   "outputs": [
    {
     "data": {
      "text/plain": [
       "[b'It',\n",
       " b'was',\n",
       " b'the',\n",
       " b'best',\n",
       " b'of',\n",
       " b'times',\n",
       " b'it',\n",
       " b'was',\n",
       " b'the',\n",
       " b'worst',\n",
       " b'of',\n",
       " b'times',\n",
       " b'it',\n",
       " b'was',\n",
       " b'the',\n",
       " b'age',\n",
       " b'of',\n",
       " b'wisdom',\n",
       " b'it',\n",
       " b'was',\n",
       " b'the',\n",
       " b'age',\n",
       " b'of',\n",
       " b'foolishness',\n",
       " b'it',\n",
       " b'was',\n",
       " b'the',\n",
       " b'epoch',\n",
       " b'of',\n",
       " b'belief',\n",
       " b'it',\n",
       " b'was',\n",
       " b'the',\n",
       " b'epoch',\n",
       " b'of',\n",
       " b'incredulity',\n",
       " b'it',\n",
       " b'was',\n",
       " b'the',\n",
       " b'season',\n",
       " b'of',\n",
       " b'Light',\n",
       " b'it',\n",
       " b'was',\n",
       " b'the',\n",
       " b'season',\n",
       " b'of',\n",
       " b'Darkness',\n",
       " b'it',\n",
       " b'was',\n",
       " b'the',\n",
       " b'spring',\n",
       " b'of',\n",
       " b'hope',\n",
       " b'it',\n",
       " b'was',\n",
       " b'the',\n",
       " b'winter',\n",
       " b'of',\n",
       " b'despair',\n",
       " b'we',\n",
       " b'had',\n",
       " b'everything',\n",
       " b'before',\n",
       " b'us',\n",
       " b'we',\n",
       " b'had',\n",
       " b'nothing',\n",
       " b'before',\n",
       " b'us',\n",
       " b'we',\n",
       " b'were',\n",
       " b'all',\n",
       " b'going',\n",
       " b'direct',\n",
       " b'to',\n",
       " b'Heaven',\n",
       " b'we',\n",
       " b'were',\n",
       " b'all',\n",
       " b'going',\n",
       " b'direct',\n",
       " b'the',\n",
       " b'other',\n",
       " b'way',\n",
       " b'in',\n",
       " b'short',\n",
       " b'the',\n",
       " b'period',\n",
       " b'was',\n",
       " b'so',\n",
       " b'far',\n",
       " b'like',\n",
       " b'the',\n",
       " b'present',\n",
       " b'period',\n",
       " b'that',\n",
       " b'some',\n",
       " b'of',\n",
       " b'its',\n",
       " b'noisiest',\n",
       " b'authorities',\n",
       " b'insisted',\n",
       " b'on',\n",
       " b'its',\n",
       " b'being',\n",
       " b'received',\n",
       " b'for',\n",
       " b'good',\n",
       " b'or',\n",
       " b'for',\n",
       " b'evil',\n",
       " b'in',\n",
       " b'the',\n",
       " b'superlative',\n",
       " b'degree',\n",
       " b'of',\n",
       " b'comparison',\n",
       " b'only']"
      ]
     },
     "execution_count": 60,
     "metadata": {},
     "output_type": "execute_result"
    }
   ],
   "source": [
    "story_words"
   ]
  },
  {
   "cell_type": "code",
   "execution_count": 62,
   "metadata": {},
   "outputs": [
    {
     "name": "stdout",
     "output_type": "stream",
     "text": [
      "line_words ==>  ['It', 'was', 'the', 'best', 'of', 'times']\n",
      "line_words ==>  ['it', 'was', 'the', 'worst', 'of', 'times']\n",
      "line_words ==>  ['it', 'was', 'the', 'age', 'of', 'wisdom']\n",
      "line_words ==>  ['it', 'was', 'the', 'age', 'of', 'foolishness']\n",
      "line_words ==>  ['it', 'was', 'the', 'epoch', 'of', 'belief']\n",
      "line_words ==>  ['it', 'was', 'the', 'epoch', 'of', 'incredulity']\n",
      "line_words ==>  ['it', 'was', 'the', 'season', 'of', 'Light']\n",
      "line_words ==>  ['it', 'was', 'the', 'season', 'of', 'Darkness']\n",
      "line_words ==>  ['it', 'was', 'the', 'spring', 'of', 'hope']\n",
      "line_words ==>  ['it', 'was', 'the', 'winter', 'of', 'despair']\n",
      "line_words ==>  ['we', 'had', 'everything', 'before', 'us']\n",
      "line_words ==>  ['we', 'had', 'nothing', 'before', 'us']\n",
      "line_words ==>  ['we', 'were', 'all', 'going', 'direct', 'to', 'Heaven']\n",
      "line_words ==>  ['we', 'were', 'all', 'going', 'direct', 'the', 'other', 'way']\n",
      "line_words ==>  ['in', 'short', 'the', 'period', 'was', 'so', 'far', 'like', 'the', 'present', 'period', 'that', 'some', 'of']\n",
      "line_words ==>  ['its', 'noisiest', 'authorities', 'insisted', 'on', 'its', 'being', 'received', 'for', 'good', 'or', 'for']\n",
      "line_words ==>  ['evil', 'in', 'the', 'superlative', 'degree', 'of', 'comparison', 'only']\n"
     ]
    }
   ],
   "source": [
    "with urlopen('http://sixty-north.com/c/t.txt') as story:\n",
    "    story_words = []\n",
    "    for line in story:\n",
    "        line_words = line.decode('utf-8').split()\n",
    "        print('line_words ==> ', line_words)\n",
    "        for word in line_words:\n",
    "            story_words.append(word)"
   ]
  },
  {
   "cell_type": "code",
   "execution_count": 63,
   "metadata": {},
   "outputs": [
    {
     "data": {
      "text/plain": [
       "['It',\n",
       " 'was',\n",
       " 'the',\n",
       " 'best',\n",
       " 'of',\n",
       " 'times',\n",
       " 'it',\n",
       " 'was',\n",
       " 'the',\n",
       " 'worst',\n",
       " 'of',\n",
       " 'times',\n",
       " 'it',\n",
       " 'was',\n",
       " 'the',\n",
       " 'age',\n",
       " 'of',\n",
       " 'wisdom',\n",
       " 'it',\n",
       " 'was',\n",
       " 'the',\n",
       " 'age',\n",
       " 'of',\n",
       " 'foolishness',\n",
       " 'it',\n",
       " 'was',\n",
       " 'the',\n",
       " 'epoch',\n",
       " 'of',\n",
       " 'belief',\n",
       " 'it',\n",
       " 'was',\n",
       " 'the',\n",
       " 'epoch',\n",
       " 'of',\n",
       " 'incredulity',\n",
       " 'it',\n",
       " 'was',\n",
       " 'the',\n",
       " 'season',\n",
       " 'of',\n",
       " 'Light',\n",
       " 'it',\n",
       " 'was',\n",
       " 'the',\n",
       " 'season',\n",
       " 'of',\n",
       " 'Darkness',\n",
       " 'it',\n",
       " 'was',\n",
       " 'the',\n",
       " 'spring',\n",
       " 'of',\n",
       " 'hope',\n",
       " 'it',\n",
       " 'was',\n",
       " 'the',\n",
       " 'winter',\n",
       " 'of',\n",
       " 'despair',\n",
       " 'we',\n",
       " 'had',\n",
       " 'everything',\n",
       " 'before',\n",
       " 'us',\n",
       " 'we',\n",
       " 'had',\n",
       " 'nothing',\n",
       " 'before',\n",
       " 'us',\n",
       " 'we',\n",
       " 'were',\n",
       " 'all',\n",
       " 'going',\n",
       " 'direct',\n",
       " 'to',\n",
       " 'Heaven',\n",
       " 'we',\n",
       " 'were',\n",
       " 'all',\n",
       " 'going',\n",
       " 'direct',\n",
       " 'the',\n",
       " 'other',\n",
       " 'way',\n",
       " 'in',\n",
       " 'short',\n",
       " 'the',\n",
       " 'period',\n",
       " 'was',\n",
       " 'so',\n",
       " 'far',\n",
       " 'like',\n",
       " 'the',\n",
       " 'present',\n",
       " 'period',\n",
       " 'that',\n",
       " 'some',\n",
       " 'of',\n",
       " 'its',\n",
       " 'noisiest',\n",
       " 'authorities',\n",
       " 'insisted',\n",
       " 'on',\n",
       " 'its',\n",
       " 'being',\n",
       " 'received',\n",
       " 'for',\n",
       " 'good',\n",
       " 'or',\n",
       " 'for',\n",
       " 'evil',\n",
       " 'in',\n",
       " 'the',\n",
       " 'superlative',\n",
       " 'degree',\n",
       " 'of',\n",
       " 'comparison',\n",
       " 'only']"
      ]
     },
     "execution_count": 63,
     "metadata": {},
     "output_type": "execute_result"
    }
   ],
   "source": [
    "story_words"
   ]
  },
  {
   "cell_type": "code",
   "execution_count": null,
   "metadata": {},
   "outputs": [],
   "source": []
  }
 ],
 "metadata": {
  "kernelspec": {
   "display_name": "python_basics",
   "language": "python",
   "name": "python_basics"
  },
  "language_info": {
   "codemirror_mode": {
    "name": "ipython",
    "version": 3
   },
   "file_extension": ".py",
   "mimetype": "text/x-python",
   "name": "python",
   "nbconvert_exporter": "python",
   "pygments_lexer": "ipython3",
   "version": "3.6.7"
  }
 },
 "nbformat": 4,
 "nbformat_minor": 2
}
