{
 "cells": [
  {
   "cell_type": "markdown",
   "metadata": {},
   "source": [
    "# 1 Introduction"
   ]
  },
  {
   "cell_type": "code",
   "execution_count": 1,
   "metadata": {},
   "outputs": [
    {
     "data": {
      "text/plain": [
       "int"
      ]
     },
     "execution_count": 1,
     "metadata": {},
     "output_type": "execute_result"
    }
   ],
   "source": [
    "type(5)"
   ]
  },
  {
   "cell_type": "code",
   "execution_count": 2,
   "metadata": {},
   "outputs": [
    {
     "data": {
      "text/plain": [
       "str"
      ]
     },
     "execution_count": 2,
     "metadata": {},
     "output_type": "execute_result"
    }
   ],
   "source": [
    "type('python')"
   ]
  },
  {
   "cell_type": "code",
   "execution_count": 3,
   "metadata": {},
   "outputs": [
    {
     "data": {
      "text/plain": [
       "list"
      ]
     },
     "execution_count": 3,
     "metadata": {},
     "output_type": "execute_result"
    }
   ],
   "source": [
    "type([1, 2, 3])"
   ]
  },
  {
   "cell_type": "code",
   "execution_count": 4,
   "metadata": {},
   "outputs": [
    {
     "data": {
      "text/plain": [
       "generator"
      ]
     },
     "execution_count": 4,
     "metadata": {},
     "output_type": "execute_result"
    }
   ],
   "source": [
    "type(x*x for x in [2, 4, 6])"
   ]
  },
  {
   "cell_type": "markdown",
   "metadata": {},
   "source": [
    "# 2 Defining Classes"
   ]
  },
  {
   "cell_type": "code",
   "execution_count": 5,
   "metadata": {},
   "outputs": [],
   "source": [
    "class Flight:\n",
    "    pass"
   ]
  },
  {
   "cell_type": "code",
   "execution_count": 6,
   "metadata": {},
   "outputs": [
    {
     "data": {
      "text/plain": [
       "type"
      ]
     },
     "execution_count": 6,
     "metadata": {},
     "output_type": "execute_result"
    }
   ],
   "source": [
    "type(Flight)"
   ]
  },
  {
   "cell_type": "code",
   "execution_count": 7,
   "metadata": {},
   "outputs": [
    {
     "data": {
      "text/plain": [
       "__main__.Flight"
      ]
     },
     "execution_count": 7,
     "metadata": {},
     "output_type": "execute_result"
    }
   ],
   "source": [
    "f = Flight()\n",
    "type(f)"
   ]
  },
  {
   "cell_type": "markdown",
   "metadata": {},
   "source": [
    "# 3 Instance Methods"
   ]
  },
  {
   "cell_type": "code",
   "execution_count": 8,
   "metadata": {},
   "outputs": [],
   "source": [
    "class Flight:\n",
    "    \n",
    "    def number(self):\n",
    "        return 'SN060'"
   ]
  },
  {
   "cell_type": "code",
   "execution_count": 9,
   "metadata": {},
   "outputs": [
    {
     "data": {
      "text/plain": [
       "'SN060'"
      ]
     },
     "execution_count": 9,
     "metadata": {},
     "output_type": "execute_result"
    }
   ],
   "source": [
    "f = Flight()\n",
    "f.number()"
   ]
  },
  {
   "cell_type": "code",
   "execution_count": 11,
   "metadata": {},
   "outputs": [
    {
     "data": {
      "text/plain": [
       "'SN060'"
      ]
     },
     "execution_count": 11,
     "metadata": {},
     "output_type": "execute_result"
    }
   ],
   "source": [
    "Flight.number(f)"
   ]
  },
  {
   "cell_type": "markdown",
   "metadata": {},
   "source": [
    "# 4 Initializers"
   ]
  },
  {
   "cell_type": "code",
   "execution_count": 13,
   "metadata": {},
   "outputs": [],
   "source": [
    "class Flight:\n",
    "\n",
    "    def __init__(self, number):\n",
    "        self._number = number\n",
    "\n",
    "    def number(self):\n",
    "        return self._number\n"
   ]
  },
  {
   "cell_type": "code",
   "execution_count": 14,
   "metadata": {},
   "outputs": [
    {
     "data": {
      "text/plain": [
       "'SN060'"
      ]
     },
     "execution_count": 14,
     "metadata": {},
     "output_type": "execute_result"
    }
   ],
   "source": [
    "f = Flight('SN060')\n",
    "f.number()"
   ]
  },
  {
   "cell_type": "code",
   "execution_count": 15,
   "metadata": {},
   "outputs": [],
   "source": [
    "class Flight:\n",
    "\n",
    "    def __init__(self, number):\n",
    "        if not number[:2].isalpha():\n",
    "            raise ValueError(\"No airline code in '{}'\".format(number))\n",
    "        if not number[:2].isupper():\n",
    "            raise ValueError(\"Invalid airline code '{}'\".format(number))\n",
    "        if not(number[2:].isdigit() and int(number[2:]) <= 9999):\n",
    "            raise ValueError(\"Invalid route number '{}'\".format(number))\n",
    "\n",
    "        self._number = number\n",
    "\n",
    "    def number(self):\n",
    "        return self._number\n"
   ]
  },
  {
   "cell_type": "code",
   "execution_count": 16,
   "metadata": {},
   "outputs": [],
   "source": [
    "f = Flight('SN060')"
   ]
  },
  {
   "cell_type": "code",
   "execution_count": 18,
   "metadata": {},
   "outputs": [],
   "source": [
    "# f = Flight('060')\n",
    "\n",
    "# ---------------------------------------------------------------------------\n",
    "# ValueError                                Traceback (most recent call last)\n",
    "# <ipython-input-17-9fef756cc5d7> in <module>\n",
    "# ----> 1 f = Flight('060')\n",
    "\n",
    "# <ipython-input-15-f74e88fcad91> in __init__(self, number)\n",
    "#       3     def __init__(self, number):\n",
    "#       4         if not number[:2].isalpha():\n",
    "# ----> 5             raise ValueError(\"No airline code in '{}'\".format(number))\n",
    "#       6         if not number[:2].isupper():\n",
    "#       7             raise ValueError(\"Invalid airline code '{}'\".format(number))\n",
    "\n",
    "# ValueError: No airline code in '060'"
   ]
  },
  {
   "cell_type": "code",
   "execution_count": 20,
   "metadata": {},
   "outputs": [],
   "source": [
    "# f = Flight('sn060')\n",
    "\n",
    "# ---------------------------------------------------------------------------\n",
    "# ValueError                                Traceback (most recent call last)\n",
    "# <ipython-input-19-55dda73bbcdb> in <module>\n",
    "# ----> 1 f = Flight('sn060')\n",
    "\n",
    "# <ipython-input-15-f74e88fcad91> in __init__(self, number)\n",
    "#       5             raise ValueError(\"No airline code in '{}'\".format(number))\n",
    "#       6         if not number[:2].isupper():\n",
    "# ----> 7             raise ValueError(\"Invalid airline code '{}'\".format(number))\n",
    "#       8         if not(number[2:].isdigit() and int(number[2:]) <= 9999):\n",
    "#       9             raise ValueError(\"Invalid route number '{}'\".format(number))\n",
    "\n",
    "# ValueError: Invalid airline code 'sn060'"
   ]
  },
  {
   "cell_type": "code",
   "execution_count": 22,
   "metadata": {},
   "outputs": [],
   "source": [
    "# f = Flight('SNabcd')\n",
    "\n",
    "# ---------------------------------------------------------------------------\n",
    "# ValueError                                Traceback (most recent call last)\n",
    "# <ipython-input-21-73e061a8f196> in <module>\n",
    "# ----> 1 f = Flight('SNabcd')\n",
    "\n",
    "# <ipython-input-15-f74e88fcad91> in __init__(self, number)\n",
    "#       7             raise ValueError(\"Invalid airline code '{}'\".format(number))\n",
    "#       8         if not(number[2:].isdigit() and int(number[2:]) <= 9999):\n",
    "# ----> 9             raise ValueError(\"Invalid route number '{}'\".format(number))\n",
    "#      10 \n",
    "#      11         self._number = number\n",
    "\n",
    "# ValueError: Invalid route number 'SNabcd'"
   ]
  },
  {
   "cell_type": "code",
   "execution_count": 24,
   "metadata": {},
   "outputs": [],
   "source": [
    "# f = Flight('SN12345')\n",
    "\n",
    "# ---------------------------------------------------------------------------\n",
    "# ValueError                                Traceback (most recent call last)\n",
    "# <ipython-input-23-71ed18cb959f> in <module>\n",
    "# ----> 1 f = Flight('SN12345')\n",
    "\n",
    "# <ipython-input-15-f74e88fcad91> in __init__(self, number)\n",
    "#       7             raise ValueError(\"Invalid airline code '{}'\".format(number))\n",
    "#       8         if not(number[2:].isdigit() and int(number[2:]) <= 9999):\n",
    "# ----> 9             raise ValueError(\"Invalid route number '{}'\".format(number))\n",
    "#      10 \n",
    "#      11         self._number = number\n",
    "\n",
    "# ValueError: Invalid route number 'SN12345'"
   ]
  },
  {
   "cell_type": "markdown",
   "metadata": {},
   "source": [
    "# 5 A Second Class"
   ]
  },
  {
   "cell_type": "code",
   "execution_count": 25,
   "metadata": {},
   "outputs": [],
   "source": [
    "class Flight:\n",
    "\n",
    "    def __init__(self, number):\n",
    "        if not number[:2].isalpha():\n",
    "            raise ValueError(\"No airline code in '{}'\".format(number))\n",
    "        if not number[:2].isupper():\n",
    "            raise ValueError(\"Invalid airline code '{}'\".format(number))\n",
    "        if not(number[2:].isdigit() and int(number[2:]) <= 9999):\n",
    "            raise ValueError(\"Invalid route number '{}'\".format(number))\n",
    "\n",
    "        self._number = number\n",
    "\n",
    "    def number(self):\n",
    "        return self._number\n",
    "\n",
    "    def airline(self):\n",
    "        return self._number[:2]\n"
   ]
  },
  {
   "cell_type": "code",
   "execution_count": 27,
   "metadata": {},
   "outputs": [],
   "source": [
    "class Aircraft:\n",
    "\n",
    "    def __init__(self, registration, model, num_rows, num_seats_per_row):\n",
    "        self._registration = registration\n",
    "        self._model = model\n",
    "        self._num_rows = num_rows\n",
    "        self._num_seats_per_row = num_seats_per_row\n",
    "\n",
    "    def registration(self):\n",
    "        return self._registration\n",
    "\n",
    "    def model(self):\n",
    "        return self._model\n",
    "\n",
    "    def seating_plan(self):\n",
    "        return range(1, self._num_rows + 1), 'ABCDEFGHJK'[:self._num_seats_per_row]\n"
   ]
  },
  {
   "cell_type": "code",
   "execution_count": 28,
   "metadata": {},
   "outputs": [],
   "source": [
    "a = Aircraft(\"G-EUPT\", \"Airbus A319\", num_rows=22, num_seats_per_row=6)"
   ]
  },
  {
   "cell_type": "code",
   "execution_count": 29,
   "metadata": {},
   "outputs": [
    {
     "data": {
      "text/plain": [
       "'G-EUPT'"
      ]
     },
     "execution_count": 29,
     "metadata": {},
     "output_type": "execute_result"
    }
   ],
   "source": [
    "a.registration()"
   ]
  },
  {
   "cell_type": "code",
   "execution_count": 30,
   "metadata": {},
   "outputs": [
    {
     "data": {
      "text/plain": [
       "'Airbus A319'"
      ]
     },
     "execution_count": 30,
     "metadata": {},
     "output_type": "execute_result"
    }
   ],
   "source": [
    "a.model()"
   ]
  },
  {
   "cell_type": "code",
   "execution_count": 31,
   "metadata": {},
   "outputs": [
    {
     "data": {
      "text/plain": [
       "(range(1, 23), 'ABCDEF')"
      ]
     },
     "execution_count": 31,
     "metadata": {},
     "output_type": "execute_result"
    }
   ],
   "source": [
    "a.seating_plan()"
   ]
  },
  {
   "cell_type": "markdown",
   "metadata": {},
   "source": [
    "# 6 Collaborating Classes"
   ]
  },
  {
   "cell_type": "code",
   "execution_count": 32,
   "metadata": {},
   "outputs": [],
   "source": [
    "class Flight:\n",
    "    \"\"\"A flight with a particular passenger aircraft\"\"\"\n",
    "    def __init__(self, number, aircraft):\n",
    "        if not number[:2].isalpha():\n",
    "            raise ValueError(\"No airline code in '{}'\".format(number))\n",
    "        if not number[:2].isupper():\n",
    "            raise ValueError(\"Invalid airline code '{}'\".format(number))\n",
    "        if not(number[2:].isdigit() and int(number[2:]) <= 9999):\n",
    "            raise ValueError(\"Invalid route number '{}'\".format(number))\n",
    "\n",
    "        self._number = number\n",
    "        self._aircraft = aircraft\n",
    "\n",
    "    def number(self):\n",
    "        return self._number\n",
    "\n",
    "    def airline(self):\n",
    "        return self._number[:2]\n",
    "\n",
    "    def aircraft_model(self):\n",
    "        return self._aircraft.model()"
   ]
  },
  {
   "cell_type": "code",
   "execution_count": 33,
   "metadata": {},
   "outputs": [
    {
     "data": {
      "text/plain": [
       "'Airbus A319'"
      ]
     },
     "execution_count": 33,
     "metadata": {},
     "output_type": "execute_result"
    }
   ],
   "source": [
    "f = Flight('BA758', Aircraft(\"G-EUPT\", \"Airbus A319\", num_rows=22, num_seats_per_row=6))\n",
    "f.aircraft_model()"
   ]
  },
  {
   "cell_type": "markdown",
   "metadata": {},
   "source": [
    "# 8 Example Booking Seats"
   ]
  },
  {
   "cell_type": "code",
   "execution_count": 40,
   "metadata": {},
   "outputs": [],
   "source": [
    "class Flight:\n",
    "    \"\"\"A flight with a particular passenger aircraft\"\"\"\n",
    "\n",
    "    def __init__(self, number, aircraft):\n",
    "        if not number[:2].isalpha():\n",
    "            raise ValueError(\"No airline code in '{}'\".format(number))\n",
    "        if not number[:2].isupper():\n",
    "            raise ValueError(\"Invalid airline code '{}'\".format(number))\n",
    "        if not (number[2:].isdigit() and int(number[2:]) <= 9999):\n",
    "            raise ValueError(\"Invalid route number '{}'\".format(number))\n",
    "\n",
    "        self._number = number\n",
    "        self._aircraft = aircraft\n",
    "\n",
    "        rows, seats = self._aircraft.seating_plan()\n",
    "        self._seating = [None] + [{letter: None for letter in seats} for _ in rows]\n",
    "\n",
    "    def number(self):\n",
    "        return self._number\n",
    "\n",
    "    def airline(self):\n",
    "        return self._number[:2]\n",
    "\n",
    "    def aircraft_model(self):\n",
    "        return self._aircraft.model()\n",
    "\n",
    "    def allocate_seat(self, seat, passenger):\n",
    "        \"\"\"Allocate a seat to a passenger.\n",
    "\n",
    "        Args:\n",
    "            seat: A seat designator such as '12C' or '21F'.\n",
    "            passenger: The passenger name.\n",
    "\n",
    "        Raises:\n",
    "            ValueError: If the seat is unavailable.\n",
    "        \"\"\"\n",
    "\n",
    "        rows, seat_letters = self._aircraft.seating_plan()\n",
    "        letter = seat[-1]\n",
    "        if letter not in seat_letters:\n",
    "            raise ValueError(\"Invalid seat letter {}\".format(letter))\n",
    "\n",
    "        row_text = seat[:-1]\n",
    "        try:\n",
    "            row = int(row_text)\n",
    "        except ValueError:\n",
    "            raise ValueError(\"Invalid seat row {}\".format(row_text))\n",
    "\n",
    "        if row not in rows:\n",
    "            raise ValueError(\"Invalid row number {}\".format(row))\n",
    "\n",
    "        if self._seating[row][letter] is not None:\n",
    "            raise ValueError(\"Seat {} already occupied\".format(row))\n",
    "\n",
    "        self._seating[row][letter] = passenger"
   ]
  },
  {
   "cell_type": "code",
   "execution_count": 41,
   "metadata": {},
   "outputs": [],
   "source": [
    "f = Flight('BA758', Aircraft(\"G-EUPT\", \"Airbus A319\", num_rows=22, num_seats_per_row=6))"
   ]
  },
  {
   "cell_type": "code",
   "execution_count": 42,
   "metadata": {},
   "outputs": [],
   "source": [
    "f.allocate_seat('12A', \"Guido van Rossum\")"
   ]
  },
  {
   "cell_type": "code",
   "execution_count": 45,
   "metadata": {},
   "outputs": [],
   "source": [
    "# f.allocate_seat('12A', \"Rasmum Lerdorf\")\n",
    "\n",
    "# ---------------------------------------------------------------------------\n",
    "# ValueError                                Traceback (most recent call last)\n",
    "# <ipython-input-43-fe87582baab7> in <module>\n",
    "# ----> 1 f.allocate_seat('12A', \"Rasmum Lerdorf\")\n",
    "\n",
    "# <ipython-input-40-d9951c504549> in allocate_seat(self, seat, passenger)\n",
    "#      51 \n",
    "#      52         if self._seating[row][letter] is not None:\n",
    "# ---> 53             raise ValueError(\"Seat {} already occupied\".format(row))\n",
    "#      54 \n",
    "#      55         self._seating[row][letter] = passenger\n",
    "\n",
    "# ValueError: Seat 12 already occupied"
   ]
  },
  {
   "cell_type": "code",
   "execution_count": 46,
   "metadata": {},
   "outputs": [],
   "source": [
    "f.allocate_seat('15F', \"Tom\")\n",
    "f.allocate_seat('15E', \"Jack\")"
   ]
  },
  {
   "cell_type": "code",
   "execution_count": 48,
   "metadata": {},
   "outputs": [],
   "source": [
    "# f.allocate_seat('E27', \"Harry\")\n",
    "\n",
    "# ---------------------------------------------------------------------------\n",
    "# ValueError                                Traceback (most recent call last)\n",
    "# <ipython-input-47-dd9a5eb30089> in <module>\n",
    "# ----> 1 f.allocate_seat('E27', \"Harry\")\n",
    "\n",
    "# <ipython-input-40-d9951c504549> in allocate_seat(self, seat, passenger)\n",
    "#      39         letter = seat[-1]\n",
    "#      40         if letter not in seat_letters:\n",
    "# ---> 41             raise ValueError(\"Invalid seat letter {}\".format(letter))\n",
    "#      42 \n",
    "#      43         row_text = seat[:-1]\n",
    "\n",
    "# ValueError: Invalid seat letter 7"
   ]
  },
  {
   "cell_type": "code",
   "execution_count": 49,
   "metadata": {},
   "outputs": [],
   "source": [
    "f.allocate_seat('1C', \"Mary\")\n",
    "f.allocate_seat('1D', \"Debbie\")"
   ]
  },
  {
   "cell_type": "code",
   "execution_count": 51,
   "metadata": {},
   "outputs": [],
   "source": [
    "# f.allocate_seat('DD', \"lucy\")\n",
    "\n",
    "# ---------------------------------------------------------------------------\n",
    "# ValueError                                Traceback (most recent call last)\n",
    "# <ipython-input-40-d9951c504549> in allocate_seat(self, seat, passenger)\n",
    "#      44         try:\n",
    "# ---> 45             row = int(row_text)\n",
    "#      46         except ValueError:\n",
    "\n",
    "# ValueError: invalid literal for int() with base 10: 'D'\n",
    "\n",
    "# During handling of the above exception, another exception occurred:\n",
    "\n",
    "# ValueError                                Traceback (most recent call last)\n",
    "# <ipython-input-50-aab02bd40bf2> in <module>\n",
    "# ----> 1 f.allocate_seat('DD', \"lucy\")\n",
    "\n",
    "# <ipython-input-40-d9951c504549> in allocate_seat(self, seat, passenger)\n",
    "#      45             row = int(row_text)\n",
    "#      46         except ValueError:\n",
    "# ---> 47             raise ValueError(\"Invalid seat row {}\".format(row_text))\n",
    "#      48 \n",
    "#      49         if row not in rows:\n",
    "\n",
    "# ValueError: Invalid seat row D"
   ]
  },
  {
   "cell_type": "code",
   "execution_count": 52,
   "metadata": {},
   "outputs": [
    {
     "data": {
      "text/plain": [
       "[None,\n",
       " {'A': None, 'B': None, 'C': 'Mary', 'D': 'Debbie', 'E': None, 'F': None},\n",
       " {'A': None, 'B': None, 'C': None, 'D': None, 'E': None, 'F': None},\n",
       " {'A': None, 'B': None, 'C': None, 'D': None, 'E': None, 'F': None},\n",
       " {'A': None, 'B': None, 'C': None, 'D': None, 'E': None, 'F': None},\n",
       " {'A': None, 'B': None, 'C': None, 'D': None, 'E': None, 'F': None},\n",
       " {'A': None, 'B': None, 'C': None, 'D': None, 'E': None, 'F': None},\n",
       " {'A': None, 'B': None, 'C': None, 'D': None, 'E': None, 'F': None},\n",
       " {'A': None, 'B': None, 'C': None, 'D': None, 'E': None, 'F': None},\n",
       " {'A': None, 'B': None, 'C': None, 'D': None, 'E': None, 'F': None},\n",
       " {'A': None, 'B': None, 'C': None, 'D': None, 'E': None, 'F': None},\n",
       " {'A': None, 'B': None, 'C': None, 'D': None, 'E': None, 'F': None},\n",
       " {'A': 'Guido van Rossum',\n",
       "  'B': None,\n",
       "  'C': None,\n",
       "  'D': None,\n",
       "  'E': None,\n",
       "  'F': None},\n",
       " {'A': None, 'B': None, 'C': None, 'D': None, 'E': None, 'F': None},\n",
       " {'A': None, 'B': None, 'C': None, 'D': None, 'E': None, 'F': None},\n",
       " {'A': None, 'B': None, 'C': None, 'D': None, 'E': 'Jack', 'F': 'Tom'},\n",
       " {'A': None, 'B': None, 'C': None, 'D': None, 'E': None, 'F': None},\n",
       " {'A': None, 'B': None, 'C': None, 'D': None, 'E': None, 'F': None},\n",
       " {'A': None, 'B': None, 'C': None, 'D': None, 'E': None, 'F': None},\n",
       " {'A': None, 'B': None, 'C': None, 'D': None, 'E': None, 'F': None},\n",
       " {'A': None, 'B': None, 'C': None, 'D': None, 'E': None, 'F': None},\n",
       " {'A': None, 'B': None, 'C': None, 'D': None, 'E': None, 'F': None},\n",
       " {'A': None, 'B': None, 'C': None, 'D': None, 'E': None, 'F': None}]"
      ]
     },
     "execution_count": 52,
     "metadata": {},
     "output_type": "execute_result"
    }
   ],
   "source": [
    "f._seating"
   ]
  },
  {
   "cell_type": "markdown",
   "metadata": {},
   "source": [
    "# 9 Defining Implementation Details"
   ]
  },
  {
   "cell_type": "code",
   "execution_count": 53,
   "metadata": {},
   "outputs": [],
   "source": [
    "class Flight:\n",
    "    \"\"\"A flight with a particular passenger aircraft\"\"\"\n",
    "\n",
    "    def __init__(self, number, aircraft):\n",
    "        if not number[:2].isalpha():\n",
    "            raise ValueError(\"No airline code in '{}'\".format(number))\n",
    "        if not number[:2].isupper():\n",
    "            raise ValueError(\"Invalid airline code '{}'\".format(number))\n",
    "        if not (number[2:].isdigit() and int(number[2:]) <= 9999):\n",
    "            raise ValueError(\"Invalid route number '{}'\".format(number))\n",
    "\n",
    "        self._number = number\n",
    "        self._aircraft = aircraft\n",
    "\n",
    "        rows, seats = self._aircraft.seating_plan()\n",
    "        self._seating = [None] + [{letter: None for letter in seats} for _ in rows]\n",
    "\n",
    "    def number(self):\n",
    "        return self._number\n",
    "\n",
    "    def airline(self):\n",
    "        return self._number[:2]\n",
    "\n",
    "    def aircraft_model(self):\n",
    "        return self._aircraft.model()\n",
    "\n",
    "    def _parse_seat(self, seat):\n",
    "        \"\"\"Parse a seat designator into a valid row and letter.\n",
    "\n",
    "        Args:\n",
    "            seat: A seat designator such as 12F\n",
    "\n",
    "        Returns:\n",
    "            A tuple containing an integer and a string for row and seat.\n",
    "        \"\"\"\n",
    "        row_numbers, seat_letters = self._aircraft.seating_plan()\n",
    "\n",
    "        letter = seat[-1]\n",
    "        if letter not in seat_letters:\n",
    "            raise ValueError(\"Invalid seat letter {}\".format(letter))\n",
    "\n",
    "        row_text = seat[:-1]\n",
    "        try:\n",
    "            row = int(row_text)\n",
    "        except ValueError:\n",
    "            raise ValueError(\"Invalid seat row {}\".format(row_text))\n",
    "\n",
    "        if row not in row_numbers:\n",
    "            raise ValueError(\"Invalid row number {}\".format(row))\n",
    "\n",
    "        return row, letter\n",
    "\n",
    "    def allocate_seat(self, seat, passenger):\n",
    "        \"\"\"Allocate a seat to a passenger.\n",
    "\n",
    "        Args:\n",
    "            seat: A seat designator such as '12C' or '21F'.\n",
    "            passenger: The passenger name.\n",
    "\n",
    "        Raises:\n",
    "            ValueError: If the seat is unavailable.\n",
    "        \"\"\"\n",
    "        row, letter = self._parse_seat(seat)\n",
    "\n",
    "        if self._seating[row][letter] is not None:\n",
    "            raise ValueError(\"Seat {} already occupied\".format(seat))\n",
    "\n",
    "        self._seating[row][letter] = passenger\n",
    "\n",
    "    def relocate_passenger(self, from_seat, to_seat):\n",
    "        \"\"\"Relocate a passenger to a different seat.\n",
    "\n",
    "        Args:\n",
    "            from_seat: The existing seat designator for the\n",
    "                       passenger to be moved.\n",
    "\n",
    "            to_seat: The new seat designator.\n",
    "        \"\"\"\n",
    "        from_row, from_letter = self._parse_seat(from_seat)\n",
    "        if self._seating[from_row][from_letter] is None:\n",
    "            raise ValueError(\"No passenger to relocate in seat {}\".format(from_seat))\n",
    "\n",
    "        to_row, to_letter = self._parse_seat(to_seat)\n",
    "        if self._seating[to_row][to_letter] is not None:\n",
    "            raise ValueError(\"Seat {} already occupied\".format(to_seat))\n",
    "\n",
    "        self._seating[to_row][to_letter] = self._seating[from_row][from_letter]\n",
    "        self._seating[from_row][from_letter] = None\n",
    "\n",
    "    def num_available_seats(self):\n",
    "        return sum(sum(1 for s in row.values() if s is None)\n",
    "                   for row in self._seating\n",
    "                   if row is not None)\n"
   ]
  },
  {
   "cell_type": "markdown",
   "metadata": {},
   "source": [
    "# 10 OO With Function Objects"
   ]
  },
  {
   "cell_type": "code",
   "execution_count": 54,
   "metadata": {},
   "outputs": [],
   "source": [
    "class Flight:\n",
    "    \"\"\"A flight with a particular passenger aircraft\"\"\"\n",
    "\n",
    "    def __init__(self, number, aircraft):\n",
    "        if not number[:2].isalpha():\n",
    "            raise ValueError(\"No airline code in '{}'\".format(number))\n",
    "        if not number[:2].isupper():\n",
    "            raise ValueError(\"Invalid airline code '{}'\".format(number))\n",
    "        if not (number[2:].isdigit() and int(number[2:]) <= 9999):\n",
    "            raise ValueError(\"Invalid route number '{}'\".format(number))\n",
    "\n",
    "        self._number = number\n",
    "        self._aircraft = aircraft\n",
    "\n",
    "        rows, seats = self._aircraft.seating_plan()\n",
    "        self._seating = [None] + [{letter: None for letter in seats} for _ in rows]\n",
    "\n",
    "    def number(self):\n",
    "        return self._number\n",
    "\n",
    "    def airline(self):\n",
    "        return self._number[:2]\n",
    "\n",
    "    def aircraft_model(self):\n",
    "        return self._aircraft.model()\n",
    "\n",
    "    def _parse_seat(self, seat):\n",
    "        \"\"\"Parse a seat designator into a valid row and letter.\n",
    "\n",
    "        Args:\n",
    "            seat: A seat designator such as 12F\n",
    "\n",
    "        Returns:\n",
    "            A tuple containing an integer and a string for row and seat.\n",
    "        \"\"\"\n",
    "        row_numbers, seat_letters = self._aircraft.seating_plan()\n",
    "\n",
    "        letter = seat[-1]\n",
    "        if letter not in seat_letters:\n",
    "            raise ValueError(\"Invalid seat letter {}\".format(letter))\n",
    "\n",
    "        row_text = seat[:-1]\n",
    "        try:\n",
    "            row = int(row_text)\n",
    "        except ValueError:\n",
    "            raise ValueError(\"Invalid seat row {}\".format(row_text))\n",
    "\n",
    "        if row not in row_numbers:\n",
    "            raise ValueError(\"Invalid row number {}\".format(row))\n",
    "\n",
    "        return row, letter\n",
    "\n",
    "    def allocate_seat(self, seat, passenger):\n",
    "        \"\"\"Allocate a seat to a passenger.\n",
    "\n",
    "        Args:\n",
    "            seat: A seat designator such as '12C' or '21F'.\n",
    "            passenger: The passenger name.\n",
    "\n",
    "        Raises:\n",
    "            ValueError: If the seat is unavailable.\n",
    "        \"\"\"\n",
    "        row, letter = self._parse_seat(seat)\n",
    "\n",
    "        if self._seating[row][letter] is not None:\n",
    "            raise ValueError(\"Seat {} already occupied\".format(seat))\n",
    "\n",
    "        self._seating[row][letter] = passenger\n",
    "\n",
    "    def relocate_passenger(self, from_seat, to_seat):\n",
    "        \"\"\"Relocate a passenger to a different seat.\n",
    "\n",
    "        Args:\n",
    "            from_seat: The existing seat designator for the\n",
    "                       passenger to be moved.\n",
    "\n",
    "            to_seat: The new seat designator.\n",
    "        \"\"\"\n",
    "        from_row, from_letter = self._parse_seat(from_seat)\n",
    "        if self._seating[from_row][from_letter] is None:\n",
    "            raise ValueError(\"No passenger to relocate in seat {}\".format(from_seat))\n",
    "\n",
    "        to_row, to_letter = self._parse_seat(to_seat)\n",
    "        if self._seating[to_row][to_letter] is not None:\n",
    "            raise ValueError(\"Seat {} already occupied\".format(to_seat))\n",
    "\n",
    "        self._seating[to_row][to_letter] = self._seating[from_row][from_letter]\n",
    "        self._seating[from_row][from_letter] = None\n",
    "\n",
    "    def num_available_seats(self):\n",
    "        return sum(sum(1 for s in row.values() if s is None)\n",
    "                   for row in self._seating\n",
    "                   if row is not None)\n",
    "\n",
    "    def _passenger_seats(self):\n",
    "        \"\"\"An iterable series of passenger seating allocations.\"\"\"\n",
    "        row_numbers, seat_letters = self._aircraft.seating_plan()\n",
    "        for row in row_numbers:\n",
    "            for letter in seat_letters:\n",
    "                passenger = self._seating[row][letter]\n",
    "                if passenger is not None:\n",
    "                    yield (passenger, \"{}{}\".format(row, letter))\n",
    "\n",
    "    def make_boarding_cards(self, card_printer):\n",
    "        for passenger, seat in sorted(self._passenger_seats()):\n",
    "            card_printer(passenger, seat, self.number(), self.aircraft_model())\n",
    "\n",
    "\n",
    "class Aircraft:\n",
    "\n",
    "    def __init__(self, registration, model, num_rows, num_seats_per_row):\n",
    "        self._registration = registration\n",
    "        self._model = model\n",
    "        self._num_rows = num_rows\n",
    "        self._num_seats_per_row = num_seats_per_row\n",
    "\n",
    "    def registration(self):\n",
    "        return self._registration\n",
    "\n",
    "    def model(self):\n",
    "        return self._model\n",
    "\n",
    "    def seating_plan(self):\n",
    "        return range(1, self._num_rows + 1), 'ABCDEFGHJK'[:self._num_seats_per_row]\n",
    "\n",
    "\n",
    "def make_flights():\n",
    "    f = Flight(\"BA758\", Aircraft(\"G-EUPT\", \"Airbus A319\", num_rows=22, num_seats_per_row=6))\n",
    "    f.allocate_seat('12A', 'Guido van Rossum')\n",
    "    f.allocate_seat('15F', 'Bjarne Stroustrup')\n",
    "    f.allocate_seat('15E', 'Anders Hejlsberg')\n",
    "    f.allocate_seat('1C', 'John McCarthy')\n",
    "    f.allocate_seat('1D', 'Richard Hickey')\n",
    "\n",
    "    return f\n",
    "\n",
    "\n",
    "def console_card_printer(passenger, seat, flight_number, aircraft):\n",
    "    output = \"| Name: {0}\"     \\\n",
    "             \"  Flight: {1}\"   \\\n",
    "             \"  Seat: {2}\"     \\\n",
    "             \"  Aircraft: {3}\" \\\n",
    "             \" |\".format(passenger, flight_number, seat, aircraft)\n",
    "    banner = '+' + '-' * (len(output) - 2) + '+'\n",
    "    border = '|' + ' ' * (len(output) - 2) + '|'\n",
    "    lines = [banner, border, output, border, banner]\n",
    "    card = '\\n'.join(lines)\n",
    "    print(card)\n",
    "    print()\n"
   ]
  },
  {
   "cell_type": "code",
   "execution_count": 56,
   "metadata": {},
   "outputs": [],
   "source": [
    "f = make_flights()"
   ]
  },
  {
   "cell_type": "code",
   "execution_count": 57,
   "metadata": {},
   "outputs": [
    {
     "name": "stdout",
     "output_type": "stream",
     "text": [
      "+-------------------------------------------------------------------------+\n",
      "|                                                                         |\n",
      "| Name: Anders Hejlsberg  Flight: BA758  Seat: 15E  Aircraft: Airbus A319 |\n",
      "|                                                                         |\n",
      "+-------------------------------------------------------------------------+\n",
      "\n",
      "+--------------------------------------------------------------------------+\n",
      "|                                                                          |\n",
      "| Name: Bjarne Stroustrup  Flight: BA758  Seat: 15F  Aircraft: Airbus A319 |\n",
      "|                                                                          |\n",
      "+--------------------------------------------------------------------------+\n",
      "\n",
      "+-------------------------------------------------------------------------+\n",
      "|                                                                         |\n",
      "| Name: Guido van Rossum  Flight: BA758  Seat: 12A  Aircraft: Airbus A319 |\n",
      "|                                                                         |\n",
      "+-------------------------------------------------------------------------+\n",
      "\n",
      "+---------------------------------------------------------------------+\n",
      "|                                                                     |\n",
      "| Name: John McCarthy  Flight: BA758  Seat: 1C  Aircraft: Airbus A319 |\n",
      "|                                                                     |\n",
      "+---------------------------------------------------------------------+\n",
      "\n",
      "+----------------------------------------------------------------------+\n",
      "|                                                                      |\n",
      "| Name: Richard Hickey  Flight: BA758  Seat: 1D  Aircraft: Airbus A319 |\n",
      "|                                                                      |\n",
      "+----------------------------------------------------------------------+\n",
      "\n"
     ]
    }
   ],
   "source": [
    "f.make_boarding_cards(console_card_printer)"
   ]
  },
  {
   "cell_type": "markdown",
   "metadata": {},
   "source": [
    "# 10 OO With Function Objects"
   ]
  },
  {
   "cell_type": "code",
   "execution_count": 58,
   "metadata": {},
   "outputs": [],
   "source": [
    "class AirbusA319:\n",
    "\n",
    "    def __init__(self, registration):\n",
    "        self._registration = registration\n",
    "\n",
    "    def registration(self):\n",
    "        return self._registration\n",
    "\n",
    "    def model(self):\n",
    "        return \"Airbus A319\"\n",
    "\n",
    "    def seating_plan(self):\n",
    "        return range(1, 23), \"ABCDEF\"\n",
    "\n",
    "\n",
    "class Boeing777:\n",
    "\n",
    "    def __init__(self, registration):\n",
    "        self._registration = registration\n",
    "\n",
    "    def model(self):\n",
    "        return \"Boeing 777\"\n",
    "\n",
    "    def seating_plan(self):\n",
    "        # For simplicity's sake, we ignore complex\n",
    "        # seating arrangement for first-class\n",
    "        return range(1, 56), \"ABCDEGHJK\""
   ]
  },
  {
   "cell_type": "code",
   "execution_count": 59,
   "metadata": {},
   "outputs": [],
   "source": [
    "def make_flights():\n",
    "    f = Flight(\"BA758\", AirbusA319(\"G-EUPT\"))\n",
    "    f.allocate_seat('12A', 'Guido van Rossum')\n",
    "    f.allocate_seat('15F', 'Bjarne Stroustrup')\n",
    "    f.allocate_seat('15E', 'Anders Hejlsberg')\n",
    "    f.allocate_seat('1C', 'John McCarthy')\n",
    "    f.allocate_seat('1D', 'Richard Hickey')\n",
    "\n",
    "    g = Flight(\"AF72\", Boeing777(\"F-GSPS\"))\n",
    "    g.allocate_seat('55K', 'Larry Wall')\n",
    "    g.allocate_seat('33G', 'Yukihiro Matsumoto')\n",
    "    g.allocate_seat('4B', 'Brian Kernighan')\n",
    "    g.allocate_seat('4A', 'Dennis Ritchie')\n",
    "\n",
    "    return f, g\n",
    "\n",
    "\n",
    "def console_card_printer(passenger, seat, flight_number, aircraft):\n",
    "    output = \"| Name: {0}\"     \\\n",
    "             \"  Flight: {1}\"   \\\n",
    "             \"  Seat: {2}\"     \\\n",
    "             \"  Aircraft: {3}\" \\\n",
    "             \" |\".format(passenger, flight_number, seat, aircraft)\n",
    "    banner = '+' + '-' * (len(output) - 2) + '+'\n",
    "    border = '|' + ' ' * (len(output) - 2) + '|'\n",
    "    lines = [banner, border, output, border, banner]\n",
    "    card = '\\n'.join(lines)\n",
    "    print(card)\n",
    "    print()\n"
   ]
  },
  {
   "cell_type": "code",
   "execution_count": 60,
   "metadata": {},
   "outputs": [],
   "source": [
    "f, g = make_flights()"
   ]
  },
  {
   "cell_type": "code",
   "execution_count": 61,
   "metadata": {},
   "outputs": [
    {
     "data": {
      "text/plain": [
       "'Airbus A319'"
      ]
     },
     "execution_count": 61,
     "metadata": {},
     "output_type": "execute_result"
    }
   ],
   "source": [
    "f.aircraft_model()"
   ]
  },
  {
   "cell_type": "code",
   "execution_count": 62,
   "metadata": {},
   "outputs": [
    {
     "data": {
      "text/plain": [
       "'Boeing 777'"
      ]
     },
     "execution_count": 62,
     "metadata": {},
     "output_type": "execute_result"
    }
   ],
   "source": [
    "g.aircraft_model()"
   ]
  },
  {
   "cell_type": "code",
   "execution_count": 63,
   "metadata": {},
   "outputs": [
    {
     "data": {
      "text/plain": [
       "127"
      ]
     },
     "execution_count": 63,
     "metadata": {},
     "output_type": "execute_result"
    }
   ],
   "source": [
    "f.num_available_seats()"
   ]
  },
  {
   "cell_type": "code",
   "execution_count": 64,
   "metadata": {},
   "outputs": [
    {
     "data": {
      "text/plain": [
       "491"
      ]
     },
     "execution_count": 64,
     "metadata": {},
     "output_type": "execute_result"
    }
   ],
   "source": [
    "g.num_available_seats()"
   ]
  },
  {
   "cell_type": "markdown",
   "metadata": {},
   "source": [
    "# 11 Inheritance and Implementation Sharing"
   ]
  },
  {
   "cell_type": "code",
   "execution_count": 65,
   "metadata": {},
   "outputs": [],
   "source": [
    "class Aircraft:\n",
    "\n",
    "    def __init__(self, registration):\n",
    "        self._registration = registration\n",
    "\n",
    "    def registration(self):\n",
    "        return self._registration\n",
    "\n",
    "    def num_seats(self):\n",
    "        rows, row_seats = self.seating_plan()\n",
    "        return len(rows) * len(row_seats)\n",
    "\n",
    "\n",
    "class AirbusA319(Aircraft):\n",
    "\n",
    "    def model(self):\n",
    "        return \"Airbus A319\"\n",
    "\n",
    "    def seating_plan(self):\n",
    "        return range(1, 23), \"ABCDEF\"\n",
    "\n",
    "\n",
    "class Boeing777(Aircraft):\n",
    "\n",
    "    def model(self):\n",
    "        return \"Boeing 777\"\n",
    "\n",
    "    def seating_plan(self):\n",
    "        # For simplicity's sake, we ignore complex\n",
    "        # seating arrangement for first-class\n",
    "        return range(1, 56), \"ABCDEGHJK\""
   ]
  },
  {
   "cell_type": "code",
   "execution_count": 66,
   "metadata": {},
   "outputs": [
    {
     "data": {
      "text/plain": [
       "132"
      ]
     },
     "execution_count": 66,
     "metadata": {},
     "output_type": "execute_result"
    }
   ],
   "source": [
    "a = AirbusA319(\"G-EZBT\")\n",
    "a.num_seats()"
   ]
  },
  {
   "cell_type": "code",
   "execution_count": 68,
   "metadata": {},
   "outputs": [
    {
     "data": {
      "text/plain": [
       "495"
      ]
     },
     "execution_count": 68,
     "metadata": {},
     "output_type": "execute_result"
    }
   ],
   "source": [
    "b = Boeing777(\"N717AN\")\n",
    "b.num_seats()"
   ]
  },
  {
   "cell_type": "code",
   "execution_count": null,
   "metadata": {},
   "outputs": [],
   "source": []
  }
 ],
 "metadata": {
  "kernelspec": {
   "display_name": "Python 3",
   "language": "python",
   "name": "python3"
  },
  "language_info": {
   "codemirror_mode": {
    "name": "ipython",
    "version": 3
   },
   "file_extension": ".py",
   "mimetype": "text/x-python",
   "name": "python",
   "nbconvert_exporter": "python",
   "pygments_lexer": "ipython3",
   "version": "3.7.3"
  }
 },
 "nbformat": 4,
 "nbformat_minor": 2
}
