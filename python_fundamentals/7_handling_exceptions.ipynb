{
 "cells": [
  {
   "cell_type": "markdown",
   "metadata": {},
   "source": [
    "# 2 Exceptions and Control Flow"
   ]
  },
  {
   "cell_type": "code",
   "execution_count": 1,
   "metadata": {},
   "outputs": [],
   "source": [
    "def convert(s):\n",
    "    \"\"\"Convert to an integer.\"\"\"\n",
    "    x = int(s)\n",
    "    return x"
   ]
  },
  {
   "cell_type": "code",
   "execution_count": 2,
   "metadata": {},
   "outputs": [
    {
     "data": {
      "text/plain": [
       "33"
      ]
     },
     "execution_count": 2,
     "metadata": {},
     "output_type": "execute_result"
    }
   ],
   "source": [
    "convert(\"33\")"
   ]
  },
  {
   "cell_type": "code",
   "execution_count": 3,
   "metadata": {},
   "outputs": [],
   "source": [
    "# convert(\"hello\")\n",
    "\n",
    "# ---------------------------------------------------------------------------\n",
    "# ValueError                                Traceback (most recent call last)\n",
    "# <ipython-input-6-7249421f36cc> in <module>\n",
    "# ----> 1 convert(\"hello\")\n",
    "\n",
    "# <ipython-input-4-e3e8bb049027> in convert(s)\n",
    "#       1 def convert(s):\n",
    "#       2     \"\"\"Convert to an integer.\"\"\"\n",
    "# ----> 3     x = int(s)\n",
    "#       4     return x\n",
    "\n",
    "# ValueError: invalid literal for int() with base 10: 'hello'"
   ]
  },
  {
   "cell_type": "markdown",
   "metadata": {},
   "source": [
    "# 3 Handling Exceptions"
   ]
  },
  {
   "cell_type": "code",
   "execution_count": 7,
   "metadata": {},
   "outputs": [],
   "source": [
    "def convert(s):\n",
    "    \"\"\"Convert to an integer.\"\"\"\n",
    "    try:\n",
    "        x = int(s)\n",
    "        print(\"Conversion succeeded! x = \", x)\n",
    "    except ValueError:\n",
    "        print(\"Conversion failed!\")\n",
    "        x = -1\n",
    "\n",
    "    return x"
   ]
  },
  {
   "cell_type": "code",
   "execution_count": 8,
   "metadata": {},
   "outputs": [
    {
     "name": "stdout",
     "output_type": "stream",
     "text": [
      "Conversion succeeded! x =  34\n"
     ]
    },
    {
     "data": {
      "text/plain": [
       "34"
      ]
     },
     "execution_count": 8,
     "metadata": {},
     "output_type": "execute_result"
    }
   ],
   "source": [
    "convert(\"34\")"
   ]
  },
  {
   "cell_type": "code",
   "execution_count": 9,
   "metadata": {},
   "outputs": [
    {
     "name": "stdout",
     "output_type": "stream",
     "text": [
      "Conversion failed!\n"
     ]
    },
    {
     "data": {
      "text/plain": [
       "-1"
      ]
     },
     "execution_count": 9,
     "metadata": {},
     "output_type": "execute_result"
    }
   ],
   "source": [
    "convert(\"giraffe\")"
   ]
  },
  {
   "cell_type": "code",
   "execution_count": 11,
   "metadata": {},
   "outputs": [],
   "source": [
    "# convert([1, 2, 3])\n",
    "\n",
    "# ---------------------------------------------------------------------------\n",
    "# TypeError                                 Traceback (most recent call last)\n",
    "# <ipython-input-10-d51979dc6c2c> in <module>\n",
    "# ----> 1 convert([1, 2, 3])\n",
    "\n",
    "# <ipython-input-7-866fb15ba101> in convert(s)\n",
    "#       2     \"\"\"Convert to an integer.\"\"\"\n",
    "#       3     try:\n",
    "# ----> 4         x = int(s)\n",
    "#       5         print(\"Conversion succeeded! x = \", x)\n",
    "#       6     except ValueError:\n",
    "\n",
    "# TypeError: int() argument must be a string, a bytes-like object or a number, not 'list'"
   ]
  },
  {
   "cell_type": "code",
   "execution_count": 12,
   "metadata": {},
   "outputs": [],
   "source": [
    "def convert(s):\n",
    "    \"\"\"Convert to an integer.\"\"\"\n",
    "    x = -1\n",
    "    try:\n",
    "        x = int(s)\n",
    "        print(\"Conversion succeeded! x = \", x)\n",
    "    except ValueError:\n",
    "        print(\"Conversion failed!\")\n",
    "    except TypeError:\n",
    "        print(\"Conversion failed!\")\n",
    "\n",
    "    return x"
   ]
  },
  {
   "cell_type": "code",
   "execution_count": 13,
   "metadata": {},
   "outputs": [
    {
     "name": "stdout",
     "output_type": "stream",
     "text": [
      "Conversion failed!\n"
     ]
    },
    {
     "data": {
      "text/plain": [
       "-1"
      ]
     },
     "execution_count": 13,
     "metadata": {},
     "output_type": "execute_result"
    }
   ],
   "source": [
    "convert([1, 2, 3])"
   ]
  },
  {
   "cell_type": "code",
   "execution_count": 14,
   "metadata": {},
   "outputs": [],
   "source": [
    "def convert(s):\n",
    "    \"\"\"Convert to an integer.\"\"\"\n",
    "    x = -1\n",
    "    try:\n",
    "        x = int(s)\n",
    "        print(\"Conversion succeeded! x = \", x)\n",
    "    except (ValueError, TypeError):\n",
    "        print(\"Conversion failed!\")\n",
    "\n",
    "    return x"
   ]
  },
  {
   "cell_type": "code",
   "execution_count": 15,
   "metadata": {},
   "outputs": [
    {
     "name": "stdout",
     "output_type": "stream",
     "text": [
      "Conversion failed!\n"
     ]
    },
    {
     "data": {
      "text/plain": [
       "-1"
      ]
     },
     "execution_count": 15,
     "metadata": {},
     "output_type": "execute_result"
    }
   ],
   "source": [
    "convert([1, 2, 3])"
   ]
  },
  {
   "cell_type": "markdown",
   "metadata": {},
   "source": [
    "# 4 Programmer Errors"
   ]
  },
  {
   "cell_type": "code",
   "execution_count": 16,
   "metadata": {},
   "outputs": [],
   "source": [
    "import sys\n",
    "\n",
    "\n",
    "def convert(s):\n",
    "    \"\"\"Convert to an integer.\"\"\"\n",
    "    try:\n",
    "        return int(s)\n",
    "    except (ValueError, TypeError) as e:\n",
    "        print(\"Conversion error:{}\".format(str(e)), file=sys.stderr)\n",
    "        return -1"
   ]
  },
  {
   "cell_type": "code",
   "execution_count": 17,
   "metadata": {},
   "outputs": [
    {
     "name": "stderr",
     "output_type": "stream",
     "text": [
      "Conversion error:invalid literal for int() with base 10: 'fail'\n"
     ]
    },
    {
     "data": {
      "text/plain": [
       "-1"
      ]
     },
     "execution_count": 17,
     "metadata": {},
     "output_type": "execute_result"
    }
   ],
   "source": [
    "convert(\"fail\")"
   ]
  },
  {
   "cell_type": "markdown",
   "metadata": {},
   "source": [
    "# 5 Imprudent Error Codes"
   ]
  },
  {
   "cell_type": "code",
   "execution_count": 19,
   "metadata": {},
   "outputs": [],
   "source": [
    "from math import log\n",
    "\n",
    "\n",
    "def string_log(s):\n",
    "    v = convert(s)\n",
    "    \n",
    "    return log(v)"
   ]
  },
  {
   "cell_type": "code",
   "execution_count": 21,
   "metadata": {},
   "outputs": [],
   "source": [
    "# string_log('ouch')\n",
    "\n",
    "# Conversion error:invalid literal for int() with base 10: 'ouch'\n",
    "# ---------------------------------------------------------------------------\n",
    "# ValueError                                Traceback (most recent call last)\n",
    "# <ipython-input-20-d0d1cf34abf6> in <module>\n",
    "# ----> 1 string_log('ouch')\n",
    "\n",
    "# <ipython-input-19-f2306fc638a6> in string_log(s)\n",
    "#       5     v = convert(s)\n",
    "#       6 \n",
    "# ----> 7     return log(v)\n",
    "\n",
    "# ValueError: math domain error"
   ]
  },
  {
   "cell_type": "markdown",
   "metadata": {},
   "source": [
    "# 6 Re-Raising Exceptions"
   ]
  },
  {
   "cell_type": "code",
   "execution_count": 22,
   "metadata": {},
   "outputs": [],
   "source": [
    "import sys\n",
    "\n",
    "\n",
    "def convert(s):\n",
    "    \"\"\"Convert to an integer.\"\"\"\n",
    "    try:\n",
    "        return int(s)\n",
    "    except (ValueError, TypeError) as e:\n",
    "        print(\"Conversion error:{}\".format(str(e)), file=sys.stderr)\n",
    "        raise"
   ]
  },
  {
   "cell_type": "code",
   "execution_count": 23,
   "metadata": {},
   "outputs": [
    {
     "data": {
      "text/plain": [
       "3.2188758248682006"
      ]
     },
     "execution_count": 23,
     "metadata": {},
     "output_type": "execute_result"
    }
   ],
   "source": [
    "string_log('25')"
   ]
  },
  {
   "cell_type": "code",
   "execution_count": 25,
   "metadata": {},
   "outputs": [],
   "source": [
    "# string_log('cat')\n",
    "\n",
    "# Conversion error:invalid literal for int() with base 10: 'cat'\n",
    "# ---------------------------------------------------------------------------\n",
    "# ValueError                                Traceback (most recent call last)\n",
    "# <ipython-input-24-f90c6add0729> in <module>\n",
    "# ----> 1 string_log('cat')\n",
    "\n",
    "# <ipython-input-19-f2306fc638a6> in string_log(s)\n",
    "#       3 \n",
    "#       4 def string_log(s):\n",
    "# ----> 5     v = convert(s)\n",
    "#       6 \n",
    "#       7     return log(v)\n",
    "\n",
    "# <ipython-input-22-28ee84d46148> in convert(s)\n",
    "#       5     \"\"\"Convert to an integer.\"\"\"\n",
    "#       6     try:\n",
    "# ----> 7         return int(s)\n",
    "#       8     except (ValueError, TypeError) as e:\n",
    "#       9         print(\"Conversion error:{}\".format(str(e)), file=sys.stderr)\n",
    "\n",
    "# ValueError: invalid literal for int() with base 10: 'cat'"
   ]
  },
  {
   "cell_type": "code",
   "execution_count": 27,
   "metadata": {},
   "outputs": [],
   "source": [
    "# string_log([5, 3, 1])\n",
    "\n",
    "# Conversion error:int() argument must be a string, a bytes-like object or a number, not 'list'\n",
    "# ---------------------------------------------------------------------------\n",
    "# TypeError                                 Traceback (most recent call last)\n",
    "# <ipython-input-26-c256e69658a7> in <module>\n",
    "# ----> 1 string_log([5, 3, 1])\n",
    "\n",
    "# <ipython-input-19-f2306fc638a6> in string_log(s)\n",
    "#       3 \n",
    "#       4 def string_log(s):\n",
    "# ----> 5     v = convert(s)\n",
    "#       6 \n",
    "#       7     return log(v)\n",
    "\n",
    "# <ipython-input-22-28ee84d46148> in convert(s)\n",
    "#       5     \"\"\"Convert to an integer.\"\"\"\n",
    "#       6     try:\n",
    "# ----> 7         return int(s)\n",
    "#       8     except (ValueError, TypeError) as e:\n",
    "#       9         print(\"Conversion error:{}\".format(str(e)), file=sys.stderr)\n",
    "\n",
    "# TypeError: int() argument must be a string, a bytes-like object or a number, not 'list'"
   ]
  },
  {
   "cell_type": "markdown",
   "metadata": {},
   "source": [
    "# 7 Exceptions as APIs"
   ]
  },
  {
   "cell_type": "code",
   "execution_count": 28,
   "metadata": {},
   "outputs": [],
   "source": [
    "def sqrt(x):\n",
    "    guess = x\n",
    "    i = 0\n",
    "    while guess * guess != x and i < 20:\n",
    "        guess = (guess + x / guess) / 2.0\n",
    "        i += 1\n",
    "\n",
    "    return guess"
   ]
  },
  {
   "cell_type": "code",
   "execution_count": 29,
   "metadata": {},
   "outputs": [
    {
     "data": {
      "text/plain": [
       "3.0"
      ]
     },
     "execution_count": 29,
     "metadata": {},
     "output_type": "execute_result"
    }
   ],
   "source": [
    "sqrt(9)"
   ]
  },
  {
   "cell_type": "code",
   "execution_count": 30,
   "metadata": {},
   "outputs": [
    {
     "data": {
      "text/plain": [
       "1.414213562373095"
      ]
     },
     "execution_count": 30,
     "metadata": {},
     "output_type": "execute_result"
    }
   ],
   "source": [
    "sqrt(2)"
   ]
  },
  {
   "cell_type": "code",
   "execution_count": 32,
   "metadata": {},
   "outputs": [],
   "source": [
    "# sqrt(-1)\n",
    "\n",
    "# ---------------------------------------------------------------------------\n",
    "# ZeroDivisionError                         Traceback (most recent call last)\n",
    "# <ipython-input-31-dc0ac523cb01> in <module>\n",
    "# ----> 1 sqrt(-1)\n",
    "\n",
    "# <ipython-input-28-b077d38e3a47> in sqrt(x)\n",
    "#       3     i = 0\n",
    "#       4     while guess * guess != x and i < 20:\n",
    "# ----> 5         guess = (guess + x / guess) / 2.0\n",
    "#       6         i += 1\n",
    "#       7 \n",
    "\n",
    "# ZeroDivisionError: float division by zero"
   ]
  },
  {
   "cell_type": "code",
   "execution_count": 34,
   "metadata": {},
   "outputs": [
    {
     "name": "stdout",
     "output_type": "stream",
     "text": [
      "Cannot compute square root of a negative number.\n",
      "Program execution continues normally here.\n"
     ]
    }
   ],
   "source": [
    "try:\n",
    "    print(sqrt(-1))\n",
    "    print(\"This is never printed.\")\n",
    "except ZeroDivisionError:\n",
    "    print(\"Cannot compute square root of a negative number.\")\n",
    "    \n",
    "print(\"Program execution continues normally here.\")"
   ]
  },
  {
   "cell_type": "code",
   "execution_count": 35,
   "metadata": {},
   "outputs": [],
   "source": [
    "def sqrt(x):\n",
    "    \"\"\"Compute square roots using the method of Heron of Alexandria.\n",
    "    \n",
    "    Args:\n",
    "        x: The number for which the square root is to be computed.\n",
    "        \n",
    "    Returns:\n",
    "        The square root of x.\n",
    "        \n",
    "    Raises:\n",
    "        ValueError: If x is negative.\n",
    "    \"\"\"\n",
    "    if x < 0:\n",
    "        raise ValueError(\"Cannot compute square root of a negative number {}\".format(x))\n",
    "\n",
    "    guess = x\n",
    "    i = 0\n",
    "    while guess * guess != x and i < 20:\n",
    "        guess = (guess + x / guess) / 2.0\n",
    "        i += 1\n",
    "\n",
    "    return guess"
   ]
  },
  {
   "cell_type": "code",
   "execution_count": 36,
   "metadata": {},
   "outputs": [
    {
     "name": "stdout",
     "output_type": "stream",
     "text": [
      "Program execution continues normally here.\n"
     ]
    },
    {
     "name": "stderr",
     "output_type": "stream",
     "text": [
      "Cannot compute square root of a negative number -1\n"
     ]
    }
   ],
   "source": [
    "import sys\n",
    "\n",
    "\n",
    "try:\n",
    "    print(sqrt(-1))\n",
    "    print(\"This is never printed.\")\n",
    "except ValueError as e:\n",
    "    print(e, file=sys.stderr)\n",
    "\n",
    "print(\"Program execution continues normally here.\")"
   ]
  },
  {
   "cell_type": "markdown",
   "metadata": {},
   "source": [
    "# 8 Exceptions, APIs, and Protocols"
   ]
  },
  {
   "cell_type": "code",
   "execution_count": 38,
   "metadata": {},
   "outputs": [],
   "source": [
    "# z = [1, 4, 2]\n",
    "# z[4]\n",
    "\n",
    "# ---------------------------------------------------------------------------\n",
    "# IndexError                                Traceback (most recent call last)\n",
    "# <ipython-input-37-c789ad6bea0e> in <module>\n",
    "#       1 z = [1, 4, 2]\n",
    "# ----> 2 z[4]\n",
    "\n",
    "# IndexError: list index out of range"
   ]
  },
  {
   "cell_type": "code",
   "execution_count": 40,
   "metadata": {},
   "outputs": [],
   "source": [
    "# int('Jim')\n",
    "\n",
    "# ---------------------------------------------------------------------------\n",
    "# ValueError                                Traceback (most recent call last)\n",
    "# <ipython-input-39-a51bc1e729c0> in <module>\n",
    "# ----> 1 int('Jim')\n",
    "\n",
    "# ValueError: invalid literal for int() with base 10: 'Jim'"
   ]
  },
  {
   "cell_type": "code",
   "execution_count": 43,
   "metadata": {},
   "outputs": [],
   "source": [
    "# codes = dict(gb=44, us=1, no=47, fr=33, es=34)\n",
    "# codes['de']\n",
    "\n",
    "# ---------------------------------------------------------------------------\n",
    "# KeyError                                  Traceback (most recent call last)\n",
    "# <ipython-input-41-e7e8a641351f> in <module>\n",
    "#       1 codes = dict(gb=44, us=1, no=47, fr=33, es=34)\n",
    "# ----> 2 codes['de']\n",
    "\n",
    "# KeyError: 'de'"
   ]
  },
  {
   "cell_type": "markdown",
   "metadata": {},
   "source": [
    "# 9 Do Not Guard Against Type Errors"
   ]
  },
  {
   "cell_type": "code",
   "execution_count": 44,
   "metadata": {},
   "outputs": [],
   "source": [
    "# import sys\n",
    "\n",
    "\n",
    "# def convert(s):\n",
    "#     \"\"\"Convert to an integer.\"\"\"\n",
    "#     # Don't do this\n",
    "#     ##############################\n",
    "#     if not isinstance(s, str):\n",
    "#         raise TypeError(\"Argument must be a string\")\n",
    "#     ##############################\n",
    "    \n",
    "#     try:\n",
    "#         return int(s)\n",
    "#     except (ValueError, TypeError) as e:\n",
    "#         print(\"Conversion error:{}\".format(str(e)), file=sys.stderr)\n",
    "#         raise"
   ]
  },
  {
   "cell_type": "markdown",
   "metadata": {},
   "source": [
    "# 10 EAFP vs. LBYL"
   ]
  },
  {
   "cell_type": "code",
   "execution_count": 48,
   "metadata": {},
   "outputs": [],
   "source": [
    "def process_file(p):\n",
    "    pass"
   ]
  },
  {
   "cell_type": "code",
   "execution_count": 49,
   "metadata": {},
   "outputs": [],
   "source": [
    "# Don't do this\n",
    "\n",
    "# import os\n",
    "\n",
    "# p = '/path/to/datafile.dat'\n",
    "\n",
    "# if os.path.exists(p):\n",
    "#     process_file(p)\n",
    "# else:\n",
    "#     print(\"No such file as {}\".format(p))"
   ]
  },
  {
   "cell_type": "code",
   "execution_count": 50,
   "metadata": {},
   "outputs": [],
   "source": [
    "p = '/path/to/datafile.dat'\n",
    "\n",
    "try:\n",
    "    process_file(p)\n",
    "except OSError as e:\n",
    "    print(\"Could not process file because{}\".format(str(e)))"
   ]
  },
  {
   "cell_type": "markdown",
   "metadata": {},
   "source": [
    "# 11 Clean-Up Actions"
   ]
  },
  {
   "cell_type": "code",
   "execution_count": 51,
   "metadata": {},
   "outputs": [],
   "source": [
    "import os\n",
    "import sys\n",
    "\n",
    "\n",
    "def make_at(path, dir_name):\n",
    "    original_path = os.getcwd()\n",
    "    try:\n",
    "        os.chdir(path)\n",
    "        os.mkdir(dir_name)\n",
    "    except OSError as e:\n",
    "        print(e, file=sys.stderr)\n",
    "        raise\n",
    "    finally:\n",
    "        os.chdir(original_path)"
   ]
  },
  {
   "cell_type": "code",
   "execution_count": null,
   "metadata": {},
   "outputs": [],
   "source": []
  }
 ],
 "metadata": {
  "kernelspec": {
   "display_name": "Python 3",
   "language": "python",
   "name": "python3"
  },
  "language_info": {
   "codemirror_mode": {
    "name": "ipython",
    "version": 3
   },
   "file_extension": ".py",
   "mimetype": "text/x-python",
   "name": "python",
   "nbconvert_exporter": "python",
   "pygments_lexer": "ipython3",
   "version": "3.7.3"
  }
 },
 "nbformat": 4,
 "nbformat_minor": 2
}
